{
 "cells": [
  {
   "cell_type": "markdown",
   "metadata": {
    "id": "3RHDK81QqrET"
   },
   "source": [
    "# Finetune ruGPT3Small on fun fiction collection\n",
    "\n"
   ]
  },
  {
   "cell_type": "markdown",
   "metadata": {
    "id": "eK10D3MSpYty"
   },
   "source": [
    "## Install enviroment"
   ]
  },
  {
   "cell_type": "code",
   "execution_count": 2,
   "metadata": {
    "colab": {
     "base_uri": "https://localhost:8080/"
    },
    "id": "asqMueYPeIgK",
    "outputId": "d4d2cff4-2d36-4021-f552-f81e0d576497"
   },
   "outputs": [
    {
     "name": "stdout",
     "output_type": "stream",
     "text": [
      "Requirement already satisfied: urllib3==1.25.4 in /usr/local/lib/python3.6/dist-packages (1.25.4)\n"
     ]
    }
   ],
   "source": [
    "!pip3 install urllib3==1.25.4"
   ]
  },
  {
   "cell_type": "code",
   "execution_count": 3,
   "metadata": {
    "colab": {
     "base_uri": "https://localhost:8080/"
    },
    "id": "yPqtVgbkeTx7",
    "outputId": "a0a06731-6772-4829-d144-61b00d154978"
   },
   "outputs": [
    {
     "name": "stdout",
     "output_type": "stream",
     "text": [
      "Requirement already satisfied: transformers==2.8.0 in /usr/local/lib/python3.6/dist-packages (2.8.0)\n",
      "Requirement already satisfied: requests in /usr/local/lib/python3.6/dist-packages (from transformers==2.8.0) (2.23.0)\n",
      "Requirement already satisfied: tokenizers==0.5.2 in /usr/local/lib/python3.6/dist-packages (from transformers==2.8.0) (0.5.2)\n",
      "Requirement already satisfied: sentencepiece in /usr/local/lib/python3.6/dist-packages (from transformers==2.8.0) (0.1.94)\n",
      "Requirement already satisfied: tqdm>=4.27 in /usr/local/lib/python3.6/dist-packages (from transformers==2.8.0) (4.41.1)\n",
      "Requirement already satisfied: sacremoses in /usr/local/lib/python3.6/dist-packages (from transformers==2.8.0) (0.0.43)\n",
      "Requirement already satisfied: dataclasses; python_version < \"3.7\" in /usr/local/lib/python3.6/dist-packages (from transformers==2.8.0) (0.8)\n",
      "Requirement already satisfied: filelock in /usr/local/lib/python3.6/dist-packages (from transformers==2.8.0) (3.0.12)\n",
      "Requirement already satisfied: numpy in /usr/local/lib/python3.6/dist-packages (from transformers==2.8.0) (1.19.4)\n",
      "Requirement already satisfied: regex!=2019.12.17 in /usr/local/lib/python3.6/dist-packages (from transformers==2.8.0) (2019.12.20)\n",
      "Requirement already satisfied: boto3 in /usr/local/lib/python3.6/dist-packages (from transformers==2.8.0) (1.16.43)\n",
      "Requirement already satisfied: certifi>=2017.4.17 in /usr/local/lib/python3.6/dist-packages (from requests->transformers==2.8.0) (2020.12.5)\n",
      "Requirement already satisfied: idna<3,>=2.5 in /usr/local/lib/python3.6/dist-packages (from requests->transformers==2.8.0) (2.10)\n",
      "Requirement already satisfied: urllib3!=1.25.0,!=1.25.1,<1.26,>=1.21.1 in /usr/local/lib/python3.6/dist-packages (from requests->transformers==2.8.0) (1.25.4)\n",
      "Requirement already satisfied: chardet<4,>=3.0.2 in /usr/local/lib/python3.6/dist-packages (from requests->transformers==2.8.0) (3.0.4)\n",
      "Requirement already satisfied: six in /usr/local/lib/python3.6/dist-packages (from sacremoses->transformers==2.8.0) (1.15.0)\n",
      "Requirement already satisfied: click in /usr/local/lib/python3.6/dist-packages (from sacremoses->transformers==2.8.0) (7.1.2)\n",
      "Requirement already satisfied: joblib in /usr/local/lib/python3.6/dist-packages (from sacremoses->transformers==2.8.0) (1.0.0)\n",
      "Requirement already satisfied: botocore<1.20.0,>=1.19.43 in /usr/local/lib/python3.6/dist-packages (from boto3->transformers==2.8.0) (1.19.43)\n",
      "Requirement already satisfied: s3transfer<0.4.0,>=0.3.0 in /usr/local/lib/python3.6/dist-packages (from boto3->transformers==2.8.0) (0.3.3)\n",
      "Requirement already satisfied: jmespath<1.0.0,>=0.7.1 in /usr/local/lib/python3.6/dist-packages (from boto3->transformers==2.8.0) (0.10.0)\n",
      "Requirement already satisfied: python-dateutil<3.0.0,>=2.1 in /usr/local/lib/python3.6/dist-packages (from botocore<1.20.0,>=1.19.43->boto3->transformers==2.8.0) (2.8.1)\n"
     ]
    }
   ],
   "source": [
    "!pip3 install transformers==2.8.0"
   ]
  },
  {
   "cell_type": "code",
   "execution_count": null,
   "metadata": {
    "id": "mpkjTWefecLc"
   },
   "outputs": [],
   "source": [
    "!wget https://raw.githubusercontent.com/sberbank-ai/ru-gpts/master/pretrain_transformers.py"
   ]
  },
  {
   "cell_type": "code",
   "execution_count": null,
   "metadata": {
    "id": "L7zu3BqpqJQ7"
   },
   "outputs": [],
   "source": [
    "!wget https://raw.githubusercontent.com/sberbank-ai/ru-gpts/master/generate_transformers.py"
   ]
  },
  {
   "cell_type": "code",
   "execution_count": 5,
   "metadata": {
    "colab": {
     "base_uri": "https://localhost:8080/"
    },
    "id": "QlJB3Ln7gjO9",
    "outputId": "f6233f14-2575-4729-859f-db0a9b0dd0f7"
   },
   "outputs": [
    {
     "name": "stdout",
     "output_type": "stream",
     "text": [
      "Writing setup.sh\n"
     ]
    }
   ],
   "source": [
    "%%writefile setup.sh\n",
    "\n",
    "export CUDA_HOME=/usr/local/cuda-10.1\n",
    "git clone https://github.com/NVIDIA/apex\n",
    "pip install -v --no-cache-dir --global-option=\"--cpp_ext\" --global-option=\"--cuda_ext\" ./apex"
   ]
  },
  {
   "cell_type": "code",
   "execution_count": null,
   "metadata": {
    "id": "zAZqpSEJglUl"
   },
   "outputs": [],
   "source": [
    "!sh setup.sh"
   ]
  },
  {
   "cell_type": "code",
   "execution_count": 4,
   "metadata": {
    "colab": {
     "base_uri": "https://localhost:8080/"
    },
    "id": "jTN7lA4BqbRz",
    "outputId": "2574ece7-bb21-4548-9f9a-7596c586c41f"
   },
   "outputs": [
    {
     "name": "stdout",
     "output_type": "stream",
     "text": [
      "Mounted at /content/drive\n"
     ]
    }
   ],
   "source": [
    "from google.colab import drive\n",
    "drive.mount('/content/drive', force_remount=True)"
   ]
  },
  {
   "cell_type": "code",
   "execution_count": 5,
   "metadata": {
    "colab": {
     "base_uri": "https://localhost:8080/"
    },
    "id": "itWGASAMViID",
    "outputId": "06635654-934f-44ca-937c-df31830d170d"
   },
   "outputs": [
    {
     "name": "stdout",
     "output_type": "stream",
     "text": [
      "/content\n"
     ]
    }
   ],
   "source": [
    "%cd /content/"
   ]
  },
  {
   "cell_type": "code",
   "execution_count": 6,
   "metadata": {
    "colab": {
     "base_uri": "https://localhost:8080/"
    },
    "id": "f5EtK-jerBRv",
    "outputId": "343ef6c4-6b56-477c-f062-8d1054fca9e2"
   },
   "outputs": [
    {
     "name": "stdout",
     "output_type": "stream",
     "text": [
      "drive/MyDrive/GPT/fanfics.txt\n"
     ]
    }
   ],
   "source": [
    "data_path = \"drive/MyDrive/GPT/fanfics.txt\"\n",
    "!ls \"$data_path\""
   ]
  },
  {
   "cell_type": "code",
   "execution_count": 6,
   "metadata": {
    "colab": {
     "base_uri": "https://localhost:8080/"
    },
    "id": "FU1_MKSy88zV",
    "outputId": "74299c10-dae0-45ce-95b9-3472fa99ff44"
   },
   "outputs": [
    {
     "name": "stdout",
     "output_type": "stream",
     "text": [
      "train.txt  val.txt\r\n"
     ]
    }
   ],
   "source": [
    "DATA_HOME = \"data\"\n",
    "!ls \"$DATA_HOME\""
   ]
  },
  {
   "cell_type": "markdown",
   "metadata": {
    "id": "GDYi1TVTrtkO"
   },
   "source": [
    "## Prepare data"
   ]
  },
  {
   "cell_type": "code",
   "execution_count": 5,
   "metadata": {},
   "outputs": [
    {
     "name": "stdout",
     "output_type": "stream",
     "text": [
      "Reading package lists... Done\n",
      "Building dependency tree       \n",
      "Reading state information... Done\n",
      "Suggested packages:\n",
      "  zip\n",
      "The following NEW packages will be installed:\n",
      "  unzip\n",
      "0 upgraded, 1 newly installed, 0 to remove and 14 not upgraded.\n",
      "Need to get 167 kB of archives.\n",
      "After this operation, 558 kB of additional disk space will be used.\n",
      "Get:1 http://archive.ubuntu.com/ubuntu bionic/main amd64 unzip amd64 6.0-21ubuntu1 [167 kB]\n",
      "Fetched 167 kB in 1s (216 kB/s)\n",
      "debconf: delaying package configuration, since apt-utils is not installed\n",
      "Selecting previously unselected package unzip.\n",
      "(Reading database ... 6771 files and directories currently installed.)\n",
      "Preparing to unpack .../unzip_6.0-21ubuntu1_amd64.deb ...\n",
      "Unpacking unzip (6.0-21ubuntu1) ...\n",
      "Setting up unzip (6.0-21ubuntu1) ...\n",
      "Archive:  ficbook.zip\n",
      "  inflating: train.txt               \n",
      "  inflating: val.txt                 \n"
     ]
    }
   ],
   "source": [
    "!apt-get install unzip && unzip ficbook.zip && mkdir data && mv train.txt data/ && mv val.txt data/"
   ]
  },
  {
   "cell_type": "code",
   "execution_count": 7,
   "metadata": {
    "id": "OXdNbrq3rgzq"
   },
   "outputs": [],
   "source": [
    "\n",
    "with open(DATA_HOME + \"/train.txt\", \"r\") as file_1, open(DATA_HOME + \"/val.txt\", \"r\") as file_2:\n",
    "    text = file_1.readlines()\n",
    "    text += file_2.readlines()"
   ]
  },
  {
   "cell_type": "code",
   "execution_count": 94,
   "metadata": {
    "id": "_sgqpozwryu_"
   },
   "outputs": [],
   "source": [
    "import pandas as pd\n",
    "import numpy as np"
   ]
  },
  {
   "cell_type": "code",
   "execution_count": 95,
   "metadata": {
    "id": "Z5XsmNzor0pK"
   },
   "outputs": [],
   "source": [
    "texts_df = pd.DataFrame(text, columns=['text'])\n",
    "train_df = texts_df.sample(frac=.8)\n",
    "test_df = texts_df[~texts_df.index.isin(train_df.index)]\n"
   ]
  },
  {
   "cell_type": "code",
   "execution_count": 14,
   "metadata": {
    "id": "JW241IAS5Ez0"
   },
   "outputs": [],
   "source": [
    "def save_text_df(df, filename):\n",
    "    with open(filename, \"w\") as f:\n",
    "        for idx in df.index:\n",
    "            text = df.loc[idx, 'text']\n",
    "            f.write(text)"
   ]
  },
  {
   "cell_type": "code",
   "execution_count": null,
   "metadata": {
    "id": "Izc0lkkHr2Rz"
   },
   "outputs": [],
   "source": [
    "save_text_df(train_df, DATA_HOME + \"/train.txt\")\n",
    "save_text_df(test_df, DATA_HOME + \"/test.txt\")"
   ]
  },
  {
   "cell_type": "markdown",
   "metadata": {
    "id": "NitGcEKPsDQE"
   },
   "source": [
    "## Run finetuning\n",
    "The following code download our model and tokenizer from transformers and finetune model essays.\n",
    "\n",
    "This took aroung ten minutes and obtain perplexity = 13-16"
   ]
  },
  {
   "cell_type": "code",
   "execution_count": 17,
   "metadata": {
    "colab": {
     "base_uri": "https://localhost:8080/"
    },
    "id": "98X-BKW2xfpc",
    "outputId": "64c14da8-f131-4ca7-fcae-bb19f3521ab9"
   },
   "outputs": [
    {
     "name": "stdout",
     "output_type": "stream",
     "text": [
      "Archive:  drive/MyDrive/GPT/data/fanfics_1_epoch.zip\n",
      "   creating: fanfics_model/checkpoint-17000/\n",
      "  inflating: fanfics_model/checkpoint-17000/config.json  \n",
      "  inflating: fanfics_model/checkpoint-17000/merges.txt  \n",
      "  inflating: fanfics_model/checkpoint-17000/pytorch_model.bin  \n",
      "  inflating: fanfics_model/checkpoint-17000/special_tokens_map.json  \n",
      "  inflating: fanfics_model/checkpoint-17000/vocab.json  \n",
      "  inflating: fanfics_model/checkpoint-17000/training_args.bin  \n",
      "  inflating: fanfics_model/checkpoint-17000/tokenizer_config.json  \n",
      "  inflating: fanfics_model/checkpoint-17000/optimizer.pt  \n",
      "  inflating: fanfics_model/checkpoint-17000/scheduler.pt  \n"
     ]
    }
   ],
   "source": [
    "!unzip \"$DATA_HOME/fanfics_1_epoch.zip\""
   ]
  },
  {
   "cell_type": "code",
   "execution_count": null,
   "metadata": {
    "id": "5vL07XFvsBBU"
   },
   "outputs": [],
   "source": [
    "!python pretrain_transformers.py \\\n",
    "    --output_dir=fanfics_model \\\n",
    "    --model_type=gpt2 \\\n",
    "    --model_name_or_path=fanfics_model/checkpoint-17000 \\\n",
    "    --do_train \\\n",
    "    --train_data_file=\"$DATA_HOME/train.txt\" \\\n",
    "    --do_eval \\\n",
    "    --fp16 \\\n",
    "    --eval_data_file=\"$DATA_HOME/test.txt\" \\\n",
    "    --per_gpu_train_batch_size 1 \\\n",
    "    --gradient_accumulation_steps 1 \\\n",
    "    --num_train_epochs 5 \\\n",
    "    --block_size 2048 \\\n",
    "    --eval_all_checkpoints \\\n",
    "    --overwrite_output_dir"
   ]
  },
  {
   "cell_type": "code",
   "execution_count": null,
   "metadata": {
    "colab": {
     "base_uri": "https://localhost:8080/"
    },
    "id": "oCEOB46Lctik",
    "outputId": "c90dae69-51d8-473c-9179-a4cb9318a40a"
   },
   "outputs": [
    {
     "name": "stdout",
     "output_type": "stream",
     "text": [
      "2020-12-20 21:29:12.777217: I tensorflow/stream_executor/platform/default/dso_loader.cc:49] Successfully opened dynamic library libcudart.so.10.1\n",
      "======================================================================\n",
      "Processing event files... (this can take a few minutes)\n",
      "======================================================================\n",
      "\n",
      "These tags are in /content/runs/Dec20_20-31-15_c81ee3f61962/events.out.tfevents.1608496275.c81ee3f61962.4314.0:\n",
      "audio -\n",
      "histograms -\n",
      "images -\n",
      "scalars\n",
      "   loss\n",
      "   lr\n",
      "tensor -\n",
      "======================================================================\n",
      "\n",
      "Event statistics for /content/runs/Dec20_20-31-15_c81ee3f61962/events.out.tfevents.1608496275.c81ee3f61962.4314.0:\n",
      "audio -\n",
      "graph -\n",
      "histograms -\n",
      "images -\n",
      "scalars\n",
      "   first_step           14500\n",
      "   last_step            17000\n",
      "   max_step             17000\n",
      "   min_step             14500\n",
      "   num_steps            6\n",
      "   outoforder_steps     []\n",
      "sessionlog:checkpoint -\n",
      "sessionlog:start -\n",
      "sessionlog:stop -\n",
      "tensor -\n",
      "======================================================================\n",
      "\n"
     ]
    }
   ],
   "source": [
    "!tensorboard --inspect --event_file=/content/runs/Dec20_20-31-15_c81ee3f61962/events.out.tfevents.1608496275.c81ee3f61962.4314.0"
   ]
  },
  {
   "cell_type": "markdown",
   "metadata": {
    "id": "w2N6ylGPt1F5"
   },
   "source": [
    "## Check our model"
   ]
  },
  {
   "cell_type": "code",
   "execution_count": null,
   "metadata": {
    "id": "TJmVBKtyD3y7"
   },
   "outputs": [],
   "source": [
    "from tensorflow.python.summary.summary_iterator import summary_iterator"
   ]
  },
  {
   "cell_type": "code",
   "execution_count": null,
   "metadata": {
    "colab": {
     "base_uri": "https://localhost:8080/"
    },
    "id": "1pNfJ2jgD5dH",
    "outputId": "206bf9a7-abe2-4cf4-8199-7672848e0fff"
   },
   "outputs": [
    {
     "name": "stdout",
     "output_type": "stream",
     "text": [
      "WARNING:tensorflow:From /usr/local/lib/python3.6/dist-packages/tensorflow/python/summary/summary_iterator.py:31: tf_record_iterator (from tensorflow.python.lib.io.tf_record) is deprecated and will be removed in a future version.\n",
      "Instructions for updating:\n",
      "Use eager execution and: \n",
      "`tf.data.TFRecordDataset(path)`\n",
      "wall_time: 1608496275.9209788\n",
      "file_version: \"brain.Event:2\"\n",
      "\n",
      "wall_time: 1608496597.4696038\n",
      "step: 14500\n",
      "summary {\n",
      "  value {\n",
      "    tag: \"lr\"\n",
      "    simple_value: 4.970543159288354e-05\n",
      "  }\n",
      "}\n",
      "\n",
      "wall_time: 1608496597.4697087\n",
      "step: 14500\n",
      "summary {\n",
      "  value {\n",
      "    tag: \"loss\"\n",
      "    simple_value: 3.4174423217773438\n",
      "  }\n",
      "}\n",
      "\n",
      "wall_time: 1608496932.0207539\n",
      "step: 15000\n",
      "summary {\n",
      "  value {\n",
      "    tag: \"lr\"\n",
      "    simple_value: 4.9410864448873326e-05\n",
      "  }\n",
      "}\n",
      "\n",
      "wall_time: 1608496932.020882\n",
      "step: 15000\n",
      "summary {\n",
      "  value {\n",
      "    tag: \"loss\"\n",
      "    simple_value: 3.423922538757324\n",
      "  }\n",
      "}\n",
      "\n",
      "wall_time: 1608497266.7529678\n",
      "step: 15500\n",
      "summary {\n",
      "  value {\n",
      "    tag: \"lr\"\n",
      "    simple_value: 4.911629730486311e-05\n",
      "  }\n",
      "}\n",
      "\n",
      "wall_time: 1608497266.7531455\n",
      "step: 15500\n",
      "summary {\n",
      "  value {\n",
      "    tag: \"loss\"\n",
      "    simple_value: 3.414184808731079\n",
      "  }\n",
      "}\n",
      "\n",
      "wall_time: 1608497601.7439253\n",
      "step: 16000\n",
      "summary {\n",
      "  value {\n",
      "    tag: \"lr\"\n",
      "    simple_value: 4.882172652287409e-05\n",
      "  }\n",
      "}\n",
      "\n",
      "wall_time: 1608497601.7440355\n",
      "step: 16000\n",
      "summary {\n",
      "  value {\n",
      "    tag: \"loss\"\n",
      "    simple_value: 3.4136266708374023\n",
      "  }\n",
      "}\n",
      "\n",
      "wall_time: 1608497936.7320266\n",
      "step: 16500\n",
      "summary {\n",
      "  value {\n",
      "    tag: \"lr\"\n",
      "    simple_value: 4.852715937886387e-05\n",
      "  }\n",
      "}\n",
      "\n",
      "wall_time: 1608497936.732164\n",
      "step: 16500\n",
      "summary {\n",
      "  value {\n",
      "    tag: \"loss\"\n",
      "    simple_value: 3.450991153717041\n",
      "  }\n",
      "}\n",
      "\n",
      "wall_time: 1608498271.972373\n",
      "step: 17000\n",
      "summary {\n",
      "  value {\n",
      "    tag: \"lr\"\n",
      "    simple_value: 4.8232592234853655e-05\n",
      "  }\n",
      "}\n",
      "\n",
      "wall_time: 1608498271.9725258\n",
      "step: 17000\n",
      "summary {\n",
      "  value {\n",
      "    tag: \"loss\"\n",
      "    simple_value: 3.4224793910980225\n",
      "  }\n",
      "}\n",
      "\n"
     ]
    }
   ],
   "source": [
    "for summary in summary_iterator(\"/content/runs/Dec20_20-31-15_c81ee3f61962/events.out.tfevents.1608496275.c81ee3f61962.4314.0\"):\n",
    "    print(summary)"
   ]
  },
  {
   "cell_type": "code",
   "execution_count": null,
   "metadata": {
    "id": "U9VXkISjFV2q"
   },
   "outputs": [],
   "source": [
    "!zip -r fanfics_1_epoch.zip fanfics_model/checkpoint-17000"
   ]
  },
  {
   "cell_type": "code",
   "execution_count": null,
   "metadata": {
    "colab": {
     "base_uri": "https://localhost:8080/"
    },
    "id": "JRlAAsIbsHdf",
    "outputId": "5b006b7a-3277-44be-d65a-34a835c680a4"
   },
   "outputs": [
    {
     "name": "stdout",
     "output_type": "stream",
     "text": [
      "2020-12-21 14:51:19.792265: I tensorflow/stream_executor/platform/default/dso_loader.cc:49] Successfully opened dynamic library libcudart.so.10.1\n",
      "12/21/2020 14:51:22 - INFO - transformers.tokenization_utils -   Model name 'fanfics_model/checkpoint-17000' not found in model shortcut name list (gpt2, gpt2-medium, gpt2-large, gpt2-xl, distilgpt2). Assuming 'fanfics_model/checkpoint-17000' is a path, a model identifier, or url to a directory containing tokenizer files.\n",
      "12/21/2020 14:51:22 - INFO - transformers.tokenization_utils -   Didn't find file fanfics_model/checkpoint-17000/added_tokens.json. We won't load it.\n",
      "12/21/2020 14:51:22 - INFO - transformers.tokenization_utils -   loading file fanfics_model/checkpoint-17000/vocab.json\n",
      "12/21/2020 14:51:22 - INFO - transformers.tokenization_utils -   loading file fanfics_model/checkpoint-17000/merges.txt\n",
      "12/21/2020 14:51:22 - INFO - transformers.tokenization_utils -   loading file None\n",
      "12/21/2020 14:51:22 - INFO - transformers.tokenization_utils -   loading file fanfics_model/checkpoint-17000/special_tokens_map.json\n",
      "12/21/2020 14:51:22 - INFO - transformers.tokenization_utils -   loading file fanfics_model/checkpoint-17000/tokenizer_config.json\n",
      "12/21/2020 14:51:22 - INFO - transformers.configuration_utils -   loading configuration file fanfics_model/checkpoint-17000/config.json\n",
      "12/21/2020 14:51:22 - INFO - transformers.configuration_utils -   Model config GPT2Config {\n",
      "  \"_num_labels\": 2,\n",
      "  \"activation_function\": \"gelu_new\",\n",
      "  \"architectures\": [\n",
      "    \"GPT2LMHeadModel\"\n",
      "  ],\n",
      "  \"attn_pdrop\": 0.1,\n",
      "  \"bad_words_ids\": null,\n",
      "  \"bos_token_id\": 50256,\n",
      "  \"decoder_start_token_id\": null,\n",
      "  \"do_sample\": false,\n",
      "  \"early_stopping\": false,\n",
      "  \"embd_pdrop\": 0.1,\n",
      "  \"eos_token_id\": 50256,\n",
      "  \"finetuning_task\": null,\n",
      "  \"gradient_checkpointing\": false,\n",
      "  \"id2label\": {\n",
      "    \"0\": \"LABEL_0\",\n",
      "    \"1\": \"LABEL_1\"\n",
      "  },\n",
      "  \"initializer_range\": 0.02,\n",
      "  \"is_decoder\": false,\n",
      "  \"is_encoder_decoder\": false,\n",
      "  \"label2id\": {\n",
      "    \"LABEL_0\": 0,\n",
      "    \"LABEL_1\": 1\n",
      "  },\n",
      "  \"layer_norm_epsilon\": 1e-05,\n",
      "  \"length_penalty\": 1.0,\n",
      "  \"max_length\": 20,\n",
      "  \"min_length\": 0,\n",
      "  \"model_type\": \"gpt2\",\n",
      "  \"n_ctx\": 2048,\n",
      "  \"n_embd\": 768,\n",
      "  \"n_head\": 12,\n",
      "  \"n_inner\": null,\n",
      "  \"n_layer\": 12,\n",
      "  \"n_positions\": 2048,\n",
      "  \"no_repeat_ngram_size\": 0,\n",
      "  \"num_beams\": 1,\n",
      "  \"num_return_sequences\": 1,\n",
      "  \"output_attentions\": false,\n",
      "  \"output_hidden_states\": false,\n",
      "  \"output_past\": true,\n",
      "  \"pad_token_id\": null,\n",
      "  \"prefix\": null,\n",
      "  \"pruned_heads\": {},\n",
      "  \"repetition_penalty\": 1.0,\n",
      "  \"resid_pdrop\": 0.1,\n",
      "  \"summary_activation\": null,\n",
      "  \"summary_first_dropout\": 0.1,\n",
      "  \"summary_proj_to_labels\": true,\n",
      "  \"summary_type\": \"cls_index\",\n",
      "  \"summary_use_proj\": true,\n",
      "  \"task_specific_params\": null,\n",
      "  \"temperature\": 1.0,\n",
      "  \"top_k\": 50,\n",
      "  \"top_p\": 1.0,\n",
      "  \"torchscript\": false,\n",
      "  \"use_bfloat16\": false,\n",
      "  \"vocab_size\": 50257\n",
      "}\n",
      "\n",
      "12/21/2020 14:51:22 - INFO - transformers.modeling_utils -   loading weights file fanfics_model/checkpoint-17000/pytorch_model.bin\n",
      "12/21/2020 14:51:41 - INFO - __main__ -   Namespace(device=device(type='cuda'), k=5, length=200, model_name_or_path='fanfics_model/checkpoint-17000', model_type='gpt2', n_gpu=1, no_cuda=False, num_return_sequences=1, p=0.95, padding_text='', prompt='', repetition_penalty=1.0, seed=42, stop_token='</s>', temperature=1.0, xlm_language='')\n",
      "Context >>> Он взял ее за руку и\n",
      "12/21/2020 14:52:23 - WARNING - transformers.modeling_utils -   Setting `pad_token_id` to 50256 (first `eos_token_id`) to generate sequence\n",
      "ruGPT:\n",
      "Он взял ее за руку и повел в сторону лестницы. - Я так и знал, что ты придёшь! - крикнул он. - Я так и знал! Ты же любишь его! - А ты не можешь любить меня? - Я знаю, - тихо произнесла она. - Но я люблю тебя, и не знаю, как это сделать. - Не нужно, - тихо сказала она. - Я люблю тебя. - И я тебя, - ответила она. *** - Ну что, ты готова? - Да. - Тогда я жду тебя в коридоре, - сказал он. - Я знаю, что ты не любишь, и ты не можешь любить меня, - прошептала она. - А я люблю тебя. - Я тоже тебя люблю, - сказала она. - Но, - сказала она, - ты не должна меня ненавидеть. - Но, - сказала она. - А я люблю тебя, и ты мне это говоришь, - сказала она. - Я знаю. - Я тоже тебя люблю. - И я тебя.\n",
      "- Ты\n",
      "Context >>> "
     ]
    }
   ],
   "source": [
    "!python generate_transformers.py \\\n",
    "    --model_type=gpt2 \\\n",
    "    --model_name_or_path=fanfics_model/checkpoint-17000 \\\n",
    "    --k=5 \\\n",
    "    --p=0.95 \\\n",
    "    --length=200"
   ]
  },
  {
   "cell_type": "markdown",
   "metadata": {
    "id": "VlioxPNDLykM"
   },
   "source": [
    "\n",
    "\n",
    "# Using CTRL Conditioning\n",
    "\n"
   ]
  },
  {
   "cell_type": "code",
   "execution_count": 19,
   "metadata": {
    "colab": {
     "base_uri": "https://localhost:8080/"
    },
    "id": "-kpMtmoxvQ3a",
    "outputId": "728caa02-b314-4544-ae0c-d15cc30a842d"
   },
   "outputs": [
    {
     "name": "stdout",
     "output_type": "stream",
     "text": [
      "Cloning into 'ctrl'...\n",
      "remote: Enumerating objects: 3, done.\u001b[K\n",
      "remote: Counting objects:  33% (1/3)\u001b[K\r",
      "remote: Counting objects:  66% (2/3)\u001b[K\r",
      "remote: Counting objects: 100% (3/3)\u001b[K\r",
      "remote: Counting objects: 100% (3/3), done.\u001b[K\n",
      "remote: Compressing objects: 100% (3/3), done.\u001b[K\n",
      "remote: Total 160 (delta 0), reused 1 (delta 0), pack-reused 157\u001b[K\n",
      "Receiving objects: 100% (160/160), 24.45 MiB | 32.51 MiB/s, done.\n",
      "Resolving deltas: 100% (88/88), done.\n"
     ]
    }
   ],
   "source": [
    "!git clone https://github.com/salesforce/ctrl.git"
   ]
  },
  {
   "cell_type": "code",
   "execution_count": 26,
   "metadata": {
    "colab": {
     "base_uri": "https://localhost:8080/"
    },
    "id": "lqCm4RTSMymG",
    "outputId": "fc2fcb13-64e0-4f17-f41b-52c0c91901f2"
   },
   "outputs": [
    {
     "name": "stdout",
     "output_type": "stream",
     "text": [
      "Collecting fastBPE\n",
      "  Downloading https://files.pythonhosted.org/packages/e1/37/f97181428a5d151501b90b2cebedf97c81b034ace753606a3cda5ad4e6e2/fastBPE-0.1.0.tar.gz\n",
      "Building wheels for collected packages: fastBPE\n",
      "  Building wheel for fastBPE (setup.py) ... \u001b[?25l\u001b[?25hdone\n",
      "  Created wheel for fastBPE: filename=fastBPE-0.1.0-cp36-cp36m-linux_x86_64.whl size=481475 sha256=0bb407e909a1b1f3ce60488b7b8dc44f6fb004f99645758b5dd60a467b4d4172\n",
      "  Stored in directory: /root/.cache/pip/wheels/f3/0c/9c/fc62058b4d473a5602bcd3d3edfece796f123875379ea82d79\n",
      "Successfully built fastBPE\n",
      "Installing collected packages: fastBPE\n",
      "Successfully installed fastBPE-0.1.0\n"
     ]
    }
   ],
   "source": [
    "!pip install fastBPE"
   ]
  },
  {
   "cell_type": "code",
   "execution_count": null,
   "metadata": {
    "id": "5xU_VCRWL99D"
   },
   "outputs": [],
   "source": [
    "!python ctrl/training_utils/make_tf_records.py --text_file \"$DATA_HOME/train.txt\" --control_code Ficbook --sequence_len 256"
   ]
  },
  {
   "cell_type": "code",
   "execution_count": 29,
   "metadata": {
    "colab": {
     "base_uri": "https://localhost:8080/"
    },
    "id": "0ShKfd--M3CO",
    "outputId": "49ff52dd-f535-42d0-cf5c-553fef885292"
   },
   "outputs": [
    {
     "name": "stdout",
     "output_type": "stream",
     "text": [
      "/bin/bash: ./fast: No such file or directory\n"
     ]
    }
   ],
   "source": [
    "!./fast applybpe \"$DATA_HOME/train.bpe\" \"$DATA_HOME/train.txt\" \"$DATA_HOME/codes\" \"$DATA_HOME/vocab\""
   ]
  },
  {
   "cell_type": "code",
   "execution_count": 30,
   "metadata": {
    "colab": {
     "base_uri": "https://localhost:8080/",
     "height": 37
    },
    "id": "lKqJ_dynPUFl",
    "outputId": "2c66459b-8958-409d-8d0d-63700de5a542"
   },
   "outputs": [
    {
     "data": {
      "application/vnd.google.colaboratory.intrinsic+json": {
       "type": "string"
      },
      "text/plain": [
       "'$DATA_HOME/train.txt'"
      ]
     },
     "execution_count": 30,
     "metadata": {
      "tags": []
     },
     "output_type": "execute_result"
    }
   ],
   "source": [
    "\"$DATA_HOME/train.txt\""
   ]
  },
  {
   "cell_type": "code",
   "execution_count": null,
   "metadata": {
    "id": "HRm3z-4_PXiF"
   },
   "outputs": [],
   "source": [
    "import fastBPE\n",
    "\n",
    "bpe = fastBPE.fastBPE(\"codes_path\", \"vocab_path\")\n",
    "bpe.apply([\"Roasted barramundi fish\", \"Centrally managed over a client-server architecture\"])"
   ]
  },
  {
   "cell_type": "code",
   "execution_count": 36,
   "metadata": {
    "colab": {
     "base_uri": "https://localhost:8080/"
    },
    "id": "upWOFAwePbQq",
    "outputId": "c942d6cd-cfdb-4146-f923-041649fb0899"
   },
   "outputs": [
    {
     "name": "stdout",
     "output_type": "stream",
     "text": [
      "/bin/bash: fastbpe: command not found\n"
     ]
    }
   ],
   "source": [
    "!fastbpe"
   ]
  },
  {
   "cell_type": "code",
   "execution_count": null,
   "metadata": {
    "id": "QhaJzq3NP2fL"
   },
   "outputs": [],
   "source": [
    "!python -V"
   ]
  },
  {
   "cell_type": "code",
   "execution_count": null,
   "metadata": {
    "id": "irSLiS5LdeKd"
   },
   "outputs": [],
   "source": [
    "!python -m site"
   ]
  },
  {
   "cell_type": "code",
   "execution_count": null,
   "metadata": {
    "id": "qtI3oNykeQdS"
   },
   "outputs": [],
   "source": [
    "!ls /usr/local/lib/python3.6/dist-packages"
   ]
  },
  {
   "cell_type": "code",
   "execution_count": 17,
   "metadata": {
    "colab": {
     "base_uri": "https://localhost:8080/"
    },
    "id": "Rm3BJrlZeXel",
    "outputId": "b8f2114e-82ad-48bb-cfe2-ef3f67ef37d6"
   },
   "outputs": [
    {
     "name": "stdout",
     "output_type": "stream",
     "text": [
      "fastBPE\n"
     ]
    }
   ],
   "source": [
    "!cat /usr/local/lib/python3.6/dist-packages/fastBPE-0.1.0.dist-info/top_level.txt"
   ]
  },
  {
   "cell_type": "code",
   "execution_count": 18,
   "metadata": {
    "colab": {
     "base_uri": "https://localhost:8080/"
    },
    "id": "YpM862AOgbae",
    "outputId": "daaf1ba4-ef5b-4ac4-8cee-895cb24dfc53"
   },
   "outputs": [
    {
     "name": "stdout",
     "output_type": "stream",
     "text": [
      "Cloning into 'fastBPE'...\n",
      "remote: Enumerating objects: 5, done.\u001b[K\n",
      "remote: Counting objects:  20% (1/5)\u001b[K\r",
      "remote: Counting objects:  40% (2/5)\u001b[K\r",
      "remote: Counting objects:  60% (3/5)\u001b[K\r",
      "remote: Counting objects:  80% (4/5)\u001b[K\r",
      "remote: Counting objects: 100% (5/5)\u001b[K\r",
      "remote: Counting objects: 100% (5/5), done.\u001b[K\n",
      "remote: Compressing objects:  20% (1/5)\u001b[K\r",
      "remote: Compressing objects:  40% (2/5)\u001b[K\r",
      "remote: Compressing objects:  60% (3/5)\u001b[K\r",
      "remote: Compressing objects:  80% (4/5)\u001b[K\r",
      "remote: Compressing objects: 100% (5/5)\u001b[K\r",
      "remote: Compressing objects: 100% (5/5), done.\u001b[K\n",
      "remote: Total 59 (delta 0), reused 1 (delta 0), pack-reused 54\u001b[K\n",
      "Unpacking objects:   1% (1/59)   \r",
      "Unpacking objects:   3% (2/59)   \r",
      "Unpacking objects:   5% (3/59)   \r",
      "Unpacking objects:   6% (4/59)   \r",
      "Unpacking objects:   8% (5/59)   \r",
      "Unpacking objects:  10% (6/59)   \r",
      "Unpacking objects:  11% (7/59)   \r",
      "Unpacking objects:  13% (8/59)   \r",
      "Unpacking objects:  15% (9/59)   \r",
      "Unpacking objects:  16% (10/59)   \r",
      "Unpacking objects:  18% (11/59)   \r",
      "Unpacking objects:  20% (12/59)   \r",
      "Unpacking objects:  22% (13/59)   \r",
      "Unpacking objects:  23% (14/59)   \r",
      "Unpacking objects:  25% (15/59)   \r",
      "Unpacking objects:  27% (16/59)   \r",
      "Unpacking objects:  28% (17/59)   \r",
      "Unpacking objects:  30% (18/59)   \r",
      "Unpacking objects:  32% (19/59)   \r",
      "Unpacking objects:  33% (20/59)   \r",
      "Unpacking objects:  35% (21/59)   \r",
      "Unpacking objects:  37% (22/59)   \r",
      "Unpacking objects:  38% (23/59)   \r",
      "Unpacking objects:  40% (24/59)   \r",
      "Unpacking objects:  42% (25/59)   \r",
      "Unpacking objects:  44% (26/59)   \r",
      "Unpacking objects:  45% (27/59)   \r",
      "Unpacking objects:  47% (28/59)   \r",
      "Unpacking objects:  49% (29/59)   \r",
      "Unpacking objects:  50% (30/59)   \r",
      "Unpacking objects:  52% (31/59)   \r",
      "Unpacking objects:  54% (32/59)   \r",
      "Unpacking objects:  55% (33/59)   \r",
      "Unpacking objects:  57% (34/59)   \r",
      "Unpacking objects:  59% (35/59)   \r",
      "Unpacking objects:  61% (36/59)   \r",
      "Unpacking objects:  62% (37/59)   \r",
      "Unpacking objects:  64% (38/59)   \r",
      "Unpacking objects:  66% (39/59)   \r",
      "Unpacking objects:  67% (40/59)   \r",
      "Unpacking objects:  69% (41/59)   \r",
      "Unpacking objects:  71% (42/59)   \r",
      "Unpacking objects:  72% (43/59)   \r",
      "Unpacking objects:  74% (44/59)   \r",
      "Unpacking objects:  76% (45/59)   \r",
      "Unpacking objects:  77% (46/59)   \r",
      "Unpacking objects:  79% (47/59)   \r",
      "Unpacking objects:  81% (48/59)   \r",
      "Unpacking objects:  83% (49/59)   \r",
      "Unpacking objects:  84% (50/59)   \r",
      "Unpacking objects:  86% (51/59)   \r",
      "Unpacking objects:  88% (52/59)   \r",
      "Unpacking objects:  89% (53/59)   \r",
      "Unpacking objects:  91% (54/59)   \r",
      "Unpacking objects:  93% (55/59)   \r",
      "Unpacking objects:  94% (56/59)   \r",
      "Unpacking objects:  96% (57/59)   \r",
      "Unpacking objects:  98% (58/59)   \r",
      "Unpacking objects: 100% (59/59)   \r",
      "Unpacking objects: 100% (59/59), done.\n"
     ]
    }
   ],
   "source": [
    "!git clone https://github.com/glample/fastBPE"
   ]
  },
  {
   "cell_type": "code",
   "execution_count": 19,
   "metadata": {
    "colab": {
     "base_uri": "https://localhost:8080/"
    },
    "id": "aJdJ2aG6kuqL",
    "outputId": "d60f54df-caf6-411e-8487-d7402341c35b"
   },
   "outputs": [
    {
     "name": "stdout",
     "output_type": "stream",
     "text": [
      "/content/fastBPE\n"
     ]
    }
   ],
   "source": [
    "cd fastBPE"
   ]
  },
  {
   "cell_type": "code",
   "execution_count": 20,
   "metadata": {
    "id": "tj6fwcWEkwmb"
   },
   "outputs": [],
   "source": [
    "!g++ -std=c++11 -pthread -O3 fastBPE/main.cc -IfastBPE -o fast"
   ]
  },
  {
   "cell_type": "code",
   "execution_count": 43,
   "metadata": {
    "colab": {
     "base_uri": "https://localhost:8080/"
    },
    "id": "MbMKY6adk0jF",
    "outputId": "beb9dd4c-1ce6-413f-bdf1-749600ff91f5"
   },
   "outputs": [
    {
     "name": "stdout",
     "output_type": "stream",
     "text": [
      "Loading vocabulary from ../drive/MyDrive/GPT/data/train.txt ...\n",
      "Read 23481727 words (1105709 unique) from text file.\n",
      "tcmalloc: large alloc 12000002048 bytes == 0x563f76200000 @  0x7f1c793bf887 0x563f5636d8f3 0x563f5636278f 0x7f1c787fabf7 0x563f56362a1a\n"
     ]
    }
   ],
   "source": [
    "!./fast learnbpe 100000 ../\"$DATA_HOME/train.txt\" > ../\"$DATA_HOME/ru_codes.bpe\""
   ]
  },
  {
   "cell_type": "code",
   "execution_count": 42,
   "metadata": {
    "id": "p4TY0Lmak2pq"
   },
   "outputs": [],
   "source": [
    "!touch ../\"$DATA_HOME/ru_codes.bpe\""
   ]
  },
  {
   "cell_type": "code",
   "execution_count": 32,
   "metadata": {
    "colab": {
     "base_uri": "https://localhost:8080/"
    },
    "id": "2HyF4rvtlRpM",
    "outputId": "72223f3c-1294-4f7f-a85e-ac2d440f3885"
   },
   "outputs": [
    {
     "name": "stdout",
     "output_type": "stream",
     "text": [
      "/content/fastBPE\n"
     ]
    }
   ],
   "source": []
  },
  {
   "cell_type": "code",
   "execution_count": null,
   "metadata": {
    "id": "MBZCSaoSlnpk"
   },
   "outputs": [],
   "source": []
  },
  {
   "cell_type": "code",
   "execution_count": null,
   "metadata": {
    "id": "7ivdUuyaARfE"
   },
   "outputs": [],
   "source": []
  },
  {
   "cell_type": "code",
   "execution_count": null,
   "metadata": {
    "id": "bLqZAScvARU0"
   },
   "outputs": [],
   "source": []
  },
  {
   "cell_type": "code",
   "execution_count": null,
   "metadata": {
    "id": "9GxmvgRVARQn"
   },
   "outputs": [],
   "source": []
  },
  {
   "cell_type": "code",
   "execution_count": null,
   "metadata": {
    "id": "hteXGWO5ARGy"
   },
   "outputs": [],
   "source": []
  },
  {
   "cell_type": "code",
   "execution_count": 8,
   "metadata": {
    "colab": {
     "base_uri": "https://localhost:8080/"
    },
    "id": "2bEr2wEZARAy",
    "outputId": "d8a8e055-4e36-4209-a4eb-5d4020fe9adf"
   },
   "outputs": [
    {
     "name": "stdout",
     "output_type": "stream",
     "text": [
      "Collecting transformers\n",
      "  Downloading transformers-4.1.1-py3-none-any.whl (1.5 MB)\n",
      "\u001b[K     |████████████████████████████████| 1.5 MB 3.3 MB/s eta 0:00:01\n",
      "\u001b[?25hRequirement already satisfied: requests in /opt/conda/lib/python3.8/site-packages (from transformers) (2.23.0)\n",
      "Collecting regex!=2019.12.17\n",
      "  Downloading regex-2020.11.13-cp38-cp38-manylinux2014_x86_64.whl (738 kB)\n",
      "\u001b[K     |████████████████████████████████| 738 kB 14.6 MB/s eta 0:00:01\n",
      "\u001b[?25hRequirement already satisfied: packaging in /opt/conda/lib/python3.8/site-packages (from transformers) (20.8)\n",
      "Requirement already satisfied: numpy in /opt/conda/lib/python3.8/site-packages (from transformers) (1.19.2)\n",
      "Requirement already satisfied: filelock in /opt/conda/lib/python3.8/site-packages (from transformers) (3.0.12)\n",
      "Collecting tokenizers==0.9.4\n",
      "  Downloading tokenizers-0.9.4-cp38-cp38-manylinux2010_x86_64.whl (2.9 MB)\n",
      "\u001b[K     |████████████████████████████████| 2.9 MB 17.0 MB/s eta 0:00:01\n",
      "\u001b[?25hRequirement already satisfied: tqdm>=4.27 in /opt/conda/lib/python3.8/site-packages (from transformers) (4.46.0)\n",
      "Collecting sacremoses\n",
      "  Downloading sacremoses-0.0.43.tar.gz (883 kB)\n",
      "\u001b[K     |████████████████████████████████| 883 kB 29.3 MB/s eta 0:00:01\n",
      "\u001b[?25hRequirement already satisfied: urllib3!=1.25.0,!=1.25.1,<1.26,>=1.21.1 in /opt/conda/lib/python3.8/site-packages (from requests->transformers) (1.25.8)\n",
      "Requirement already satisfied: chardet<4,>=3.0.2 in /opt/conda/lib/python3.8/site-packages (from requests->transformers) (3.0.4)\n",
      "Requirement already satisfied: certifi>=2017.4.17 in /opt/conda/lib/python3.8/site-packages (from requests->transformers) (2020.6.20)\n",
      "Requirement already satisfied: idna<3,>=2.5 in /opt/conda/lib/python3.8/site-packages (from requests->transformers) (2.9)\n",
      "Requirement already satisfied: pyparsing>=2.0.2 in /opt/conda/lib/python3.8/site-packages (from packaging->transformers) (2.4.7)\n",
      "Requirement already satisfied: six in /opt/conda/lib/python3.8/site-packages (from sacremoses->transformers) (1.14.0)\n",
      "Collecting click\n",
      "  Downloading click-7.1.2-py2.py3-none-any.whl (82 kB)\n",
      "\u001b[K     |████████████████████████████████| 82 kB 4.2 MB/s  eta 0:00:01\n",
      "\u001b[?25hCollecting joblib\n",
      "  Downloading joblib-1.0.0-py3-none-any.whl (302 kB)\n",
      "\u001b[K     |████████████████████████████████| 302 kB 30.8 MB/s eta 0:00:01\n",
      "\u001b[?25hBuilding wheels for collected packages: sacremoses\n",
      "  Building wheel for sacremoses (setup.py) ... \u001b[?25ldone\n",
      "\u001b[?25h  Created wheel for sacremoses: filename=sacremoses-0.0.43-py3-none-any.whl size=893259 sha256=b23abe9b715845cfbb1263933264507f6b719ef152787965a6123aa6c6ff42c1\n",
      "  Stored in directory: /root/.cache/pip/wheels/7b/78/f4/27d43a65043e1b75dbddaa421b573eddc67e712be4b1c80677\n",
      "Successfully built sacremoses\n",
      "Installing collected packages: regex, tokenizers, click, joblib, sacremoses, transformers\n",
      "Successfully installed click-7.1.2 joblib-1.0.0 regex-2020.11.13 sacremoses-0.0.43 tokenizers-0.9.4 transformers-4.1.1\n"
     ]
    }
   ],
   "source": [
    "!pip install transformers"
   ]
  },
  {
   "cell_type": "code",
   "execution_count": 9,
   "metadata": {
    "colab": {
     "base_uri": "https://localhost:8080/"
    },
    "id": "ztRjDjFqAVc-",
    "outputId": "51c4292f-deef-49ad-d595-541d58062056"
   },
   "outputs": [
    {
     "name": "stdout",
     "output_type": "stream",
     "text": [
      "Sun Dec 27 21:14:28 2020       \n",
      "+-----------------------------------------------------------------------------+\n",
      "| NVIDIA-SMI 455.45.01    Driver Version: 455.45.01    CUDA Version: 11.1     |\n",
      "|-------------------------------+----------------------+----------------------+\n",
      "| GPU  Name        Persistence-M| Bus-Id        Disp.A | Volatile Uncorr. ECC |\n",
      "| Fan  Temp  Perf  Pwr:Usage/Cap|         Memory-Usage | GPU-Util  Compute M. |\n",
      "|                               |                      |               MIG M. |\n",
      "|===============================+======================+======================|\n",
      "|   0  A100-PCIE-40GB      Off  | 00000000:21:00.0 Off |                    0 |\n",
      "| N/A   35C    P0    34W / 250W |      0MiB / 40536MiB |      0%      Default |\n",
      "|                               |                      |             Disabled |\n",
      "+-------------------------------+----------------------+----------------------+\n",
      "|   1  A100-PCIE-40GB      Off  | 00000000:41:00.0 Off |                    0 |\n",
      "| N/A   36C    P0    35W / 250W |      0MiB / 40536MiB |      0%      Default |\n",
      "|                               |                      |             Disabled |\n",
      "+-------------------------------+----------------------+----------------------+\n",
      "|   2  A100-PCIE-40GB      Off  | 00000000:A1:00.0 Off |                    0 |\n",
      "| N/A   35C    P0    33W / 250W |      0MiB / 40536MiB |      0%      Default |\n",
      "|                               |                      |             Disabled |\n",
      "+-------------------------------+----------------------+----------------------+\n",
      "|   3  A100-PCIE-40GB      Off  | 00000000:C1:00.0 Off |                    0 |\n",
      "| N/A   36C    P0    34W / 250W |      0MiB / 40536MiB |      0%      Default |\n",
      "|                               |                      |             Disabled |\n",
      "+-------------------------------+----------------------+----------------------+\n",
      "                                                                               \n",
      "+-----------------------------------------------------------------------------+\n",
      "| Processes:                                                                  |\n",
      "|  GPU   GI   CI        PID   Type   Process name                  GPU Memory |\n",
      "|        ID   ID                                                   Usage      |\n",
      "|=============================================================================|\n",
      "|  No running processes found                                                 |\n",
      "+-----------------------------------------------------------------------------+\n"
     ]
    }
   ],
   "source": [
    "!nvidia-smi"
   ]
  },
  {
   "cell_type": "code",
   "execution_count": 10,
   "metadata": {
    "id": "SRUpkokfBU2t"
   },
   "outputs": [
    {
     "data": {
      "application/vnd.jupyter.widget-view+json": {
       "model_id": "408d4192d67748f0ac3b463259e77857",
       "version_major": 2,
       "version_minor": 0
      },
      "text/plain": [
       "HBox(children=(FloatProgress(value=0.0, description='Downloading', max=608.0, style=ProgressStyle(description_…"
      ]
     },
     "metadata": {},
     "output_type": "display_data"
    },
    {
     "name": "stdout",
     "output_type": "stream",
     "text": [
      "\n"
     ]
    },
    {
     "data": {
      "application/vnd.jupyter.widget-view+json": {
       "model_id": "1375ccf2c3c645cc9f6879e5553f8e12",
       "version_major": 2,
       "version_minor": 0
      },
      "text/plain": [
       "HBox(children=(FloatProgress(value=0.0, description='Downloading', max=1713123.0, style=ProgressStyle(descript…"
      ]
     },
     "metadata": {},
     "output_type": "display_data"
    },
    {
     "name": "stdout",
     "output_type": "stream",
     "text": [
      "\n"
     ]
    },
    {
     "data": {
      "application/vnd.jupyter.widget-view+json": {
       "model_id": "73e0f4d91e1349fbb6a6f3261badbe4e",
       "version_major": 2,
       "version_minor": 0
      },
      "text/plain": [
       "HBox(children=(FloatProgress(value=0.0, description='Downloading', max=1270925.0, style=ProgressStyle(descript…"
      ]
     },
     "metadata": {},
     "output_type": "display_data"
    },
    {
     "name": "stdout",
     "output_type": "stream",
     "text": [
      "\n"
     ]
    },
    {
     "name": "stderr",
     "output_type": "stream",
     "text": [
      "Special tokens have been added in the vocabulary, make sure the associated word embedding are fine-tuned or trained.\n"
     ]
    }
   ],
   "source": [
    "from transformers import AutoTokenizer\n",
    "\n",
    "tokenizer = AutoTokenizer.from_pretrained(\"sberbank-ai/rugpt3small_based_on_gpt2\")\n",
    "\n",
    "train_path = DATA_HOME + '/train.txt'\n",
    "test_path = DATA_HOME + '/test.txt'"
   ]
  },
  {
   "cell_type": "code",
   "execution_count": 11,
   "metadata": {},
   "outputs": [
    {
     "name": "stdout",
     "output_type": "stream",
     "text": [
      "Collecting fastai\n",
      "  Downloading fastai-2.1.10-py3-none-any.whl (190 kB)\n",
      "\u001b[K     |████████████████████████████████| 190 kB 2.9 MB/s eta 0:00:01\n",
      "\u001b[?25hCollecting fastcore>=1.3.8\n",
      "  Downloading fastcore-1.3.13-py3-none-any.whl (52 kB)\n",
      "\u001b[K     |████████████████████████████████| 52 kB 5.1 MB/s  eta 0:00:01\n",
      "\u001b[?25hRequirement already satisfied: packaging in /opt/conda/lib/python3.8/site-packages (from fastai) (20.8)\n",
      "Collecting fastprogress>=0.2.4\n",
      "  Downloading fastprogress-1.0.0-py3-none-any.whl (12 kB)\n",
      "Collecting scikit-learn\n",
      "  Downloading scikit_learn-0.24.0-cp38-cp38-manylinux2010_x86_64.whl (24.9 MB)\n",
      "\u001b[K     |████████████████████████████████| 24.9 MB 15.9 MB/s eta 0:00:01\n",
      "\u001b[?25hCollecting pandas\n",
      "  Downloading pandas-1.2.0-cp38-cp38-manylinux1_x86_64.whl (9.7 MB)\n",
      "\u001b[K     |████████████████████████████████| 9.7 MB 53.7 MB/s eta 0:00:01\n",
      "\u001b[?25hRequirement already satisfied: requests in /opt/conda/lib/python3.8/site-packages (from fastai) (2.23.0)\n",
      "Collecting scipy\n",
      "  Downloading scipy-1.5.4-cp38-cp38-manylinux1_x86_64.whl (25.8 MB)\n",
      "\u001b[K     |████████████████████████████████| 25.8 MB 21.3 MB/s eta 0:00:01\n",
      "\u001b[?25hRequirement already satisfied: pillow>6.0.0 in /opt/conda/lib/python3.8/site-packages (from fastai) (8.0.0)\n",
      "Requirement already satisfied: pyyaml in /opt/conda/lib/python3.8/site-packages (from fastai) (5.3.1)\n",
      "Requirement already satisfied: torch>=1.7.0 in /opt/conda/lib/python3.8/site-packages (from fastai) (1.7.0)\n",
      "Collecting spacy\n",
      "  Downloading spacy-2.3.5-cp38-cp38-manylinux2014_x86_64.whl (10.5 MB)\n",
      "\u001b[K     |████████████████████████████████| 10.5 MB 31.7 MB/s eta 0:00:01\n",
      "\u001b[?25hCollecting matplotlib\n",
      "  Downloading matplotlib-3.3.3-cp38-cp38-manylinux1_x86_64.whl (11.6 MB)\n",
      "\u001b[K     |████████████████████████████████| 11.6 MB 12.5 MB/s eta 0:00:01\n",
      "\u001b[?25hRequirement already satisfied: pip in /opt/conda/lib/python3.8/site-packages (from fastai) (20.0.2)\n",
      "Requirement already satisfied: torchvision>=0.8 in /opt/conda/lib/python3.8/site-packages (from fastai) (0.8.0)\n",
      "Requirement already satisfied: pyparsing>=2.0.2 in /opt/conda/lib/python3.8/site-packages (from packaging->fastai) (2.4.7)\n",
      "Requirement already satisfied: numpy in /opt/conda/lib/python3.8/site-packages (from fastprogress>=0.2.4->fastai) (1.19.2)\n",
      "Collecting threadpoolctl>=2.0.0\n",
      "  Downloading threadpoolctl-2.1.0-py3-none-any.whl (12 kB)\n",
      "Requirement already satisfied: joblib>=0.11 in /opt/conda/lib/python3.8/site-packages (from scikit-learn->fastai) (1.0.0)\n",
      "Requirement already satisfied: python-dateutil>=2.7.3 in /opt/conda/lib/python3.8/site-packages (from pandas->fastai) (2.8.1)\n",
      "Requirement already satisfied: pytz>=2017.3 in /opt/conda/lib/python3.8/site-packages (from pandas->fastai) (2020.1)\n",
      "Requirement already satisfied: urllib3!=1.25.0,!=1.25.1,<1.26,>=1.21.1 in /opt/conda/lib/python3.8/site-packages (from requests->fastai) (1.25.8)\n",
      "Requirement already satisfied: idna<3,>=2.5 in /opt/conda/lib/python3.8/site-packages (from requests->fastai) (2.9)\n",
      "Requirement already satisfied: chardet<4,>=3.0.2 in /opt/conda/lib/python3.8/site-packages (from requests->fastai) (3.0.4)\n",
      "Requirement already satisfied: certifi>=2017.4.17 in /opt/conda/lib/python3.8/site-packages (from requests->fastai) (2020.6.20)\n",
      "Requirement already satisfied: future in /opt/conda/lib/python3.8/site-packages (from torch>=1.7.0->fastai) (0.18.2)\n",
      "Requirement already satisfied: typing_extensions in /opt/conda/lib/python3.8/site-packages (from torch>=1.7.0->fastai) (3.7.4.3)\n",
      "Requirement already satisfied: dataclasses in /opt/conda/lib/python3.8/site-packages (from torch>=1.7.0->fastai) (0.6)\n",
      "Collecting thinc<7.5.0,>=7.4.1\n",
      "  Downloading thinc-7.4.5-cp38-cp38-manylinux2014_x86_64.whl (1.1 MB)\n",
      "\u001b[K     |████████████████████████████████| 1.1 MB 32.3 MB/s eta 0:00:01\n",
      "\u001b[?25hCollecting cymem<2.1.0,>=2.0.2\n",
      "  Downloading cymem-2.0.5-cp38-cp38-manylinux2014_x86_64.whl (35 kB)\n",
      "Collecting wasabi<1.1.0,>=0.4.0\n",
      "  Downloading wasabi-0.8.0-py3-none-any.whl (23 kB)\n",
      "Collecting blis<0.8.0,>=0.4.0\n",
      "  Downloading blis-0.7.4-cp38-cp38-manylinux2014_x86_64.whl (9.8 MB)\n",
      "\u001b[K     |████████████████████████████████| 9.8 MB 25.3 MB/s eta 0:00:01\n",
      "\u001b[?25hCollecting murmurhash<1.1.0,>=0.28.0\n",
      "  Downloading murmurhash-1.0.5-cp38-cp38-manylinux2014_x86_64.whl (20 kB)\n",
      "Collecting preshed<3.1.0,>=3.0.2\n",
      "  Downloading preshed-3.0.5-cp38-cp38-manylinux2014_x86_64.whl (130 kB)\n",
      "\u001b[K     |████████████████████████████████| 130 kB 29.6 MB/s eta 0:00:01\n",
      "\u001b[?25hCollecting catalogue<1.1.0,>=0.0.7\n",
      "  Downloading catalogue-1.0.0-py2.py3-none-any.whl (7.7 kB)\n",
      "Requirement already satisfied: tqdm<5.0.0,>=4.38.0 in /opt/conda/lib/python3.8/site-packages (from spacy->fastai) (4.46.0)\n",
      "Requirement already satisfied: setuptools in /opt/conda/lib/python3.8/site-packages (from spacy->fastai) (46.4.0.post20200518)\n",
      "Collecting srsly<1.1.0,>=1.0.2\n",
      "  Downloading srsly-1.0.5-cp38-cp38-manylinux2014_x86_64.whl (186 kB)\n",
      "\u001b[K     |████████████████████████████████| 186 kB 29.8 MB/s eta 0:00:01\n",
      "\u001b[?25hCollecting plac<1.2.0,>=0.9.6\n",
      "  Downloading plac-1.1.3-py2.py3-none-any.whl (20 kB)\n",
      "Collecting cycler>=0.10\n",
      "  Downloading cycler-0.10.0-py2.py3-none-any.whl (6.5 kB)\n",
      "Collecting kiwisolver>=1.0.1\n",
      "  Downloading kiwisolver-1.3.1-cp38-cp38-manylinux1_x86_64.whl (1.2 MB)\n",
      "\u001b[K     |████████████████████████████████| 1.2 MB 32.7 MB/s eta 0:00:01\n",
      "\u001b[?25hRequirement already satisfied: six>=1.5 in /opt/conda/lib/python3.8/site-packages (from python-dateutil>=2.7.3->pandas->fastai) (1.14.0)\n",
      "Installing collected packages: fastcore, fastprogress, threadpoolctl, scipy, scikit-learn, pandas, cymem, blis, murmurhash, srsly, preshed, wasabi, catalogue, plac, thinc, spacy, cycler, kiwisolver, matplotlib, fastai\n",
      "Successfully installed blis-0.7.4 catalogue-1.0.0 cycler-0.10.0 cymem-2.0.5 fastai-2.1.10 fastcore-1.3.13 fastprogress-1.0.0 kiwisolver-1.3.1 matplotlib-3.3.3 murmurhash-1.0.5 pandas-1.2.0 plac-1.1.3 preshed-3.0.5 scikit-learn-0.24.0 scipy-1.5.4 spacy-2.3.5 srsly-1.0.5 thinc-7.4.5 threadpoolctl-2.1.0 wasabi-0.8.0\n"
     ]
    }
   ],
   "source": [
    "!pip install fastai"
   ]
  },
  {
   "cell_type": "code",
   "execution_count": 12,
   "metadata": {
    "id": "7j5z5C9oDBHg"
   },
   "outputs": [],
   "source": [
    "from fastai.text import *"
   ]
  },
  {
   "cell_type": "code",
   "execution_count": 13,
   "metadata": {
    "colab": {
     "base_uri": "https://localhost:8080/"
    },
    "id": "TS5JHQRIFda9",
    "outputId": "3876eee2-2d78-4e87-85bd-2df18292fe53"
   },
   "outputs": [
    {
     "name": "stdout",
     "output_type": "stream",
     "text": [
      "cuda device: 0\n"
     ]
    }
   ],
   "source": [
    "import torch\n",
    "gpu = 0\n",
    "torch.cuda.set_device(gpu)\n",
    "print(f'cuda device: {torch.cuda.current_device()}')"
   ]
  },
  {
   "cell_type": "code",
   "execution_count": 14,
   "metadata": {
    "id": "EvtYPGOqeBW2"
   },
   "outputs": [],
   "source": [
    "from fastai.vision.all import *\n",
    "class TransformersTokenizer(Transform):\n",
    "    def __init__(self, tokenizer): self.tokenizer = tokenizer\n",
    "    def encodes(self, x): \n",
    "        toks = self.tokenizer.tokenize(x)\n",
    "        return tensor(self.tokenizer.convert_tokens_to_ids(toks))\n",
    "    def decodes(self, x): return TitledStr(self.tokenizer.decode(x.cpu().numpy()))"
   ]
  },
  {
   "cell_type": "code",
   "execution_count": 15,
   "metadata": {
    "id": "iEH9HU5QJsT4"
   },
   "outputs": [
    {
     "name": "stderr",
     "output_type": "stream",
     "text": [
      "Special tokens have been added in the vocabulary, make sure the associated word embedding are fine-tuned or trained.\n"
     ]
    },
    {
     "data": {
      "application/vnd.jupyter.widget-view+json": {
       "model_id": "3b70ed4f99724492bc6bbd001a46a64d",
       "version_major": 2,
       "version_minor": 0
      },
      "text/plain": [
       "HBox(children=(FloatProgress(value=0.0, description='Downloading', max=551290714.0, style=ProgressStyle(descri…"
      ]
     },
     "metadata": {},
     "output_type": "display_data"
    },
    {
     "name": "stdout",
     "output_type": "stream",
     "text": [
      "\n"
     ]
    }
   ],
   "source": [
    "from transformers import GPT2TokenizerFast, GPT2LMHeadModel\n",
    "pretrained_weights = \"sberbank-ai/rugpt3small_based_on_gpt2\"\n",
    "tokenizer = GPT2TokenizerFast.from_pretrained(pretrained_weights)\n",
    "model = GPT2LMHeadModel.from_pretrained(pretrained_weights)"
   ]
  },
  {
   "cell_type": "code",
   "execution_count": 16,
   "metadata": {
    "id": "ZWbojI8UFu7P"
   },
   "outputs": [],
   "source": [
    "tokenizer.pad_token = tokenizer.eos_token"
   ]
  },
  {
   "cell_type": "code",
   "execution_count": 17,
   "metadata": {
    "colab": {
     "base_uri": "https://localhost:8080/"
    },
    "id": "wwFlXg8oSc21",
    "outputId": "9ecbbc1a-4f2c-4178-d746-0c1e8ae7ac30"
   },
   "outputs": [
    {
     "data": {
      "text/plain": [
       "GPT2Config {\n",
       "  \"_name_or_path\": \"sberbank-ai/rugpt3small_based_on_gpt2\",\n",
       "  \"activation_function\": \"gelu_new\",\n",
       "  \"architectures\": [\n",
       "    \"GPT2LMHeadModel\"\n",
       "  ],\n",
       "  \"attn_pdrop\": 0.1,\n",
       "  \"bos_token_id\": 50256,\n",
       "  \"embd_pdrop\": 0.1,\n",
       "  \"eos_token_id\": 50256,\n",
       "  \"gradient_checkpointing\": false,\n",
       "  \"initializer_range\": 0.02,\n",
       "  \"layer_norm_epsilon\": 1e-05,\n",
       "  \"model_type\": \"gpt2\",\n",
       "  \"n_ctx\": 2048,\n",
       "  \"n_embd\": 768,\n",
       "  \"n_head\": 12,\n",
       "  \"n_inner\": null,\n",
       "  \"n_layer\": 12,\n",
       "  \"n_positions\": 2048,\n",
       "  \"resid_pdrop\": 0.1,\n",
       "  \"summary_activation\": null,\n",
       "  \"summary_first_dropout\": 0.1,\n",
       "  \"summary_proj_to_labels\": true,\n",
       "  \"summary_type\": \"cls_index\",\n",
       "  \"summary_use_proj\": true,\n",
       "  \"use_cache\": true,\n",
       "  \"vocab_size\": 50264\n",
       "}"
      ]
     },
     "execution_count": 17,
     "metadata": {},
     "output_type": "execute_result"
    }
   ],
   "source": [
    "model.config"
   ]
  },
  {
   "cell_type": "code",
   "execution_count": 18,
   "metadata": {
    "colab": {
     "base_uri": "https://localhost:8080/"
    },
    "id": "DvnVH85THDZl",
    "outputId": "01a3c63e-9fa8-4438-f992-3b7b8d52c055"
   },
   "outputs": [
    {
     "name": "stderr",
     "output_type": "stream",
     "text": [
      "Using sep_token, but it is not set yet.\n",
      "Using cls_token, but it is not set yet.\n",
      "Using mask_token, but it is not set yet.\n"
     ]
    },
    {
     "name": "stdout",
     "output_type": "stream",
     "text": [
      "max_model_input_sizes\n",
      "-  gpt2 1024\n",
      "-  gpt2-medium 1024\n",
      "-  gpt2-large 1024\n",
      "-  gpt2-xl 1024\n",
      "-  distilgpt2 1024\n",
      "\n",
      "model_max_length: 1000000000000000019884624838656\n",
      "\n",
      "padding_side: right\n",
      "\n",
      "model_input_names: ['attention_mask']\n",
      "\n",
      "bos_token & bos_token_id: <|endoftext|> 50257\n",
      "\n",
      "eos_token & eos_token_id: <|endoftext|> 50257\n",
      "\n",
      "unk_token & unk_token_id: <|endoftext|> 50257\n",
      "\n",
      "sep_token: None\n",
      "\n",
      "pad_token, pad_token_id & pad_token_type_id: <|endoftext|> 50257 0\n",
      "\n",
      "cls_token: None\n",
      "\n",
      "mask_token: None\n",
      "\n",
      "additional_special_tokens: []\n",
      "\n",
      "all_special_tokens & all_special_ids: ['<|endoftext|>', '<|endoftext|>', '<|endoftext|>', '<|endoftext|>'] [50257, 50257, 50257, 50257]\n",
      "\n",
      "---------- vocab ----------\n",
      "\n",
      "vocab_files_names: {'vocab_file': 'vocab.json', 'merges_file': 'merges.txt', 'tokenizer_file': 'tokenizer.json'}\n",
      "\n",
      "vocab_file\n",
      "-  gpt2 : https://huggingface.co/gpt2/resolve/main/vocab.json\n",
      "-  gpt2-medium : https://huggingface.co/gpt2-medium/resolve/main/vocab.json\n",
      "-  gpt2-large : https://huggingface.co/gpt2-large/resolve/main/vocab.json\n",
      "-  gpt2-xl : https://huggingface.co/gpt2-xl/resolve/main/vocab.json\n",
      "-  distilgpt2 : https://huggingface.co/distilgpt2/resolve/main/vocab.json\n",
      "\n",
      "merges_file\n",
      "-  gpt2 : https://huggingface.co/gpt2/resolve/main/merges.txt\n",
      "-  gpt2-medium : https://huggingface.co/gpt2-medium/resolve/main/merges.txt\n",
      "-  gpt2-large : https://huggingface.co/gpt2-large/resolve/main/merges.txt\n",
      "-  gpt2-xl : https://huggingface.co/gpt2-xl/resolve/main/merges.txt\n",
      "-  distilgpt2 : https://huggingface.co/distilgpt2/resolve/main/merges.txt\n",
      "\n",
      "tokenizer_file\n",
      "-  gpt2 : https://huggingface.co/gpt2/resolve/main/tokenizer.json\n",
      "-  gpt2-medium : https://huggingface.co/gpt2-medium/resolve/main/tokenizer.json\n",
      "-  gpt2-large : https://huggingface.co/gpt2-large/resolve/main/tokenizer.json\n",
      "-  gpt2-xl : https://huggingface.co/gpt2-xl/resolve/main/tokenizer.json\n",
      "-  distilgpt2 : https://huggingface.co/distilgpt2/resolve/main/tokenizer.json\n",
      "\n",
      "vocab_size: 50257\n",
      "\n"
     ]
    }
   ],
   "source": [
    "\n",
    "# source: https://huggingface.co/transformers/_modules/transformers/tokenization_utils_fast.html\n",
    "    \n",
    "# print('short-cut-names:',tokenizer.short-cut-names) \n",
    "# print()  \n",
    "\n",
    "print('max_model_input_sizes')\n",
    "for k,v in tokenizer.max_model_input_sizes.items():\n",
    "    print('- ',k,v)\n",
    "print()\n",
    "    \n",
    "print('model_max_length:',tokenizer.model_max_length)\n",
    "print()\n",
    "\n",
    "for k,v in tokenizer.pretrained_init_configuration.items():\n",
    "    print(k,v)\n",
    "    \n",
    "print('padding_side:',tokenizer.padding_side)\n",
    "print()\n",
    "\n",
    "print('model_input_names:',tokenizer.model_input_names)\n",
    "print()\n",
    "\n",
    "print('bos_token & bos_token_id:',tokenizer.bos_token,tokenizer.bos_token_id)\n",
    "print()\n",
    "\n",
    "print('eos_token & eos_token_id:',tokenizer.eos_token,tokenizer.eos_token_id)\n",
    "print()\n",
    "\n",
    "print('unk_token & unk_token_id:',tokenizer.unk_token,tokenizer.unk_token_id)\n",
    "print()\n",
    "\n",
    "print('sep_token:',tokenizer.sep_token)\n",
    "print()\n",
    "\n",
    "print('pad_token, pad_token_id & pad_token_type_id:',tokenizer.pad_token,tokenizer.pad_token_id,tokenizer.pad_token_type_id)\n",
    "print()\n",
    "\n",
    "print('cls_token:',tokenizer.cls_token)\n",
    "print()\n",
    "\n",
    "print('mask_token:',tokenizer.mask_token)\n",
    "print()\n",
    "\n",
    "print('additional_special_tokens:',tokenizer.additional_special_tokens)\n",
    "print()\n",
    "\n",
    "print('all_special_tokens & all_special_ids:',tokenizer.all_special_tokens,tokenizer.all_special_ids)\n",
    "print()\n",
    "\n",
    "print('---------- vocab ----------')\n",
    "print()\n",
    "\n",
    "print('vocab_files_names:',tokenizer.vocab_files_names)\n",
    "print()\n",
    "\n",
    "for k,v in tokenizer.pretrained_vocab_files_map.items():\n",
    "    print(k)\n",
    "    for kk,vv in v.items():\n",
    "        print('- ',kk,':',vv)\n",
    "    print()\n",
    "    \n",
    "print('vocab_size:',tokenizer.vocab_size)\n",
    "print()\n",
    "#print(tokenizer.get_vocab())\n"
   ]
  },
  {
   "cell_type": "code",
   "execution_count": 19,
   "metadata": {
    "colab": {
     "base_uri": "https://localhost:8080/",
     "height": 442
    },
    "id": "2QQuo-VkTgi-",
    "outputId": "4258d411-933d-4a12-8740-e1dafbc81f6d"
   },
   "outputs": [
    {
     "data": {
      "text/html": [
       "<div>\n",
       "<style scoped>\n",
       "    .dataframe tbody tr th:only-of-type {\n",
       "        vertical-align: middle;\n",
       "    }\n",
       "\n",
       "    .dataframe tbody tr th {\n",
       "        vertical-align: top;\n",
       "    }\n",
       "\n",
       "    .dataframe thead th {\n",
       "        text-align: right;\n",
       "    }\n",
       "</style>\n",
       "<table border=\"1\" class=\"dataframe\">\n",
       "  <thead>\n",
       "    <tr style=\"text-align: right;\">\n",
       "      <th></th>\n",
       "      <th>text</th>\n",
       "    </tr>\n",
       "  </thead>\n",
       "  <tbody>\n",
       "    <tr>\n",
       "      <th>0</th>\n",
       "      <td>— Я обещаю тебе, что совершу чудо. Ты веришь мне? Холодный майский ветер унес эти слова, оставляя их лишь тому, кому они изначально адресованы. Девушка улыбнулась, нотка счастья показалась на ее лице, однако ничего не могло утешить ее, успокоить ту тревогу, которая еще давно легла на сердце. Вновь вернулся грустный, почти убитый взгляд. А мужчина все крепче прижимал её маленькое, слабое тело к себе. Он хотел защитить ее, но совсем скоро ему предстоит уйти. Может быть, навсегда. — Вернись, пожалуйста, — сквозь слезы прошептала она, — ты ведь нужен не только мне, но и всей своей семье, солнц...</td>\n",
       "    </tr>\n",
       "    <tr>\n",
       "      <th>1</th>\n",
       "      <td>Осень такая пора, Тебя никто не поймет не когда. И сколько не делай для этих людей, Они по другому к тебе отнесутся, Ведь им плевать на ваши чувства. Они не чувствуют,не дышат, Они не знают что такое боль. Но иногда от них хочется услышать, Что наконец,все будет хорошо.\\n</td>\n",
       "    </tr>\n",
       "    <tr>\n",
       "      <th>2</th>\n",
       "      <td>Это ты, И я играю с тобой, Это ты, И мне не кто не нужен другой, Это ты, Я играю с тобой, Это ты, Я люблю тебя, Это ты,И не кому не отдам, Это ты... Я играю с тобой словами любви, И это снова ты, Проклинаю тебя, За твои грехи, Это снова ты.\\n</td>\n",
       "    </tr>\n",
       "    <tr>\n",
       "      <th>3</th>\n",
       "      <td>На кладбище было тихо. Вопреки настроению, солнце безжалостно светило, не думая о людях. Два мага стояли возле свежей могилы. Ученик и учитель, молодой парень и седой старик. По щекам юнца текли слезы, но взгляд его был тверд. - Учитель, но я ведь все равно смогу увидеть их. Печально посмотрел на него старик: - Нет, дорогой, твоих родителей не вернуть. - Но почему?! Я теперь могу это! Я некромант! Отчаянный крик парня разорвал тишину. - Послушай, мой ученик. Есть одно правило, самое главное для некроманта. Никогда, ни за что не воскрешай своих любимых. - Как же?... - ученик перестал плакат...</td>\n",
       "    </tr>\n",
       "    <tr>\n",
       "      <th>4</th>\n",
       "      <td>Нирн - мир где много красивых мест, шумных городов, мелких деревушек, девственных лесов, а так же кровопролитных войн где люди и нелюди, жаждут власти и повиновения, где костром сжигают деревни, осаждают города, уничтожают леса, мир находится на грани уничтожения, но в пророчестве гласит «Время и место каждого Подвига определяется Судьбой. Но если не придёт Герой — не будет и Подвига.» Неизвестный автор, это пророчество было указано еще на древних свитках найденых под красной горой. Этот свиток лежал в руках богини Азуры. Расы населяющие Нирн Флориан - человек-растение. С виду Флориане без...</td>\n",
       "    </tr>\n",
       "  </tbody>\n",
       "</table>\n",
       "</div>"
      ],
      "text/plain": [
       "                                                                                                                                                                                                                                                                                                                                                                                                                                                                                                                                                                                                                      text\n",
       "0  — Я обещаю тебе, что совершу чудо. Ты веришь мне? Холодный майский ветер унес эти слова, оставляя их лишь тому, кому они изначально адресованы. Девушка улыбнулась, нотка счастья показалась на ее лице, однако ничего не могло утешить ее, успокоить ту тревогу, которая еще давно легла на сердце. Вновь вернулся грустный, почти убитый взгляд. А мужчина все крепче прижимал её маленькое, слабое тело к себе. Он хотел защитить ее, но совсем скоро ему предстоит уйти. Может быть, навсегда. — Вернись, пожалуйста, — сквозь слезы прошептала она, — ты ведь нужен не только мне, но и всей своей семье, солнц...\n",
       "1                                                                                                                                                                                                                                                                                                                                         Осень такая пора, Тебя никто не поймет не когда. И сколько не делай для этих людей, Они по другому к тебе отнесутся, Ведь им плевать на ваши чувства. Они не чувствуют,не дышат, Они не знают что такое боль. Но иногда от них хочется услышать, Что наконец,все будет хорошо.\\n\n",
       "2                                                                                                                                                                                                                                                                                                                                                                       Это ты, И я играю с тобой, Это ты, И мне не кто не нужен другой, Это ты, Я играю с тобой, Это ты, Я люблю тебя, Это ты,И не кому не отдам, Это ты... Я играю с тобой словами любви, И это снова ты, Проклинаю тебя, За твои грехи, Это снова ты.\\n\n",
       "3  На кладбище было тихо. Вопреки настроению, солнце безжалостно светило, не думая о людях. Два мага стояли возле свежей могилы. Ученик и учитель, молодой парень и седой старик. По щекам юнца текли слезы, но взгляд его был тверд. - Учитель, но я ведь все равно смогу увидеть их. Печально посмотрел на него старик: - Нет, дорогой, твоих родителей не вернуть. - Но почему?! Я теперь могу это! Я некромант! Отчаянный крик парня разорвал тишину. - Послушай, мой ученик. Есть одно правило, самое главное для некроманта. Никогда, ни за что не воскрешай своих любимых. - Как же?... - ученик перестал плакат...\n",
       "4  Нирн - мир где много красивых мест, шумных городов, мелких деревушек, девственных лесов, а так же кровопролитных войн где люди и нелюди, жаждут власти и повиновения, где костром сжигают деревни, осаждают города, уничтожают леса, мир находится на грани уничтожения, но в пророчестве гласит «Время и место каждого Подвига определяется Судьбой. Но если не придёт Герой — не будет и Подвига.» Неизвестный автор, это пророчество было указано еще на древних свитках найденых под красной горой. Этот свиток лежал в руках богини Азуры. Расы населяющие Нирн Флориан - человек-растение. С виду Флориане без..."
      ]
     },
     "execution_count": 19,
     "metadata": {},
     "output_type": "execute_result"
    }
   ],
   "source": [
    "import pandas as pd\n",
    "import numpy as np\n",
    "# with open(data_path, \"r\") as file:\n",
    "#     text = file.readlines()\n",
    "texts_df = pd.DataFrame(text, columns=['text'])\n",
    "texts_df.head()"
   ]
  },
  {
   "cell_type": "code",
   "execution_count": 20,
   "metadata": {
    "id": "4nWYwW4FV1NH"
   },
   "outputs": [],
   "source": [
    "num = int(0.8*len(texts_df))\n",
    "\n",
    "idxs = np.random.randint(0, len(texts_df), len(texts_df))\n",
    "idxs_train = idxs[:num]\n",
    "idxs_val = idxs[num:]"
   ]
  },
  {
   "cell_type": "code",
   "execution_count": 21,
   "metadata": {
    "colab": {
     "base_uri": "https://localhost:8080/"
    },
    "id": "uUkCetIjWzgH",
    "outputId": "ecb8eeff-862c-4daf-e00a-8619b9dee2e3"
   },
   "outputs": [
    {
     "name": "stdout",
     "output_type": "stream",
     "text": [
      "CPU times: user 0 ns, sys: 3.17 ms, total: 3.17 ms\n",
      "Wall time: 2.35 ms\n"
     ]
    }
   ],
   "source": [
    "%%time\n",
    "all_texts = np.concatenate([texts_df.iloc[idxs_train].text.values, texts_df.iloc[idxs_val].text.values])"
   ]
  },
  {
   "cell_type": "code",
   "execution_count": 22,
   "metadata": {
    "id": "JbqT19okXGkY"
   },
   "outputs": [],
   "source": [
    "\n",
    "from fastai.data.core import TfmdLists\n",
    "from fastai.text.data import LMDataLoader\n",
    "splits = [list(idxs_train), list(idxs_val)]\n",
    "tls = TfmdLists(all_texts, TransformersTokenizer(tokenizer), splits=splits, dl_type=LMDataLoader)"
   ]
  },
  {
   "cell_type": "code",
   "execution_count": 23,
   "metadata": {
    "colab": {
     "base_uri": "https://localhost:8080/"
    },
    "id": "WWu-G-17XW_N",
    "outputId": "1db34c7e-498e-410e-ac06-c246b148eb9e"
   },
   "outputs": [
    {
     "data": {
      "text/plain": [
       "(tensor([22089,  5404, 10100,  ..., 21874,    18,   203]),\n",
       " tensor([  471,  7494, 19489,  ...,    30,  5493,   372]))"
      ]
     },
     "execution_count": 23,
     "metadata": {},
     "output_type": "execute_result"
    }
   ],
   "source": [
    "tls.train[0],tls.valid[0]"
   ]
  },
  {
   "cell_type": "code",
   "execution_count": 27,
   "metadata": {},
   "outputs": [
    {
     "ename": "NameError",
     "evalue": "name 'texts' is not defined",
     "output_type": "error",
     "traceback": [
      "\u001b[0;31m\u001b[0m",
      "\u001b[0;31mNameError\u001b[0mTraceback (most recent call last)",
      "\u001b[0;32m<ipython-input-27-60fb2285b6d2>\u001b[0m in \u001b[0;36m<module>\u001b[0;34m\u001b[0m\n\u001b[0;32m----> 1\u001b[0;31m \u001b[0mlen\u001b[0m\u001b[0;34m(\u001b[0m\u001b[0mtexts\u001b[0m\u001b[0;34m)\u001b[0m\u001b[0;34m\u001b[0m\u001b[0;34m\u001b[0m\u001b[0m\n\u001b[0m",
      "\u001b[0;31mNameError\u001b[0m: name 'texts' is not defined"
     ]
    }
   ],
   "source": [
    "len(texts)"
   ]
  },
  {
   "cell_type": "code",
   "execution_count": 24,
   "metadata": {
    "colab": {
     "base_uri": "https://localhost:8080/"
    },
    "id": "jASyT35jYve2",
    "outputId": "3a8bc202-416a-471e-90ca-bcf5421e36bd"
   },
   "outputs": [
    {
     "data": {
      "text/plain": [
       "(torch.Size([1301]), torch.Size([2728]))"
      ]
     },
     "execution_count": 24,
     "metadata": {},
     "output_type": "execute_result"
    }
   ],
   "source": [
    "tls.tfms(tls.train.items[0]).shape, tls.tfms(tls.valid.items[0]).shape"
   ]
  },
  {
   "cell_type": "code",
   "execution_count": 25,
   "metadata": {
    "colab": {
     "base_uri": "https://localhost:8080/"
    },
    "id": "hytJiLqVZP1h",
    "outputId": "1d9f0517-c5be-469c-dff2-eb07c8222507"
   },
   "outputs": [
    {
     "name": "stdout",
     "output_type": "stream",
     "text": [
      " Давно хотела написать небольшую заметку с рассуждением на тему слэша, так что погнали. Часто на просторах интернета (не побоюсь этого заезженного выражения), слышатся возмущенные голоса, кричащие о засилье гомосятины в фикрайтерском творчестве. Насколько я могу судить, как правило, это голоса мужские, и вполне можно представить источники неприязни у данной части аудитории к такому способу творческого самовыражения (и этого слова я тоже не побоюсь). Один важный момент они, однако, упускают. Слэш — это не про геев. То, что пишется авторами-геями про гомосексуальные отношения, — это не слэш, это гомоэротические произведения. Слэш, который выходит из-под пера подавляющего большинства авторов, — нарратив совершенно иного характера и имеющий другую социально-психологическую подоплеку. Ибо подавляющее большинство авторов, пишущих в рассматриваемом жанре, — гетеросексуальные женщины, многие вполне себе состоящие в гетеросексуальных отношениях, замужние, с детьми и вовсе не сомневающиеся в своей ориентации. Если вы проследите вариации сюжетных линий, которые в слэшерских рассказах объясняют саму возможность однополой любви, то основных вариантов обнаружится, пожалуй, два. Первый — когда автор помещает нарратив во вселенную, из которой реально или символически исключена женщина. Примером радикального устранения может быть история, где в далекой галактике все самки разумных и красивых инопланетян вымерли и самцам приходится любить друг друга. И они настолько привыкли любить мужчин, что даже когда встречают на своем пути землян, которых тоже можно любить, выбор их падает на человеческих самцов, каковым и оказывается обычно главный герой. Символическим устранением женщины можно назвать вселеную, где существование женщин замалчивается. Их нет по сути, хотя герои женского пола могут вполне наличествовать внутри повествования чисто декоративно или в качестве второстепенных персонажей. Самое главное, что их сексуальность не имеет никакого смыслообразующего значения для рассказа. Зато в этой вселенной существует два дополнительных пола: альфы и омеги. Последние, по сути своей, являются женщинами в мужском обличье. Второй способ обоснования однополой любви — исконный, лежащий у истоков слэша. Этим сюжетным поворотом является неожиданное развитие гомосексуальных наклонностей у персонажей гетеросексуальных, согласно канону. Оно может не получить вообще никакого конкретного объяснения, а может происходить ввиду принуждения - стокгольмский синдром здесь зачастую выступает в качестве мотивации. Кроме того, есть вероятность приспособить под свои нужды сценарии, давно отработанные классической литературой прошлых веков, где крепкая мужская привязанность или нежная юношеская дружба переходят в сексуальную связь. Но если классики не могли себе, как правило, дозволить ничего, кроме смутных намеков на гомоэротическое влечение, слэш поднимает его на принципиально новый уровень. Зачастую такие герои понимают «ненормальность» своего пристрастия, и доказательством того, что герой в основе своей гетеросексуален является тот факт, что испытывает он страсть исключительно к одному человеку своего пола — второму ГГ. Герой не имеет интереса к мужчинам как таковым, и только один-единственный — тот самый — переворачивает мир с ног на голову и перетряхивает, подвергает ревизии сексуальную идентичность протагониста. Очень часто в слэшовых рассказах можно встретить открыто высказываемое героем отрицание своей гомосексуальности. Однако второй протагонист — и только он — дарит ему ни с чем не сравнимое физическое наслаждение, которое тот никогда не испытывал доселе. Используется часто троп невозможности отказаться от запретного плода при полном осознании неестественности физической близости с мужчиной. Теперь вишенка на тортике: одним из двоих главных персонажей слэш-повествования всегда является Автор. В каком бы обличии ОНА ни появилась, один из героев скрывает ее под маской персонажа мужского пола. Скорее всего, это персонаж, в которого автор чуть меньше влюблена. Впрочем, до определенной степени автор может быть обоими героями одновременно, и это слияние я рассматриваю как прямое отражение невозможного и недостижимого слияния с объектом вожделения, смешанного с серьезной долей автоэротизма. Почему эротическое наслаждение героем требует однополой мужской любви? Я предполагаю, что здесь играет роль стремление устранить конкурентку, каковой была бы героиня. Многие читательницы/авторы слэша признают, что откровенно не любят читать про гет отношения. Читателю/писателю слэша хотелось бы остаться в спальне наедине со своим возлюбленным персонажем. Как ни странно, мужской персонаж в качестве любовника представляется в данной шахматной партии менее опасным. Я также предполагаю, что влезть в тело персонажа женского пола несколько сложнее, чем попробовать себя в роли мужского персонажа-любовника. Прежде всего, труднее найти убедительную мотивацию для того, чтобы одной женщине представить себя в роли другой. Для женщины попробовать в воображении своем испытать то, что испытывает противоположный пол, это захватывающий и проблематизирующий привычный порядок вещей опыт в любом из его вариантов, начиная от грубо порнушного и заканчивая тонко нюансированным психологическим. Возможно, отец психоанализа удивился бы, насколько ясным подтверждением его гипотезы о женской зависти к фаллосу является слэшовый фик. Героиня-женщина, способная дать ГГ некое ни на что не похожее сексуальное удовольствие, полное тайны и запредельных переживаний, воспринимается, как правило, в роли презренного тропа Мэри Сью. Необходимо иметь большой талант, чтобы из обыденных, стандартных гет отношений создать нечто величественное. Однако слэш для автора и читателя-женщины, какого бы качества ни был сам текст, априорно имеет свойство недосказанности и недостижимой, неизведанной тайны просто ввиду того неоспоримого (?) факта, что у женщины нет члена. Слэш по сути своей — это явление из области абсурдистской литературы, в которой нарушаются привычные причинно-следственные связи и сексуальные идентичности для того, чтобы усложнить и разнообразить обыденность. Это также способ максимально сблизиться с объектом эротических грез, избежав при этом двух опасных полюсов: мэрисьюшного дурновкусия с одной стороны, и героини-конкурентки с другой. Классический слэш (позволю себе изобрести терминологическое словосочетание) — это порождение исключительно гетеросексуальной эротической фантазии.\n",
      "\n"
     ]
    }
   ],
   "source": [
    "show_at(tls.train, 0)"
   ]
  },
  {
   "cell_type": "code",
   "execution_count": 26,
   "metadata": {
    "colab": {
     "base_uri": "https://localhost:8080/"
    },
    "id": "AlcipfJrZf4n",
    "outputId": "9fc401c6-874a-45e4-be7a-d84e45c93f65"
   },
   "outputs": [
    {
     "name": "stdout",
     "output_type": "stream",
     "text": [
      "CPU times: user 3min 17s, sys: 2.46 s, total: 3min 20s\n",
      "Wall time: 3min 20s\n"
     ]
    }
   ],
   "source": [
    "%%time\n",
    "bs,sl = 8,1024\n",
    "dls = tls.dataloaders(bs=bs, seq_len=sl)"
   ]
  },
  {
   "cell_type": "code",
   "execution_count": 28,
   "metadata": {
    "colab": {
     "base_uri": "https://localhost:8080/",
     "height": 71
    },
    "id": "W_ERwgkkh7LL",
    "outputId": "50904542-038f-49f7-945a-115300e25ef8"
   },
   "outputs": [
    {
     "data": {
      "text/html": [
       "\n",
       "    <div>\n",
       "        <style>\n",
       "            /* Turns off some styling */\n",
       "            progress {\n",
       "                /* gets rid of default border in Firefox and Opera. */\n",
       "                border: none;\n",
       "                /* Needs to be in here for Safari polyfill so background images work as expected. */\n",
       "                background-size: auto;\n",
       "            }\n",
       "            .progress-bar-interrupted, .progress-bar-interrupted::-webkit-progress-bar {\n",
       "                background: #F44336;\n",
       "            }\n",
       "        </style>\n",
       "      <progress value='9017' class='' max='9017' style='width:300px; height:20px; vertical-align: middle;'></progress>\n",
       "      100.00% [9017/9017 03:15<00:00]\n",
       "    </div>\n",
       "    "
      ],
      "text/plain": [
       "<IPython.core.display.HTML object>"
      ]
     },
     "metadata": {},
     "output_type": "display_data"
    },
    {
     "name": "stdout",
     "output_type": "stream",
     "text": [
      "CPU times: user 3min 15s, sys: 996 ms, total: 3min 16s\n",
      "Wall time: 3min 15s\n"
     ]
    }
   ],
   "source": [
    "%%time\n",
    "def tokenize(text):\n",
    "    toks = tokenizer.tokenize(text)\n",
    "    return tensor(tokenizer.convert_tokens_to_ids(toks))\n",
    "\n",
    "tokenized = [tokenize(t) for t in progress_bar(all_texts)]"
   ]
  },
  {
   "cell_type": "code",
   "execution_count": 29,
   "metadata": {
    "id": "2LycaOBvheDN"
   },
   "outputs": [],
   "source": [
    "class TransformersTokenizer(Transform):\n",
    "    def __init__(self, tokenizer): self.tokenizer = tokenizer\n",
    "    def encodes(self, x): \n",
    "        return x if isinstance(x, Tensor) else tokenize(x)\n",
    "        \n",
    "    def decodes(self, x): return TitledStr(self.tokenizer.decode(x.cpu().numpy()))"
   ]
  },
  {
   "cell_type": "code",
   "execution_count": 30,
   "metadata": {
    "colab": {
     "base_uri": "https://localhost:8080/"
    },
    "id": "Y5EM9QpMhfnn",
    "outputId": "c6434798-fead-480e-9691-59ab496439bb"
   },
   "outputs": [
    {
     "name": "stdout",
     "output_type": "stream",
     "text": [
      "CPU times: user 3min 25s, sys: 499 ms, total: 3min 26s\n",
      "Wall time: 3min 26s\n"
     ]
    }
   ],
   "source": [
    "%%time\n",
    "tls2 = TfmdLists(tokenized, TransformersTokenizer(tokenizer), splits=splits, dl_type=LMDataLoader)\n",
    "dls2 = tls.dataloaders(bs=8, seq_len=1024)"
   ]
  },
  {
   "cell_type": "code",
   "execution_count": 31,
   "metadata": {
    "id": "MfYyMJpkleYL"
   },
   "outputs": [],
   "source": [
    "class DropOutput(Callback):\n",
    "    def after_pred(self): self.learn.pred = self.pred[0]"
   ]
  },
  {
   "cell_type": "code",
   "execution_count": 32,
   "metadata": {
    "id": "J8BHMC8xhE3E"
   },
   "outputs": [],
   "source": [
    "def splitter(model):\n",
    "    \"Split a GPT2 `model` in 3 groups for differential learning rates.\"\n",
    "    \n",
    "    # First layers group : decoder blocks from 0 to 3\n",
    "    modules = []\n",
    "    for i in range(4): modules.append(model.transformer.h[i])\n",
    "    groups = [nn.Sequential(*modules)]\n",
    "\n",
    "    # Second layers group : decoder blocks from 4 to 7\n",
    "    modules = []\n",
    "    for i in range(4,8,1): modules.append(model.transformer.h[i])\n",
    "    groups = L(groups + [nn.Sequential(*modules)])\n",
    "\n",
    "    # Third layers group : decoder blocks from 8 to 11\n",
    "    modules = []\n",
    "    for i in range(8,12,1): modules.append(model.transformer.h[i])\n",
    "    groups = L(groups + [nn.Sequential(*modules)])\n",
    "    \n",
    "    # Fourth layers group : embeddings matrices wte and wpe + LayerNorm at the model output\n",
    "    groups = L(groups + [nn.Sequential(model.transformer.wte,model.transformer.wpe,model.transformer.ln_f)])\n",
    "    \n",
    "    return groups.map(params)"
   ]
  },
  {
   "cell_type": "code",
   "execution_count": 33,
   "metadata": {
    "id": "n0taK0ashNma"
   },
   "outputs": [],
   "source": [
    "learn = Learner(dls, model, loss_func=CrossEntropyLossFlat(),\n",
    "                splitter = splitter,\n",
    "                cbs=[DropOutput], \n",
    "                metrics=[accuracy, Perplexity()]).to_fp16()"
   ]
  },
  {
   "cell_type": "code",
   "execution_count": 34,
   "metadata": {
    "colab": {
     "base_uri": "https://localhost:8080/"
    },
    "id": "TfYS1cQehRbl",
    "outputId": "c8af2198-59ba-4027-ef9d-fcc3d0da717f"
   },
   "outputs": [
    {
     "name": "stdout",
     "output_type": "stream",
     "text": [
      "number of parameters groups: 4\n",
      "0 {'wd': 0.01, 'sqr_mom': 0.99, 'lr': 0.001, 'mom': 0.9, 'eps': 1e-05}\n",
      "1 {'wd': 0.01, 'sqr_mom': 0.99, 'lr': 0.001, 'mom': 0.9, 'eps': 1e-05}\n",
      "2 {'wd': 0.01, 'sqr_mom': 0.99, 'lr': 0.001, 'mom': 0.9, 'eps': 1e-05}\n",
      "3 {'wd': 0.01, 'sqr_mom': 0.99, 'lr': 0.001, 'mom': 0.9, 'eps': 1e-05}\n"
     ]
    }
   ],
   "source": [
    "# Check the number of parameters groups and the hyperparameters values\n",
    "learn.create_opt()\n",
    "print(f'number of parameters groups: {len(learn.opt.param_groups)}')\n",
    "\n",
    "# ... and the list of Learning Rates (before its atualization by the Optimizer of the function fit_one_cycle())\n",
    "for i,h in enumerate(learn.opt.hypers):\n",
    "    print(i,h)"
   ]
  },
  {
   "cell_type": "code",
   "execution_count": 35,
   "metadata": {
    "colab": {
     "base_uri": "https://localhost:8080/",
     "height": 68
    },
    "id": "vwO2hJp4lmQv",
    "outputId": "5f2fb0c7-2f0f-4e34-ca79-b3f0f1805e10"
   },
   "outputs": [
    {
     "data": {
      "text/html": [],
      "text/plain": [
       "<IPython.core.display.HTML object>"
      ]
     },
     "metadata": {},
     "output_type": "display_data"
    },
    {
     "name": "stdout",
     "output_type": "stream",
     "text": [
      "CPU times: user 15min 48s, sys: 5.36 s, total: 15min 54s\n",
      "Wall time: 15min 35s\n"
     ]
    },
    {
     "data": {
      "text/plain": [
       "(#3) [3.379739761352539,0.3797611594200134,29.363128662109375]"
      ]
     },
     "execution_count": 35,
     "metadata": {},
     "output_type": "execute_result"
    }
   ],
   "source": [
    "%%time\n",
    "# loss, accuracy, Perplexity() of validation dataset\n",
    "learn.validate()"
   ]
  },
  {
   "cell_type": "markdown",
   "metadata": {
    "id": "z7o7Og-OsUDQ"
   },
   "source": [
    "6.2.1 Freeze all layers but the last layers group (do not freeze wte, wpe embeddings matrices and last LayerNorm)"
   ]
  },
  {
   "cell_type": "code",
   "execution_count": 36,
   "metadata": {},
   "outputs": [],
   "source": [
    "learn.model = model.cuda()\n"
   ]
  },
  {
   "cell_type": "code",
   "execution_count": 37,
   "metadata": {
    "colab": {
     "base_uri": "https://localhost:8080/",
     "height": 358
    },
    "id": "poMlmZLasUn9",
    "outputId": "63c5000c-dfe6-47b6-c3c8-4597e33ebbd9"
   },
   "outputs": [
    {
     "data": {
      "text/html": [],
      "text/plain": [
       "<IPython.core.display.HTML object>"
      ]
     },
     "metadata": {},
     "output_type": "display_data"
    },
    {
     "data": {
      "text/plain": [
       "GPT2LMHeadModel (Input shape: 8)\n",
       "============================================================================\n",
       "Layer (type)         Output Shape         Param #    Trainable \n",
       "============================================================================\n",
       "                     8 x 1024 x 768      \n",
       "Embedding                                 38602752   True      \n",
       "Embedding                                 1572864    True      \n",
       "Dropout                                                        \n",
       "LayerNorm                                 1536       True      \n",
       "____________________________________________________________________________\n",
       "                     8 x 1024 x 2304     \n",
       "Conv1D                                    1771776    False     \n",
       "Conv1D                                    590592     False     \n",
       "Dropout                                                        \n",
       "Dropout                                                        \n",
       "LayerNorm                                 1536       True      \n",
       "____________________________________________________________________________\n",
       "                     8 x 1024 x 3072     \n",
       "Conv1D                                    2362368    False     \n",
       "____________________________________________________________________________\n",
       "                     8 x 1024 x 768      \n",
       "Conv1D                                    2360064    False     \n",
       "Dropout                                                        \n",
       "LayerNorm                                 1536       True      \n",
       "____________________________________________________________________________\n",
       "                     8 x 1024 x 2304     \n",
       "Conv1D                                    1771776    False     \n",
       "Conv1D                                    590592     False     \n",
       "Dropout                                                        \n",
       "Dropout                                                        \n",
       "LayerNorm                                 1536       True      \n",
       "____________________________________________________________________________\n",
       "                     8 x 1024 x 3072     \n",
       "Conv1D                                    2362368    False     \n",
       "____________________________________________________________________________\n",
       "                     8 x 1024 x 768      \n",
       "Conv1D                                    2360064    False     \n",
       "Dropout                                                        \n",
       "LayerNorm                                 1536       True      \n",
       "____________________________________________________________________________\n",
       "                     8 x 1024 x 2304     \n",
       "Conv1D                                    1771776    False     \n",
       "Conv1D                                    590592     False     \n",
       "Dropout                                                        \n",
       "Dropout                                                        \n",
       "LayerNorm                                 1536       True      \n",
       "____________________________________________________________________________\n",
       "                     8 x 1024 x 3072     \n",
       "Conv1D                                    2362368    False     \n",
       "____________________________________________________________________________\n",
       "                     8 x 1024 x 768      \n",
       "Conv1D                                    2360064    False     \n",
       "Dropout                                                        \n",
       "LayerNorm                                 1536       True      \n",
       "____________________________________________________________________________\n",
       "                     8 x 1024 x 2304     \n",
       "Conv1D                                    1771776    False     \n",
       "Conv1D                                    590592     False     \n",
       "Dropout                                                        \n",
       "Dropout                                                        \n",
       "LayerNorm                                 1536       True      \n",
       "____________________________________________________________________________\n",
       "                     8 x 1024 x 3072     \n",
       "Conv1D                                    2362368    False     \n",
       "____________________________________________________________________________\n",
       "                     8 x 1024 x 768      \n",
       "Conv1D                                    2360064    False     \n",
       "Dropout                                                        \n",
       "LayerNorm                                 1536       True      \n",
       "____________________________________________________________________________\n",
       "                     8 x 1024 x 2304     \n",
       "Conv1D                                    1771776    False     \n",
       "Conv1D                                    590592     False     \n",
       "Dropout                                                        \n",
       "Dropout                                                        \n",
       "LayerNorm                                 1536       True      \n",
       "____________________________________________________________________________\n",
       "                     8 x 1024 x 3072     \n",
       "Conv1D                                    2362368    False     \n",
       "____________________________________________________________________________\n",
       "                     8 x 1024 x 768      \n",
       "Conv1D                                    2360064    False     \n",
       "Dropout                                                        \n",
       "LayerNorm                                 1536       True      \n",
       "____________________________________________________________________________\n",
       "                     8 x 1024 x 2304     \n",
       "Conv1D                                    1771776    False     \n",
       "Conv1D                                    590592     False     \n",
       "Dropout                                                        \n",
       "Dropout                                                        \n",
       "LayerNorm                                 1536       True      \n",
       "____________________________________________________________________________\n",
       "                     8 x 1024 x 3072     \n",
       "Conv1D                                    2362368    False     \n",
       "____________________________________________________________________________\n",
       "                     8 x 1024 x 768      \n",
       "Conv1D                                    2360064    False     \n",
       "Dropout                                                        \n",
       "LayerNorm                                 1536       True      \n",
       "____________________________________________________________________________\n",
       "                     8 x 1024 x 2304     \n",
       "Conv1D                                    1771776    False     \n",
       "Conv1D                                    590592     False     \n",
       "Dropout                                                        \n",
       "Dropout                                                        \n",
       "LayerNorm                                 1536       True      \n",
       "____________________________________________________________________________\n",
       "                     8 x 1024 x 3072     \n",
       "Conv1D                                    2362368    False     \n",
       "____________________________________________________________________________\n",
       "                     8 x 1024 x 768      \n",
       "Conv1D                                    2360064    False     \n",
       "Dropout                                                        \n",
       "LayerNorm                                 1536       True      \n",
       "____________________________________________________________________________\n",
       "                     8 x 1024 x 2304     \n",
       "Conv1D                                    1771776    False     \n",
       "Conv1D                                    590592     False     \n",
       "Dropout                                                        \n",
       "Dropout                                                        \n",
       "LayerNorm                                 1536       True      \n",
       "____________________________________________________________________________\n",
       "                     8 x 1024 x 3072     \n",
       "Conv1D                                    2362368    False     \n",
       "____________________________________________________________________________\n",
       "                     8 x 1024 x 768      \n",
       "Conv1D                                    2360064    False     \n",
       "Dropout                                                        \n",
       "LayerNorm                                 1536       True      \n",
       "____________________________________________________________________________\n",
       "                     8 x 1024 x 2304     \n",
       "Conv1D                                    1771776    False     \n",
       "Conv1D                                    590592     False     \n",
       "Dropout                                                        \n",
       "Dropout                                                        \n",
       "LayerNorm                                 1536       True      \n",
       "____________________________________________________________________________\n",
       "                     8 x 1024 x 3072     \n",
       "Conv1D                                    2362368    False     \n",
       "____________________________________________________________________________\n",
       "                     8 x 1024 x 768      \n",
       "Conv1D                                    2360064    False     \n",
       "Dropout                                                        \n",
       "LayerNorm                                 1536       True      \n",
       "____________________________________________________________________________\n",
       "                     8 x 1024 x 2304     \n",
       "Conv1D                                    1771776    False     \n",
       "Conv1D                                    590592     False     \n",
       "Dropout                                                        \n",
       "Dropout                                                        \n",
       "LayerNorm                                 1536       True      \n",
       "____________________________________________________________________________\n",
       "                     8 x 1024 x 3072     \n",
       "Conv1D                                    2362368    False     \n",
       "____________________________________________________________________________\n",
       "                     8 x 1024 x 768      \n",
       "Conv1D                                    2360064    False     \n",
       "Dropout                                                        \n",
       "LayerNorm                                 1536       True      \n",
       "____________________________________________________________________________\n",
       "                     8 x 1024 x 2304     \n",
       "Conv1D                                    1771776    False     \n",
       "Conv1D                                    590592     False     \n",
       "Dropout                                                        \n",
       "Dropout                                                        \n",
       "LayerNorm                                 1536       True      \n",
       "____________________________________________________________________________\n",
       "                     8 x 1024 x 3072     \n",
       "Conv1D                                    2362368    False     \n",
       "____________________________________________________________________________\n",
       "                     8 x 1024 x 768      \n",
       "Conv1D                                    2360064    False     \n",
       "Dropout                                                        \n",
       "LayerNorm                                 1536       True      \n",
       "____________________________________________________________________________\n",
       "                     8 x 1024 x 2304     \n",
       "Conv1D                                    1771776    False     \n",
       "Conv1D                                    590592     False     \n",
       "Dropout                                                        \n",
       "Dropout                                                        \n",
       "LayerNorm                                 1536       True      \n",
       "____________________________________________________________________________\n",
       "                     8 x 1024 x 3072     \n",
       "Conv1D                                    2362368    False     \n",
       "____________________________________________________________________________\n",
       "                     8 x 1024 x 768      \n",
       "Conv1D                                    2360064    False     \n",
       "Dropout                                                        \n",
       "LayerNorm                                 1536       True      \n",
       "____________________________________________________________________________\n",
       "                     8 x 1024 x 50264    \n",
       "Linear                                    38602752   True      \n",
       "____________________________________________________________________________\n",
       "\n",
       "Total params: 163,834,368\n",
       "Total trainable params: 78,816,768\n",
       "Total non-trainable params: 85,017,600\n",
       "\n",
       "Optimizer used: <function Adam at 0x7f6d0dc48e50>\n",
       "Loss function: FlattenedLoss of CrossEntropyLoss()\n",
       "\n",
       "Model frozen up to parameter group #3\n",
       "\n",
       "Callbacks:\n",
       "  - DropOutput\n",
       "  - ModelToHalf\n",
       "  - TrainEvalCallback\n",
       "  - MixedPrecision\n",
       "  - Recorder\n",
       "  - ProgressCallback"
      ]
     },
     "execution_count": 37,
     "metadata": {},
     "output_type": "execute_result"
    }
   ],
   "source": [
    "learn.freeze()\n",
    "learn.summary()"
   ]
  },
  {
   "cell_type": "code",
   "execution_count": 38,
   "metadata": {
    "colab": {
     "base_uri": "https://localhost:8080/",
     "height": 460
    },
    "id": "c19xOMR2tFvv",
    "outputId": "0b9e9f3d-c2f5-4a92-c22e-d98aadbbf1bb"
   },
   "outputs": [
    {
     "data": {
      "text/html": [],
      "text/plain": [
       "<IPython.core.display.HTML object>"
      ]
     },
     "metadata": {},
     "output_type": "display_data"
    },
    {
     "name": "stderr",
     "output_type": "stream",
     "text": [
      "/opt/conda/lib/python3.8/site-packages/fastai/learner.py:54: UserWarning: Could not load the optimizer state.\n",
      "  if with_opt: warn(\"Could not load the optimizer state.\")\n"
     ]
    },
    {
     "data": {
      "text/plain": [
       "SuggestedLRs(lr_min=1.737800812406931e-06, lr_steep=6.309573450380412e-07)"
      ]
     },
     "execution_count": 38,
     "metadata": {},
     "output_type": "execute_result"
    },
    {
     "data": {
      "image/png": "[encoded data removed]",
      "text/plain": [
       "<Figure size 432x288 with 1 Axes>"
      ]
     },
     "metadata": {
      "needs_background": "light"
     },
     "output_type": "display_data"
    }
   ],
   "source": [
    "learn.lr_find()"
   ]
  },
  {
   "cell_type": "code",
   "execution_count": 58,
   "metadata": {
    "colab": {
     "base_uri": "https://localhost:8080/"
    },
    "id": "HLzLWSCLtPuW",
    "outputId": "ab1e3e07-5db3-4895-ce77-cfa340befa16"
   },
   "outputs": [
    {
     "name": "stdout",
     "output_type": "stream",
     "text": [
      "Sun Dec 27 19:40:56 2020       \n",
      "+-----------------------------------------------------------------------------+\n",
      "| NVIDIA-SMI 460.27.04    Driver Version: 418.67       CUDA Version: 10.1     |\n",
      "|-------------------------------+----------------------+----------------------+\n",
      "| GPU  Name        Persistence-M| Bus-Id        Disp.A | Volatile Uncorr. ECC |\n",
      "| Fan  Temp  Perf  Pwr:Usage/Cap|         Memory-Usage | GPU-Util  Compute M. |\n",
      "|                               |                      |               MIG M. |\n",
      "|===============================+======================+======================|\n",
      "|   0  Tesla T4            Off  | 00000000:00:04.0 Off |                    0 |\n",
      "| N/A   66C    P0    31W /  70W |  14931MiB / 15079MiB |      0%      Default |\n",
      "|                               |                      |                 ERR! |\n",
      "+-------------------------------+----------------------+----------------------+\n",
      "                                                                               \n",
      "+-----------------------------------------------------------------------------+\n",
      "| Processes:                                                                  |\n",
      "|  GPU   GI   CI        PID   Type   Process name                  GPU Memory |\n",
      "|        ID   ID                                                   Usage      |\n",
      "|=============================================================================|\n",
      "|  No running processes found                                                 |\n",
      "+-----------------------------------------------------------------------------+\n"
     ]
    }
   ],
   "source": [
    "!nvidia-smi"
   ]
  },
  {
   "cell_type": "code",
   "execution_count": 39,
   "metadata": {},
   "outputs": [],
   "source": [
    "lr = 6e-7"
   ]
  },
  {
   "cell_type": "code",
   "execution_count": 40,
   "metadata": {
    "colab": {
     "base_uri": "https://localhost:8080/",
     "height": 460
    },
    "id": "id-nnVMRugs8",
    "outputId": "df5015f7-244d-4dc2-ca5d-9eee8d679fac"
   },
   "outputs": [
    {
     "data": {
      "text/html": [
       "<table border=\"1\" class=\"dataframe\">\n",
       "  <thead>\n",
       "    <tr style=\"text-align: left;\">\n",
       "      <th>epoch</th>\n",
       "      <th>train_loss</th>\n",
       "      <th>valid_loss</th>\n",
       "      <th>accuracy</th>\n",
       "      <th>perplexity</th>\n",
       "      <th>time</th>\n",
       "    </tr>\n",
       "  </thead>\n",
       "  <tbody>\n",
       "    <tr>\n",
       "      <td>0</td>\n",
       "      <td>3.509228</td>\n",
       "      <td>3.371553</td>\n",
       "      <td>0.380893</td>\n",
       "      <td>29.123720</td>\n",
       "      <td>1:25:00</td>\n",
       "    </tr>\n",
       "  </tbody>\n",
       "</table>"
      ],
      "text/plain": [
       "<IPython.core.display.HTML object>"
      ]
     },
     "metadata": {},
     "output_type": "display_data"
    }
   ],
   "source": [
    "learn.fit_one_cycle(1, lr)"
   ]
  },
  {
   "cell_type": "code",
   "execution_count": 41,
   "metadata": {
    "colab": {
     "base_uri": "https://localhost:8080/",
     "height": 358
    },
    "id": "pbsP72ubt0-i",
    "outputId": "f8a5006c-4fcc-41cd-a087-17ecd1532665"
   },
   "outputs": [
    {
     "data": {
      "image/png": "[encoded data removed]",
      "text/plain": [
       "<Figure size 432x288 with 1 Axes>"
      ]
     },
     "metadata": {
      "needs_background": "light"
     },
     "output_type": "display_data"
    }
   ],
   "source": [
    "learn.recorder.plot_loss()"
   ]
  },
  {
   "cell_type": "code",
   "execution_count": 42,
   "metadata": {},
   "outputs": [],
   "source": [
    "model = learn.model\n",
    "# encode\n",
    "prompt = \"он посмотрел на меня\"\n",
    "input_ids = tokenizer.encode(prompt, return_tensors='pt').to('cuda')"
   ]
  },
  {
   "cell_type": "markdown",
   "metadata": {},
   "source": [
    "### Generating 1 (Top-k sampling)"
   ]
  },
  {
   "cell_type": "code",
   "execution_count": 47,
   "metadata": {},
   "outputs": [
    {
     "name": "stdout",
     "output_type": "stream",
     "text": [
      ">> Generated text 1\n",
      "\n",
      "он посмотрел на меня сверху вниз, а я на него снизу вверх.\n",
      "\n",
      "– Ты – мужчина, – спокойно сказал он. – И я хотел бы, чтобы на тебя обратили внимание женщины. Они были у тебя? – Я не видела его лица, но была абсолютно уверена, что он смотрел на меня.\n",
      "\n",
      "– Я и так много внимания обратил – до самых донышек! Поэтому я и не могу тебя увидеть. Я могу только помочь тебе, но не буду. Я – мужчина, – спокойно ответил он. – А тебя это не интересует.\n",
      "\n",
      "«Я мужчина», – хотела еще что-то сказать, но он меня перебил.\n",
      "\n",
      "– Не слушай меня. Ты – мужчина, – не очень уверенно произнесла я. – И это тебя не касается. Ты не мужчина. Это – ты. Ты – зверь. И я боюсь, что ты не сможешь меня защитить, если я тебя не смогу защитить. И если я не стану защищать тебя – то что? – я попыталась собраться с мыслями.\n",
      "\n",
      "«Я зверь, – думала я. – А ты зверь. Ты не сможешь защитить меня. Ты не сможешь защитить меня. И мне очень страшно за свою шкуру».\n",
      "\n",
      "Как он догадался? Да очень просто. Он сказал мне, что я могу помочь, но мне в ответ тишина. Его слова стали такими странными и… такими неприятными. Неужели он действительно понял, с чем связались? Я в ужасе смотрела на него, но не могла ничего сказать. Как же я ненавижу себя! Я же могу… Что? Что… Я могла бы помочь ему… И как же сложно мне было это сделать… И еще – каким же дураком я себя чувствовала! Все, что у меня было – теперь было у него. И я уже не знаю, с каким из состояний я могу быть на него способна.\n",
      "\n",
      "«Теперь ты не мужчина», – подумала я, но вслух сказала – «Можешь только помочь».\n",
      "\n",
      "«Могу, – ответил он. – Если бы ты была женщиной, ты бы помогла мне».\n",
      "\n",
      "«Мне сложно справиться с тобой?» – я не верила своим ушам. Как я смогу его спасти?\n",
      "\n",
      "Я не могла думать. Я не могла говорить. Ни о каких «могу» говорить было нельзя. Я никак не могла вспомнить, что я видела. Не помню в каком месте был, как он уходил, на каком этаже… В\n",
      "\n",
      "---\n",
      ">> Generated text 2\n",
      "\n",
      "он посмотрел на меня с упреком и продолжил: - Ты ведь не веришь в бога. - Что ты имеешь в виду? - Это вопрос веры или неверия, - повторил он, - вопрос веры или неверия. Но разве ты не знаешь, что в жизни нет ни одного человека, с которым ты должен был бы совершить такое откровение? Ну, как тебя понимать? Я посмотрел на него как на идиота. - Ну, что такое вера? Ты думаешь, я знаю, что такое вера? - Я знаю, что такая вера есть. На то она и вера. Так вот, мой мальчик, если это так, то ты еще не знаешь, что тебе нужно. Я улыбнулся ему. Он улыбнулся и тоже пошел в нашу комнату. Он прошел в нашу комнату, а за ним последовали другие, видимо, чтобы не мешать, и они вошли в нашу комнату. Я стоял и смотрел на него. Он тоже улыбнулся мне, и, пока мы с ним обнимались, я сказал: - Ты просто счастлив, и это твоя жизнь. - Это моя жизнь, - ответил он. Я посмотрел на него. Он уже улыбался своим воспоминаниям. - Вот мы с тобой здесь, друг мой, и я могу не ходить в церковь. Это просто моя жизнь. А все, что ты делаешь, это игра твоего тела. Не думаю, что у тебя есть какие-то чувства. - Я же говорил тебе: ты не можешь быть богом! - Так это и есть любовь, - ответил я, потом посмотрел на него и улыбнулся. - Что ж, значит, эта любовь и есть твое тело. Это твоя семья. Здесь, в этой комнате, у меня в сердце только Бог. Я посмотрел на него и улыбнулся, и он ответил: - Я так и знал. - Я верю, что Бог есть. И что все, что я делаю, будет хорошо. Так вот, ты все еще можешь стать богом. Я поцеловал его в ухо и ответил: - Я тоже верю, но это не то, о чем я думал. Бог, которого ты так боишься по-прежнему существует, но это не твоя идея. - Я не боюсь, - сказал он со своим обычным выражением, потому что это правда. Бог существует. Ты веришь? - Да, - сказал я. Я улыбнулся ему и добавил с улыбкой: - Я просто верю, что Бог существует. И ты не можешь этого отрицать, потому что в этом мире существует только то, что ты понимаешь. - Да, потому что я люблю тебя. - Бог\n",
      "\n",
      "---\n",
      ">> Generated text 3\n",
      "\n",
      "он посмотрел на меня, как бы спрашивая: - У нас все получится, Анита?  Я улыбнулся, как будто в этот миг и в самом деле собирался сказать что-то хорошее. \n",
      " - Я буду ждать, - улыбнулась мне Анита, как будто знала что-то. \n",
      " Я почувствовал, что меня переполняет радость. \n",
      " - Хочешь, чтобы меня ждали? - спросил я. \n",
      " - Да. \n",
      " Мне было так страшно, что я даже перестал дышать.  Я даже стал плакать, но слезы не проходили. \n",
      " Она села рядом с мной, и теперь я мог спокойно лежать, расслабившись, у нее на коленях. \n",
      " - Я понимаю, что ты тоже знаешь правду, но... \n",
      " - Знаю что ты тоже ничего не знаешь. \n",
      " Я понял, что я действительно ничего не знаю. \n",
      " - Что значит \"не знаешь\", Анита? \n",
      " - Я знаю, что ты действительно ничего не знаешь.  Ты знаешь, что у меня на глазах ты стал другим, как будто изменился до такой степени, что я могла тебя любить. \n",
      " Она засмеялась. \n",
      " - Я буду тебя любить, Анита.  Мне не надо ни любви, ни ненависти, ни ненависти.  И я буду тебя ждать, пока ты не изменишься сам. \n",
      " - Анита... \n",
      " - Я всегда буду ждать тебя, - прошептала она. - И я буду ждать, Анита.  Никогда не поздно начать свою жизнь заново. \n",
      " Она положила голову мне на плечо.  Я почувствовал в ее руках теплую ладонь.  Она улыбнулась. \n",
      " - Анита, - прошептала она. - Мы с тобой снова увидимся... \n",
      " Я закрыл глаза.  В моей голове стучали мысли: \"Я буду любить тебя так же, как если бы я любил тебя сейчас, как если бы я был твоим самым большим другом в нашем городке\". \n",
      " - Я буду тебя любить, Анита... \n",
      " - Я буду тебя любить, Анита... \n",
      " Слова мои были очень искренними...  Я так сильно люблю ее.  Так сильно, как больше никогда не смогу полюбить никого и никогда... \n",
      " - Анита, ты не можешь это сделать... \n",
      " - Я знаю, - прошептала она. - Я всегда буду ждать тебя...  Обязательно буду... \n",
      " На какое-то время я заснул, но сон все же был.  Когда я открыл глаза, я увидел Арету.  Она стояла у моих ног, и ее руки были в моих.  Ее лицо было такое простое и доброе... \n",
      " - Ты\n",
      "\n",
      "---\n",
      "CPU times: user 5.79 s, sys: 0 ns, total: 5.79 s\n",
      "Wall time: 5.79 s\n"
     ]
    }
   ],
   "source": [
    "%%time\n",
    "#set top_k = 40 and num_return_sequences = 3\n",
    "sample_outputs = model.generate(input_ids, pad_token_id=50264,\n",
    "                                   do_sample=True, \n",
    "                                   max_length=500, \n",
    "                                   min_length=10,\n",
    "                                   top_k=40,\n",
    "                                   num_return_sequences=3)\n",
    "\n",
    "for i, sample_output in enumerate(sample_outputs):\n",
    "    print(\">> Generated text {}\\n\\n{}\".format(i+1, tokenizer.decode(sample_output.tolist())))\n",
    "    print('\\n---')"
   ]
  },
  {
   "cell_type": "markdown",
   "metadata": {},
   "source": [
    "### Generating (Top-p nucleus sampling)"
   ]
  },
  {
   "cell_type": "code",
   "execution_count": 48,
   "metadata": {},
   "outputs": [
    {
     "name": "stdout",
     "output_type": "stream",
     "text": [
      ">> Generated text 1\n",
      "\n",
      "он посмотрел на меня и добавил:\n",
      "- Я так понимаю, что у вас не хватает фантазии. Вы знаете о том, как это делается? \n",
      "\n",
      "Я кивнула. Он пожал плечами, будто мне нечего было ответить, но я все же спросила его: - Ну да… Это просто очень здорово! В чем дело?\n",
      "\n",
      "Он усмехнулся и сказал:  - Не знаю, возможно ли такое в принципе. Но может быть, вы сможете придумать несколько вариантов, которые будут способствовать развитию вашего бизнеса... И еще… Мне бы хотелось узнать ваше мнение об этом деле. Что скажете по поводу того, чтобы сделать «проверочный выстрел» для этого проекта? Или что-то подобное?.. \n",
      "\n",
      "Я ответила, а он продолжил:  - Думаю, с вашей точки зрения, вам стоит подумать над этим предложением. Оно должно помочь избежать больших финансовых потерь, связанных со смертью человека или с тем, кто им управляет. Если вам повезет… Может получиться нечто вроде игры типа нашего \"Супермен\". Там будет много народу из разных стран и звездных войн, где люди будут вести себя соответственно своему уровню развития. Так вот, когда этот проект закончится, мы сможем заняться разработкой «Протоколов Сириуса». А если нет – то можно попробовать создать что-\n",
      "\n",
      "---\n",
      ">> Generated text 2\n",
      "\n",
      "он посмотрел на меня и пожал плечами. — Я не собираюсь ни с кем драться, кроме тех, кто тебя обидел или унизил…\n",
      "\n",
      "Он остановился у стены, глядя мне в глаза:\n",
      "\n",
      "— Ты ошибаешься, девочка моя. Ты не девушка моей мечты. Не из-за этого ты попала сюда. Это лишь начало пути. Но сейчас мы все еще стоим здесь — я вижу это по твоему лицу, когда говорю тебе о том, что ты должна остаться собой. И я понимаю твое желание стать частью нашего общего будущего. Если бы только нам было позволено быть вместе! Все могло закончиться гораздо хуже, если б я мог вернуться к себе домой. А так я всего лишь человек, который хотел бы жить своей жизнью. Так давай же прекратим этот спор и поговорим спокойно! Возможно, я смогу помочь тебе изменить свою жизнь. Только постарайся понять, почему ты осталась одна? Кто мог подумать, что тебе будет настолько тяжело?! Что твоя семья не сможет без тебя?..\n",
      "\n",
      "Я покачала головой. Мои слова были для него пустым звуком. Он просто хотел услышать мои мысли. И я знала, как сильно он хочет увидеться со мной снова, но не могла ничего сделать. Мне казалось, что все вокруг смотрят на нас обоих.\n",
      "\n",
      "---\n",
      ">> Generated text 3\n",
      "\n",
      "он посмотрел на меня. — Что же ты не хочешь сказать?\n",
      "\n",
      "В это время в комнату вошел мужчина и, увидев меня, удивленно повернулся к нему: — Вы... вы?.. что здесь делаете?! Я вас видел! И я знаю, что за вами следят! Так вы думаете, что все это может быть связано с наркотиками?! Да кому нужны наркотики?! Это было бы преступлением! Но сейчас у нас другие планы, а это значит, что наши действия могут привести к серьезным последствиям! Мы должны попытаться выйти из сложившейся ситуации. Вам нужно сделать то, чего мы хотим. Иначе через несколько дней будет поздно… А теперь пойдите со мной.\n",
      "\n",
      "Он протянул мне руку и вышел. Я последовала за ним, но он уже исчез за дверью.\n",
      "\n",
      "Я поднялась наверх и прошла по комнате, стараясь успокоиться. У дверей никого не оказалось. Я вернулась в спальню и села рядом с кроватью, ожидая возвращения мужа. Он встал напротив кровати и сказал: — Как твое настроение? Ты так сильно изменилась за последнее время. Мне стало легче жить без тебя. Может лучше уйти куда-нибудь? Здесь очень холодно, поэтому я решила немного отдохнуть перед сном. В спальне стояла тишина. Никто ничего не слышал. Только слабый шум воды доносился откуда-то сверху.\n",
      "\n",
      "---\n",
      "CPU times: user 3.48 s, sys: 7.96 ms, total: 3.49 s\n",
      "Wall time: 3.49 s\n"
     ]
    }
   ],
   "source": [
    "%%time\n",
    "#set top_p = 0.95, top_k = 50, temperature = 0.7, repetition_penalty = 1.2 and num_return_sequences = 3\n",
    "sample_outputs = model.generate(input_ids, pad_token_id=50256,\n",
    "                                   do_sample=True,\n",
    "                                   max_length=250, \n",
    "                                   min_length=10,\n",
    "                                   repetition_penalty=1.2,\n",
    "                                   temperature=0.7,\n",
    "                                   top_k=50, \n",
    "                                   top_p=0.95, \n",
    "                                   num_return_sequences=3)\n",
    "\n",
    "for i, sample_output in enumerate(sample_outputs):\n",
    "    print(\">> Generated text {}\\n\\n{}\".format(i+1, tokenizer.decode(sample_output.tolist())))\n",
    "    print('\\n---')"
   ]
  },
  {
   "cell_type": "markdown",
   "metadata": {
    "id": "Cdoi-0UavlUl"
   },
   "source": [
    "### Freeze all layers but the last 2 layers groups"
   ]
  },
  {
   "cell_type": "code",
   "execution_count": 49,
   "metadata": {},
   "outputs": [
    {
     "data": {
      "text/html": [],
      "text/plain": [
       "<IPython.core.display.HTML object>"
      ]
     },
     "metadata": {},
     "output_type": "display_data"
    },
    {
     "data": {
      "text/plain": [
       "GPT2LMHeadModel (Input shape: 8)\n",
       "============================================================================\n",
       "Layer (type)         Output Shape         Param #    Trainable \n",
       "============================================================================\n",
       "                     8 x 1024 x 768      \n",
       "Embedding                                 38602752   True      \n",
       "Embedding                                 1572864    True      \n",
       "Dropout                                                        \n",
       "LayerNorm                                 1536       True      \n",
       "____________________________________________________________________________\n",
       "                     8 x 1024 x 2304     \n",
       "Conv1D                                    1771776    False     \n",
       "Conv1D                                    590592     False     \n",
       "Dropout                                                        \n",
       "Dropout                                                        \n",
       "LayerNorm                                 1536       True      \n",
       "____________________________________________________________________________\n",
       "                     8 x 1024 x 3072     \n",
       "Conv1D                                    2362368    False     \n",
       "____________________________________________________________________________\n",
       "                     8 x 1024 x 768      \n",
       "Conv1D                                    2360064    False     \n",
       "Dropout                                                        \n",
       "LayerNorm                                 1536       True      \n",
       "____________________________________________________________________________\n",
       "                     8 x 1024 x 2304     \n",
       "Conv1D                                    1771776    False     \n",
       "Conv1D                                    590592     False     \n",
       "Dropout                                                        \n",
       "Dropout                                                        \n",
       "LayerNorm                                 1536       True      \n",
       "____________________________________________________________________________\n",
       "                     8 x 1024 x 3072     \n",
       "Conv1D                                    2362368    False     \n",
       "____________________________________________________________________________\n",
       "                     8 x 1024 x 768      \n",
       "Conv1D                                    2360064    False     \n",
       "Dropout                                                        \n",
       "LayerNorm                                 1536       True      \n",
       "____________________________________________________________________________\n",
       "                     8 x 1024 x 2304     \n",
       "Conv1D                                    1771776    False     \n",
       "Conv1D                                    590592     False     \n",
       "Dropout                                                        \n",
       "Dropout                                                        \n",
       "LayerNorm                                 1536       True      \n",
       "____________________________________________________________________________\n",
       "                     8 x 1024 x 3072     \n",
       "Conv1D                                    2362368    False     \n",
       "____________________________________________________________________________\n",
       "                     8 x 1024 x 768      \n",
       "Conv1D                                    2360064    False     \n",
       "Dropout                                                        \n",
       "LayerNorm                                 1536       True      \n",
       "____________________________________________________________________________\n",
       "                     8 x 1024 x 2304     \n",
       "Conv1D                                    1771776    False     \n",
       "Conv1D                                    590592     False     \n",
       "Dropout                                                        \n",
       "Dropout                                                        \n",
       "LayerNorm                                 1536       True      \n",
       "____________________________________________________________________________\n",
       "                     8 x 1024 x 3072     \n",
       "Conv1D                                    2362368    False     \n",
       "____________________________________________________________________________\n",
       "                     8 x 1024 x 768      \n",
       "Conv1D                                    2360064    False     \n",
       "Dropout                                                        \n",
       "LayerNorm                                 1536       True      \n",
       "____________________________________________________________________________\n",
       "                     8 x 1024 x 2304     \n",
       "Conv1D                                    1771776    False     \n",
       "Conv1D                                    590592     False     \n",
       "Dropout                                                        \n",
       "Dropout                                                        \n",
       "LayerNorm                                 1536       True      \n",
       "____________________________________________________________________________\n",
       "                     8 x 1024 x 3072     \n",
       "Conv1D                                    2362368    False     \n",
       "____________________________________________________________________________\n",
       "                     8 x 1024 x 768      \n",
       "Conv1D                                    2360064    False     \n",
       "Dropout                                                        \n",
       "LayerNorm                                 1536       True      \n",
       "____________________________________________________________________________\n",
       "                     8 x 1024 x 2304     \n",
       "Conv1D                                    1771776    False     \n",
       "Conv1D                                    590592     False     \n",
       "Dropout                                                        \n",
       "Dropout                                                        \n",
       "LayerNorm                                 1536       True      \n",
       "____________________________________________________________________________\n",
       "                     8 x 1024 x 3072     \n",
       "Conv1D                                    2362368    False     \n",
       "____________________________________________________________________________\n",
       "                     8 x 1024 x 768      \n",
       "Conv1D                                    2360064    False     \n",
       "Dropout                                                        \n",
       "LayerNorm                                 1536       True      \n",
       "____________________________________________________________________________\n",
       "                     8 x 1024 x 2304     \n",
       "Conv1D                                    1771776    False     \n",
       "Conv1D                                    590592     False     \n",
       "Dropout                                                        \n",
       "Dropout                                                        \n",
       "LayerNorm                                 1536       True      \n",
       "____________________________________________________________________________\n",
       "                     8 x 1024 x 3072     \n",
       "Conv1D                                    2362368    False     \n",
       "____________________________________________________________________________\n",
       "                     8 x 1024 x 768      \n",
       "Conv1D                                    2360064    False     \n",
       "Dropout                                                        \n",
       "LayerNorm                                 1536       True      \n",
       "____________________________________________________________________________\n",
       "                     8 x 1024 x 2304     \n",
       "Conv1D                                    1771776    False     \n",
       "Conv1D                                    590592     False     \n",
       "Dropout                                                        \n",
       "Dropout                                                        \n",
       "LayerNorm                                 1536       True      \n",
       "____________________________________________________________________________\n",
       "                     8 x 1024 x 3072     \n",
       "Conv1D                                    2362368    False     \n",
       "____________________________________________________________________________\n",
       "                     8 x 1024 x 768      \n",
       "Conv1D                                    2360064    False     \n",
       "Dropout                                                        \n",
       "LayerNorm                                 1536       True      \n",
       "____________________________________________________________________________\n",
       "                     8 x 1024 x 2304     \n",
       "Conv1D                                    1771776    True      \n",
       "Conv1D                                    590592     True      \n",
       "Dropout                                                        \n",
       "Dropout                                                        \n",
       "LayerNorm                                 1536       True      \n",
       "____________________________________________________________________________\n",
       "                     8 x 1024 x 3072     \n",
       "Conv1D                                    2362368    True      \n",
       "____________________________________________________________________________\n",
       "                     8 x 1024 x 768      \n",
       "Conv1D                                    2360064    True      \n",
       "Dropout                                                        \n",
       "LayerNorm                                 1536       True      \n",
       "____________________________________________________________________________\n",
       "                     8 x 1024 x 2304     \n",
       "Conv1D                                    1771776    True      \n",
       "Conv1D                                    590592     True      \n",
       "Dropout                                                        \n",
       "Dropout                                                        \n",
       "LayerNorm                                 1536       True      \n",
       "____________________________________________________________________________\n",
       "                     8 x 1024 x 3072     \n",
       "Conv1D                                    2362368    True      \n",
       "____________________________________________________________________________\n",
       "                     8 x 1024 x 768      \n",
       "Conv1D                                    2360064    True      \n",
       "Dropout                                                        \n",
       "LayerNorm                                 1536       True      \n",
       "____________________________________________________________________________\n",
       "                     8 x 1024 x 2304     \n",
       "Conv1D                                    1771776    True      \n",
       "Conv1D                                    590592     True      \n",
       "Dropout                                                        \n",
       "Dropout                                                        \n",
       "LayerNorm                                 1536       True      \n",
       "____________________________________________________________________________\n",
       "                     8 x 1024 x 3072     \n",
       "Conv1D                                    2362368    True      \n",
       "____________________________________________________________________________\n",
       "                     8 x 1024 x 768      \n",
       "Conv1D                                    2360064    True      \n",
       "Dropout                                                        \n",
       "LayerNorm                                 1536       True      \n",
       "____________________________________________________________________________\n",
       "                     8 x 1024 x 2304     \n",
       "Conv1D                                    1771776    True      \n",
       "Conv1D                                    590592     True      \n",
       "Dropout                                                        \n",
       "Dropout                                                        \n",
       "LayerNorm                                 1536       True      \n",
       "____________________________________________________________________________\n",
       "                     8 x 1024 x 3072     \n",
       "Conv1D                                    2362368    True      \n",
       "____________________________________________________________________________\n",
       "                     8 x 1024 x 768      \n",
       "Conv1D                                    2360064    True      \n",
       "Dropout                                                        \n",
       "LayerNorm                                 1536       True      \n",
       "____________________________________________________________________________\n",
       "                     8 x 1024 x 50264    \n",
       "Linear                                    38602752   True      \n",
       "____________________________________________________________________________\n",
       "\n",
       "Total params: 163,834,368\n",
       "Total trainable params: 107,155,968\n",
       "Total non-trainable params: 56,678,400\n",
       "\n",
       "Optimizer used: <function Adam at 0x7f6d0dc48e50>\n",
       "Loss function: FlattenedLoss of CrossEntropyLoss()\n",
       "\n",
       "Model frozen up to parameter group #2\n",
       "\n",
       "Callbacks:\n",
       "  - DropOutput\n",
       "  - ModelToHalf\n",
       "  - TrainEvalCallback\n",
       "  - MixedPrecision\n",
       "  - Recorder\n",
       "  - ProgressCallback"
      ]
     },
     "execution_count": 49,
     "metadata": {},
     "output_type": "execute_result"
    }
   ],
   "source": [
    "learn.freeze_to(-2)\n",
    "learn.summary()"
   ]
  },
  {
   "cell_type": "code",
   "execution_count": 50,
   "metadata": {},
   "outputs": [
    {
     "data": {
      "text/html": [
       "<table border=\"1\" class=\"dataframe\">\n",
       "  <thead>\n",
       "    <tr style=\"text-align: left;\">\n",
       "      <th>epoch</th>\n",
       "      <th>train_loss</th>\n",
       "      <th>valid_loss</th>\n",
       "      <th>accuracy</th>\n",
       "      <th>perplexity</th>\n",
       "      <th>time</th>\n",
       "    </tr>\n",
       "  </thead>\n",
       "  <tbody>\n",
       "    <tr>\n",
       "      <td>0</td>\n",
       "      <td>3.513709</td>\n",
       "      <td>3.367426</td>\n",
       "      <td>0.381346</td>\n",
       "      <td>29.003780</td>\n",
       "      <td>1:26:06</td>\n",
       "    </tr>\n",
       "  </tbody>\n",
       "</table>"
      ],
      "text/plain": [
       "<IPython.core.display.HTML object>"
      ]
     },
     "metadata": {},
     "output_type": "display_data"
    }
   ],
   "source": [
    "learn.fit_one_cycle(1, slice(3e-7/(2.6**4),3e-7))"
   ]
  },
  {
   "cell_type": "code",
   "execution_count": 51,
   "metadata": {},
   "outputs": [
    {
     "data": {
      "image/png": "[encoded data removed]",
      "text/plain": [
       "<Figure size 432x288 with 1 Axes>"
      ]
     },
     "metadata": {
      "needs_background": "light"
     },
     "output_type": "display_data"
    }
   ],
   "source": [
    "#hide\n",
    "learn.recorder.plot_loss()"
   ]
  },
  {
   "cell_type": "code",
   "execution_count": 52,
   "metadata": {},
   "outputs": [],
   "source": [
    "model_last2 = learn.model\n",
    "# encode\n",
    "prompt = \"он посмотрел на меня\"\n",
    "input_ids = tokenizer.encode(prompt, return_tensors='pt').to('cuda')"
   ]
  },
  {
   "cell_type": "markdown",
   "metadata": {},
   "source": [
    "### Generating (Top-k sampling)"
   ]
  },
  {
   "cell_type": "code",
   "execution_count": 53,
   "metadata": {},
   "outputs": [
    {
     "name": "stdout",
     "output_type": "stream",
     "text": [
      ">> Generated text 1\n",
      "\n",
      "он посмотрел на меня с сомнением. Как ни странно, я не чувствовал себя неловко. Как только он отошел, я направился прямиком к двери. Я сел на стул и закрыл глаза, не желая снова встретиться с ним взглядом.\n",
      "\n",
      "В комнате было много незнакомых людей; казалось, я был на вечеринке, которую они затеяли в день моего рождения. Я встал, подошел к письменному столу, на котором стоял фужер с шампанским. Сняв часы, я положил их в карман пальто. Нажав кнопку звонка, я услышал его голос.\n",
      "\n",
      "Сняв свой пиджак, я бросил быстрый взгляд на него.\n",
      "\n",
      "— Добрый вечер, детектив Филлипс. Вы не могли бы зайти сюда, когда я закончу? — спросил я.\n",
      "\n",
      "— Вы знаете, что хотели бы поговорить с Филлипсом насчет моей дочери?\n",
      "\n",
      "— Нет. Только у вас.\n",
      "\n",
      "— Так мне удобнее.\n",
      "\n",
      "— А если вы пойдете со мной наверх? — спросил я.\n",
      "\n",
      "— Нет, я занят с детьми.\n",
      "\n",
      "— А если я просто прогуляюсь, и вы придете ко мне сами, и я не могу вас беспокоить?\n",
      "\n",
      "— Я же не работаю, мне нужно время.\n",
      "\n",
      "— Тогда пошли.\n",
      "\n",
      "— Что ж, тогда в другое время. — Я поднялся с кресла и вышел из комнаты. У меня снова было чувство беспокойства и неуверенности. Усевшись с другой стороны дивана, я стал думать, чем буду заняться утром, когда вернусь к себе в дом. Сегодня я чувствовал себя глупо, а если будет еще что-нибудь, я буду винить всех друзей с той вечеринки. Я все еще не мог понять, почему же я здесь живу. Не понимаю, почему меня одели так, как я одевался вчера. Почему меня никогда не подстригали и никогда не одел такой же, как я сегодня?\n",
      "\n",
      "Внезапно я почувствовал себя ужасно. Я вдруг понял, почему все друзья в доме называют меня странным прозвищем, а на вечеринки никто со мной не разговаривает. Почему все друзья так себя называют? Они так говорят, потому что хотят этого? Кто они? На вечеринке они были вместе. Почему он говорит, что хочет поговорить со мной? Почему они не ведут себя так, как те, с кем он познакомился и кого они считали своими друзьями? И почему они разговаривают так, как будто ничего не случилось? Неужели они не верят\n",
      "\n",
      "---\n",
      ">> Generated text 2\n",
      "\n",
      "он посмотрел на меня внимательно. И, не дождавшись внятного ответа, продолжил. - Если с вами случилось то, что произошло со мной, вы должны понимать, что все это не только случайность, и вы попали в ад. Вы сделали не правильный выбор и, тем самым, изменили свою жизнь на противоположную и это не должно было быть правдой. - Он встал и подошел ко мне, обхватив руками мою голову и опустив голову на мою грудь, слегка раздвигая ее грудные соски в стороны и я почувствовала, как он что-то шепчет на ухо. - Да, это правда? - Я не знаю, кто вы и откуда находитесь. - Вы должны понимать мои слова, ведь это так важно. Вы должны понимать, что когда вы будете вместе и тогда все разрешится само собой. У меня не будет другого ответа на ваш вопрос. Все же я знаю, что вы мне лжете. Я чувствую это и сейчас. Но вы должны жить здесь и сейчас. В этом случае, все будет не так, как вы себе представляете. - Я не могу ответить на ваш вопрос, - я немного успокоилась, - но я не могу сказать, что могу это сделать. Да, я хотела бы знать, что же на самом деле произошло. А что если все это время я с вами не разговаривала и не приходила, на самом деле? - Вы не ответили сами на свой вопрос. Ведь даже если это правда, а не ложь, то и это вы не все можете сказать, ведь все это только ваши сны, в которых вы хотите, чтобы с вами было все как должно быть… - Мне не нужно ваше признание. Я и так знаю все что происходило в моей жизни. И не хочу ничего спрашивать, пока я жив. - Так я понимаю, почему вы с вами не общались после этого утра, - кивнул Стив и, взяв меня за руку, направился к двери. Мы с ним обнялись и мы ушли, оставив друг друга в неведении. Но я знала, что его нет. На самом деле все так и было, я действительно была там, и я очень хотела этого. В этом не было какой-то особенной секретности, ведь Стив не мог видеть меня просто так. Он находился со мной в одной точке одновременно, только в двух комнатах. Конечно, я видела его в тот вечер, когда он зашел ко мне в комнату, и когда он, как я поняла, был в моей, и поэтому видел меня, но никогда я не видела его более. И то, что произошло между\n",
      "\n",
      "---\n",
      ">> Generated text 3\n",
      "\n",
      "он посмотрел на меня:\n",
      "\n",
      "— Все просто, — произнес он. — Ты слишком мало знаешь про людей, чтобы чувствовать ответственность, правда? Почему ты должна быть настолько важной, чтобы это сделать? — Голос его зазвучал устало.\n",
      "\n",
      "Я посмотрела на него и увидела, что он медленно повернул голову. Он выглядел уставшим, и это меня не удивило — во мне не было никакой неуверенности. Я просто знала, что буду так же осторожна…\n",
      "\n",
      "— Почему все просто? — спросил он. — Все просто. Это моя проблема.\n",
      "\n",
      "— А твоя? — поинтересовалась я. — Что ты имеешь в виду? Ты знаешь, что ты можешь позволить себе стать частью моей жизни? Что ты можешь рассказать, где ты был, когда я была ребенком? И сколько тебе лет?\n",
      "\n",
      "Он пожал плечами.\n",
      "\n",
      "— Тридцать восемь, если по моим годам. Больше я не знаю, что ты имеешь в виду. Но я должен рассказать тебе об одной вещи…\n",
      "\n",
      "— А зачем ты вообще пришел ко мне? Чтобы поговорить со мной? — спросила я почти умоляющим голосом.\n",
      "\n",
      "Он резко сжал мою руку так резко, будто моя рука попала ему между бедер.\n",
      "\n",
      "— Я пришел с той целью, когда ты и я еще не были вместе три года. Я хотел услышать об этом. Но я не думаю, что это было бы для тебя приятно. Я хотел, чтобы ты поняла, что мне нужна твоя помощь. Ты должна понять, что я должен чувствовать.\n",
      "\n",
      "На миг я почувствовала, что у меня пересохло во рту, когда он сказал мое имя. Я почувствовала, как напрягся его голос, и поняла, что он пытается сдержать слово. Тогда я решила, что он хотел сказать это, но поняла неправильно. Это просто не было правдой, я просто не знала, что он имел в виду: его слова были настолько далеки от правды, что я испугалась.\n",
      "\n",
      "— Я не думала об этом, а пришла узнать, что случилось, — продолжала я осторожно. — У меня нет времени ни на что еще. Я думала, что ты мне нужен. И я нашла тебя.\n",
      "\n",
      "— Ты думаешь, что я был просто… — Он замолчал. У него были жесткие глаза. — Я подумал тогда, когда познакомился с тобой. И это привело меня к той мысли, что я буду любить тебя.\n",
      "\n",
      "От этого воспоминания меня охватила паника\n",
      "\n",
      "---\n",
      "CPU times: user 5.81 s, sys: 0 ns, total: 5.81 s\n",
      "Wall time: 5.81 s\n"
     ]
    }
   ],
   "source": [
    "%%time\n",
    "#set top_k = 40 and num_return_sequences = 3\n",
    "sample_outputs = model_last2.generate(input_ids, pad_token_id=50264,\n",
    "                                   do_sample=True, \n",
    "                                   max_length=500, \n",
    "                                   min_length=10,\n",
    "                                   top_k=40,\n",
    "                                   num_return_sequences=3)\n",
    "\n",
    "for i, sample_output in enumerate(sample_outputs):\n",
    "    print(\">> Generated text {}\\n\\n{}\".format(i+1, tokenizer.decode(sample_output.tolist())))\n",
    "    print('\\n---')"
   ]
  },
  {
   "cell_type": "markdown",
   "metadata": {},
   "source": [
    "### Generating (Top-p nucleus sampling)"
   ]
  },
  {
   "cell_type": "code",
   "execution_count": 54,
   "metadata": {},
   "outputs": [
    {
     "name": "stdout",
     "output_type": "stream",
     "text": [
      ">> Generated text 1\n",
      "\n",
      "он посмотрел на меня. Не мог же я так поступить! И все же, не смотря ни на что, я решил остаться с ним в палате и не терять времени зря: - Доктор? Вызовите врача к завтраку. Я уже знал о его состоянии. Он был мертв почти три месяца назад, но сейчас вновь начал жить нормальной жизнью. Его глаза сияли счастьем, а губы кривились от счастья. Да, он жив! Но… почему тогда никто из нас об этом не узнает? Я вздохнул, чувствуя себя очень виноватым за то, как мне это дается. На мгновение даже показалось, будто сам дьявол бросил меня умирать. Мне кажется, что если бы у него спросили правду, я бы ей ответил. Ведь этот человек дал ему шанс еще раз пережить смерть. Пусть лишь для того, чтобы спасти свою жизнь. Как только я произнес эти слова, ко мне пришла уверенность. Что-то изменилось во мне после этих слов. Теперь я понимаю, как глупо было думать о том, что такое любовь! По моему лицу пробежала тень. Кто знает, возможно, эта фраза была чистой правдой. В следующий момент сердце болезненно сжалось, потому что мой голос прозвучал слишком громко. О Боже, да как же больно! Черт возьми, что со мной происходит?!\n",
      "\n",
      "---\n",
      ">> Generated text 2\n",
      "\n",
      "он посмотрел на меня и сказал:\n",
      "- А почему бы мне не посмотреть? Ты ведь любишь смотреть фильмы, но тебе кажется, что это скушно. И потом, мы же в школе не учились! - Я покраснел от стыда.\n",
      "Он улыбнулся ещё шире и добавил: - Просто я так думаю…\n",
      "Я кивнул и стал ждать пока он скажет или нет о том, как его зовут. Он вышел из комнаты и вернулся с бутылкой виски. Зашёл к нам через чёрный ход и налил себе вторую порцию. Мы выпили, а я начал рассказывать ему всё то, что знаю про своё прошлое. Про свою жизнь, про родителей и друзей, про учителей и учителя вообще. Но только сейчас я вспомнил нашу первую встречу. На этом вечере все говорили обо мне. О том, кто мой отец, какие у нас отношения были до встречи со школой, где я был третьим парнем класса. Все эти разговоры вдруг оказались для меня очень важными. Теперь я понимал их значение для нашей дружбы. Мне стало интересно даже больше чем вчерашний вечер, когда наш классный руководитель рассказывала об университете и друзьях. Она была немного грустна, поэтому слушала внимательно, иногда подперев рукой подбородок. В её голосе было столько горечи, такой теплоты, будто она плакала\n",
      "\n",
      "---\n",
      ">> Generated text 3\n",
      "\n",
      "он посмотрел на меня. — А теперь, я полагаю, вы не собираетесь отказываться от своих планов?\n",
      "\n",
      "Он рассмеялся: — Нет-нет! Вы должны подумать об этом сейчас же и только потом принимать решение. Я знаю, что вас ждет сюрприз в виде вашего решения. Все ваши планы могут быть осуществлены уже сегодня утром. И если это произойдет завтра, то все, что вам нужно сделать, — всего лишь провести несколько часов вдали от дома, чтобы хорошенько набраться сил перед предстоящей встречей с будущим супругом, а затем отправиться к нему домой, где его ждут любящие родители и друзья. Когда он приедет сюда, мы будем рядом со всеми вами. Только так можно победить свою гордыню.\n",
      "\n",
      "Я кивнула, чувствуя, как мое сердце бешено колотится. Не могу сказать, что была расстроена или огорчена по поводу этого сообщения, но мне хотелось верить ему до конца. Мне предстояло узнать правду о нашем разговоре, когда он снова вернется ко мне. Он знал мою мать и всю ее семью, поэтому она тоже могла рассказать обо всем, что произошло за последние недели, после того, как они уехали из города. Возможно, у него были свои причины скрывать их, и его отец считал, что именно этот факт может помочь им\n",
      "\n",
      "---\n",
      "CPU times: user 3.5 s, sys: 17 µs, total: 3.5 s\n",
      "Wall time: 3.5 s\n"
     ]
    }
   ],
   "source": [
    "%%time\n",
    "sample_outputs = model_last2.generate(input_ids, pad_token_id=50256,\n",
    "                                   do_sample=True,\n",
    "                                   max_length=250, \n",
    "                                   min_length=10,\n",
    "                                   repetition_penalty=1.2,\n",
    "                                   temperature=0.7,\n",
    "                                   top_k=50, \n",
    "                                   top_p=0.95, \n",
    "                                   num_return_sequences=3)\n",
    "\n",
    "for i, sample_output in enumerate(sample_outputs):\n",
    "    print(\">> Generated text {}\\n\\n{}\".format(i+1, tokenizer.decode(sample_output.tolist())))\n",
    "    print('\\n---')"
   ]
  }
 ],
 "metadata": {
  "accelerator": "GPU",
  "colab": {
   "collapsed_sections": [],
   "name": "Ficbook_gpt.ipynb",
   "provenance": [],
   "toc_visible": true
  },
  "kernelspec": {
   "display_name": "Python 3",
   "language": "python",
   "name": "python3"
  },
  "language_info": {
   "codemirror_mode": {
    "name": "ipython",
    "version": 3
   },
   "file_extension": ".py",
   "mimetype": "text/x-python",
   "name": "python",
   "nbconvert_exporter": "python",
   "pygments_lexer": "ipython3",
   "version": "3.8.3"
  }
 },
 "nbformat": 4,
 "nbformat_minor": 1
}
