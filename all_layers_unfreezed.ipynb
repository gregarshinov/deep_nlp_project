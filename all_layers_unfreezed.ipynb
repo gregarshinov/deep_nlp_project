{
 "cells": [
  {
   "cell_type": "code",
   "execution_count": 1,
   "metadata": {
    "colab": {
     "base_uri": "https://localhost:8080/"
    },
    "id": "FU1_MKSy88zV",
    "outputId": "74299c10-dae0-45ce-95b9-3472fa99ff44"
   },
   "outputs": [
    {
     "name": "stdout",
     "output_type": "stream",
     "text": [
      "fanfics.txt  train.txt\tval.txt\r\n"
     ]
    }
   ],
   "source": [
    "DATA_HOME = \"data\"\n",
    "!ls \"$DATA_HOME\"\n"
   ]
  },
  {
   "cell_type": "code",
   "execution_count": 2,
   "metadata": {
    "id": "SRUpkokfBU2t"
   },
   "outputs": [
    {
     "name": "stderr",
     "output_type": "stream",
     "text": [
      "Special tokens have been added in the vocabulary, make sure the associated word embedding are fine-tuned or trained.\n"
     ]
    }
   ],
   "source": [
    "from transformers import AutoTokenizer\n",
    "\n",
    "tokenizer = AutoTokenizer.from_pretrained(\"sberbank-ai/rugpt3small_based_on_gpt2\")\n",
    "\n",
    "train_path = DATA_HOME + '/train.txt'\n",
    "test_path = DATA_HOME + '/test.txt'\n",
    "\n",
    "data_path = DATA_HOME + '/fanfics.txt'"
   ]
  },
  {
   "cell_type": "code",
   "execution_count": 3,
   "metadata": {
    "id": "7j5z5C9oDBHg"
   },
   "outputs": [],
   "source": [
    "from fastai.text import *"
   ]
  },
  {
   "cell_type": "code",
   "execution_count": 4,
   "metadata": {
    "colab": {
     "base_uri": "https://localhost:8080/"
    },
    "id": "TS5JHQRIFda9",
    "outputId": "3876eee2-2d78-4e87-85bd-2df18292fe53"
   },
   "outputs": [
    {
     "name": "stdout",
     "output_type": "stream",
     "text": [
      "cuda device: 2\n"
     ]
    }
   ],
   "source": [
    "import torch\n",
    "gpu = 2\n",
    "torch.cuda.set_device(gpu)\n",
    "print(f'cuda device: {torch.cuda.current_device()}')"
   ]
  },
  {
   "cell_type": "code",
   "execution_count": 5,
   "metadata": {
    "id": "EvtYPGOqeBW2"
   },
   "outputs": [],
   "source": [
    "from fastai.vision.all import *\n",
    "class TransformersTokenizer(Transform):\n",
    "    def __init__(self, tokenizer): self.tokenizer = tokenizer\n",
    "    def encodes(self, x): \n",
    "        toks = self.tokenizer.tokenize(x)\n",
    "        return tensor(self.tokenizer.convert_tokens_to_ids(toks))\n",
    "    def decodes(self, x): return TitledStr(self.tokenizer.decode(x.cpu().numpy()))"
   ]
  },
  {
   "cell_type": "code",
   "execution_count": 6,
   "metadata": {
    "id": "iEH9HU5QJsT4"
   },
   "outputs": [
    {
     "name": "stderr",
     "output_type": "stream",
     "text": [
      "Special tokens have been added in the vocabulary, make sure the associated word embedding are fine-tuned or trained.\n"
     ]
    }
   ],
   "source": [
    "from transformers import GPT2TokenizerFast, GPT2LMHeadModel\n",
    "pretrained_weights = \"sberbank-ai/rugpt3small_based_on_gpt2\"\n",
    "tokenizer = GPT2TokenizerFast.from_pretrained(pretrained_weights)\n",
    "model = GPT2LMHeadModel.from_pretrained(pretrained_weights)"
   ]
  },
  {
   "cell_type": "code",
   "execution_count": 7,
   "metadata": {
    "id": "ZWbojI8UFu7P"
   },
   "outputs": [],
   "source": [
    "tokenizer.pad_token = tokenizer.eos_token"
   ]
  },
  {
   "cell_type": "code",
   "execution_count": 8,
   "metadata": {
    "colab": {
     "base_uri": "https://localhost:8080/"
    },
    "id": "wwFlXg8oSc21",
    "outputId": "9ecbbc1a-4f2c-4178-d746-0c1e8ae7ac30"
   },
   "outputs": [
    {
     "data": {
      "text/plain": [
       "GPT2Config {\n",
       "  \"_name_or_path\": \"sberbank-ai/rugpt3small_based_on_gpt2\",\n",
       "  \"activation_function\": \"gelu_new\",\n",
       "  \"architectures\": [\n",
       "    \"GPT2LMHeadModel\"\n",
       "  ],\n",
       "  \"attn_pdrop\": 0.1,\n",
       "  \"bos_token_id\": 50256,\n",
       "  \"embd_pdrop\": 0.1,\n",
       "  \"eos_token_id\": 50256,\n",
       "  \"gradient_checkpointing\": false,\n",
       "  \"initializer_range\": 0.02,\n",
       "  \"layer_norm_epsilon\": 1e-05,\n",
       "  \"model_type\": \"gpt2\",\n",
       "  \"n_ctx\": 2048,\n",
       "  \"n_embd\": 768,\n",
       "  \"n_head\": 12,\n",
       "  \"n_inner\": null,\n",
       "  \"n_layer\": 12,\n",
       "  \"n_positions\": 2048,\n",
       "  \"resid_pdrop\": 0.1,\n",
       "  \"summary_activation\": null,\n",
       "  \"summary_first_dropout\": 0.1,\n",
       "  \"summary_proj_to_labels\": true,\n",
       "  \"summary_type\": \"cls_index\",\n",
       "  \"summary_use_proj\": true,\n",
       "  \"use_cache\": true,\n",
       "  \"vocab_size\": 50264\n",
       "}"
      ]
     },
     "execution_count": 8,
     "metadata": {},
     "output_type": "execute_result"
    }
   ],
   "source": [
    "model.config"
   ]
  },
  {
   "cell_type": "code",
   "execution_count": 9,
   "metadata": {
    "colab": {
     "base_uri": "https://localhost:8080/"
    },
    "id": "DvnVH85THDZl",
    "outputId": "01a3c63e-9fa8-4438-f992-3b7b8d52c055"
   },
   "outputs": [
    {
     "name": "stderr",
     "output_type": "stream",
     "text": [
      "Using sep_token, but it is not set yet.\n",
      "Using cls_token, but it is not set yet.\n",
      "Using mask_token, but it is not set yet.\n"
     ]
    },
    {
     "name": "stdout",
     "output_type": "stream",
     "text": [
      "max_model_input_sizes\n",
      "-  gpt2 1024\n",
      "-  gpt2-medium 1024\n",
      "-  gpt2-large 1024\n",
      "-  gpt2-xl 1024\n",
      "-  distilgpt2 1024\n",
      "\n",
      "model_max_length: 1000000000000000019884624838656\n",
      "\n",
      "padding_side: right\n",
      "\n",
      "model_input_names: ['attention_mask']\n",
      "\n",
      "bos_token & bos_token_id: <|endoftext|> 50257\n",
      "\n",
      "eos_token & eos_token_id: <|endoftext|> 50257\n",
      "\n",
      "unk_token & unk_token_id: <|endoftext|> 50257\n",
      "\n",
      "sep_token: None\n",
      "\n",
      "pad_token, pad_token_id & pad_token_type_id: <|endoftext|> 50257 0\n",
      "\n",
      "cls_token: None\n",
      "\n",
      "mask_token: None\n",
      "\n",
      "additional_special_tokens: []\n",
      "\n",
      "all_special_tokens & all_special_ids: ['<|endoftext|>', '<|endoftext|>', '<|endoftext|>', '<|endoftext|>'] [50257, 50257, 50257, 50257]\n",
      "\n",
      "---------- vocab ----------\n",
      "\n",
      "vocab_files_names: {'vocab_file': 'vocab.json', 'merges_file': 'merges.txt', 'tokenizer_file': 'tokenizer.json'}\n",
      "\n",
      "vocab_file\n",
      "-  gpt2 : https://huggingface.co/gpt2/resolve/main/vocab.json\n",
      "-  gpt2-medium : https://huggingface.co/gpt2-medium/resolve/main/vocab.json\n",
      "-  gpt2-large : https://huggingface.co/gpt2-large/resolve/main/vocab.json\n",
      "-  gpt2-xl : https://huggingface.co/gpt2-xl/resolve/main/vocab.json\n",
      "-  distilgpt2 : https://huggingface.co/distilgpt2/resolve/main/vocab.json\n",
      "\n",
      "merges_file\n",
      "-  gpt2 : https://huggingface.co/gpt2/resolve/main/merges.txt\n",
      "-  gpt2-medium : https://huggingface.co/gpt2-medium/resolve/main/merges.txt\n",
      "-  gpt2-large : https://huggingface.co/gpt2-large/resolve/main/merges.txt\n",
      "-  gpt2-xl : https://huggingface.co/gpt2-xl/resolve/main/merges.txt\n",
      "-  distilgpt2 : https://huggingface.co/distilgpt2/resolve/main/merges.txt\n",
      "\n",
      "tokenizer_file\n",
      "-  gpt2 : https://huggingface.co/gpt2/resolve/main/tokenizer.json\n",
      "-  gpt2-medium : https://huggingface.co/gpt2-medium/resolve/main/tokenizer.json\n",
      "-  gpt2-large : https://huggingface.co/gpt2-large/resolve/main/tokenizer.json\n",
      "-  gpt2-xl : https://huggingface.co/gpt2-xl/resolve/main/tokenizer.json\n",
      "-  distilgpt2 : https://huggingface.co/distilgpt2/resolve/main/tokenizer.json\n",
      "\n",
      "vocab_size: 50257\n",
      "\n"
     ]
    }
   ],
   "source": [
    "\n",
    "# source: https://huggingface.co/transformers/_modules/transformers/tokenization_utils_fast.html\n",
    "    \n",
    "# print('short-cut-names:',tokenizer.short-cut-names) \n",
    "# print()  \n",
    "\n",
    "print('max_model_input_sizes')\n",
    "for k,v in tokenizer.max_model_input_sizes.items():\n",
    "    print('- ',k,v)\n",
    "print()\n",
    "    \n",
    "print('model_max_length:',tokenizer.model_max_length)\n",
    "print()\n",
    "\n",
    "for k,v in tokenizer.pretrained_init_configuration.items():\n",
    "    print(k,v)\n",
    "    \n",
    "print('padding_side:',tokenizer.padding_side)\n",
    "print()\n",
    "\n",
    "print('model_input_names:',tokenizer.model_input_names)\n",
    "print()\n",
    "\n",
    "print('bos_token & bos_token_id:',tokenizer.bos_token,tokenizer.bos_token_id)\n",
    "print()\n",
    "\n",
    "print('eos_token & eos_token_id:',tokenizer.eos_token,tokenizer.eos_token_id)\n",
    "print()\n",
    "\n",
    "print('unk_token & unk_token_id:',tokenizer.unk_token,tokenizer.unk_token_id)\n",
    "print()\n",
    "\n",
    "print('sep_token:',tokenizer.sep_token)\n",
    "print()\n",
    "\n",
    "print('pad_token, pad_token_id & pad_token_type_id:',tokenizer.pad_token,tokenizer.pad_token_id,tokenizer.pad_token_type_id)\n",
    "print()\n",
    "\n",
    "print('cls_token:',tokenizer.cls_token)\n",
    "print()\n",
    "\n",
    "print('mask_token:',tokenizer.mask_token)\n",
    "print()\n",
    "\n",
    "print('additional_special_tokens:',tokenizer.additional_special_tokens)\n",
    "print()\n",
    "\n",
    "print('all_special_tokens & all_special_ids:',tokenizer.all_special_tokens,tokenizer.all_special_ids)\n",
    "print()\n",
    "\n",
    "print('---------- vocab ----------')\n",
    "print()\n",
    "\n",
    "print('vocab_files_names:',tokenizer.vocab_files_names)\n",
    "print()\n",
    "\n",
    "for k,v in tokenizer.pretrained_vocab_files_map.items():\n",
    "    print(k)\n",
    "    for kk,vv in v.items():\n",
    "        print('- ',kk,':',vv)\n",
    "    print()\n",
    "    \n",
    "print('vocab_size:',tokenizer.vocab_size)\n",
    "print()\n",
    "#print(tokenizer.get_vocab())\n"
   ]
  },
  {
   "cell_type": "code",
   "execution_count": 10,
   "metadata": {
    "colab": {
     "base_uri": "https://localhost:8080/",
     "height": 442
    },
    "id": "2QQuo-VkTgi-",
    "outputId": "4258d411-933d-4a12-8740-e1dafbc81f6d"
   },
   "outputs": [
    {
     "data": {
      "text/html": [
       "<div>\n",
       "<style scoped>\n",
       "    .dataframe tbody tr th:only-of-type {\n",
       "        vertical-align: middle;\n",
       "    }\n",
       "\n",
       "    .dataframe tbody tr th {\n",
       "        vertical-align: top;\n",
       "    }\n",
       "\n",
       "    .dataframe thead th {\n",
       "        text-align: right;\n",
       "    }\n",
       "</style>\n",
       "<table border=\"1\" class=\"dataframe\">\n",
       "  <thead>\n",
       "    <tr style=\"text-align: right;\">\n",
       "      <th></th>\n",
       "      <th>text</th>\n",
       "    </tr>\n",
       "  </thead>\n",
       "  <tbody>\n",
       "    <tr>\n",
       "      <th>0</th>\n",
       "      <td>— Я обещаю тебе, что совершу чудо. Ты веришь мне? Холодный майский ветер унес эти слова, оставляя их лишь тому, кому они изначально адресованы. Девушка улыбнулась, нотка счастья показалась на ее лице, однако ничего не могло утешить ее, успокоить ту тревогу, которая еще давно легла на сердце. Вновь вернулся грустный, почти убитый взгляд. А мужчина все крепче прижимал её маленькое, слабое тело к себе. Он хотел защитить ее, но совсем скоро ему предстоит уйти. Может быть, навсегда. — Вернись, пожалуйста, — сквозь слезы прошептала она, — ты ведь нужен не только мне, но и всей своей семье, солнц...</td>\n",
       "    </tr>\n",
       "    <tr>\n",
       "      <th>1</th>\n",
       "      <td>Осень такая пора, Тебя никто не поймет не когда. И сколько не делай для этих людей, Они по другому к тебе отнесутся, Ведь им плевать на ваши чувства. Они не чувствуют,не дышат, Они не знают что такое боль. Но иногда от них хочется услышать, Что наконец,все будет хорошо.\\n</td>\n",
       "    </tr>\n",
       "    <tr>\n",
       "      <th>2</th>\n",
       "      <td>Это ты, И я играю с тобой, Это ты, И мне не кто не нужен другой, Это ты, Я играю с тобой, Это ты, Я люблю тебя, Это ты,И не кому не отдам, Это ты... Я играю с тобой словами любви, И это снова ты, Проклинаю тебя, За твои грехи, Это снова ты.\\n</td>\n",
       "    </tr>\n",
       "    <tr>\n",
       "      <th>3</th>\n",
       "      <td>На кладбище было тихо. Вопреки настроению, солнце безжалостно светило, не думая о людях. Два мага стояли возле свежей могилы. Ученик и учитель, молодой парень и седой старик. По щекам юнца текли слезы, но взгляд его был тверд. - Учитель, но я ведь все равно смогу увидеть их. Печально посмотрел на него старик: - Нет, дорогой, твоих родителей не вернуть. - Но почему?! Я теперь могу это! Я некромант! Отчаянный крик парня разорвал тишину. - Послушай, мой ученик. Есть одно правило, самое главное для некроманта. Никогда, ни за что не воскрешай своих любимых. - Как же?... - ученик перестал плакат...</td>\n",
       "    </tr>\n",
       "    <tr>\n",
       "      <th>4</th>\n",
       "      <td>Нирн - мир где много красивых мест, шумных городов, мелких деревушек, девственных лесов, а так же кровопролитных войн где люди и нелюди, жаждут власти и повиновения, где костром сжигают деревни, осаждают города, уничтожают леса, мир находится на грани уничтожения, но в пророчестве гласит «Время и место каждого Подвига определяется Судьбой. Но если не придёт Герой — не будет и Подвига.» Неизвестный автор, это пророчество было указано еще на древних свитках найденых под красной горой. Этот свиток лежал в руках богини Азуры. Расы населяющие Нирн Флориан - человек-растение. С виду Флориане без...</td>\n",
       "    </tr>\n",
       "  </tbody>\n",
       "</table>\n",
       "</div>"
      ],
      "text/plain": [
       "                                                                                                                                                                                                                                                                                                                                                                                                                                                                                                                                                                                                                      text\n",
       "0  — Я обещаю тебе, что совершу чудо. Ты веришь мне? Холодный майский ветер унес эти слова, оставляя их лишь тому, кому они изначально адресованы. Девушка улыбнулась, нотка счастья показалась на ее лице, однако ничего не могло утешить ее, успокоить ту тревогу, которая еще давно легла на сердце. Вновь вернулся грустный, почти убитый взгляд. А мужчина все крепче прижимал её маленькое, слабое тело к себе. Он хотел защитить ее, но совсем скоро ему предстоит уйти. Может быть, навсегда. — Вернись, пожалуйста, — сквозь слезы прошептала она, — ты ведь нужен не только мне, но и всей своей семье, солнц...\n",
       "1                                                                                                                                                                                                                                                                                                                                         Осень такая пора, Тебя никто не поймет не когда. И сколько не делай для этих людей, Они по другому к тебе отнесутся, Ведь им плевать на ваши чувства. Они не чувствуют,не дышат, Они не знают что такое боль. Но иногда от них хочется услышать, Что наконец,все будет хорошо.\\n\n",
       "2                                                                                                                                                                                                                                                                                                                                                                       Это ты, И я играю с тобой, Это ты, И мне не кто не нужен другой, Это ты, Я играю с тобой, Это ты, Я люблю тебя, Это ты,И не кому не отдам, Это ты... Я играю с тобой словами любви, И это снова ты, Проклинаю тебя, За твои грехи, Это снова ты.\\n\n",
       "3  На кладбище было тихо. Вопреки настроению, солнце безжалостно светило, не думая о людях. Два мага стояли возле свежей могилы. Ученик и учитель, молодой парень и седой старик. По щекам юнца текли слезы, но взгляд его был тверд. - Учитель, но я ведь все равно смогу увидеть их. Печально посмотрел на него старик: - Нет, дорогой, твоих родителей не вернуть. - Но почему?! Я теперь могу это! Я некромант! Отчаянный крик парня разорвал тишину. - Послушай, мой ученик. Есть одно правило, самое главное для некроманта. Никогда, ни за что не воскрешай своих любимых. - Как же?... - ученик перестал плакат...\n",
       "4  Нирн - мир где много красивых мест, шумных городов, мелких деревушек, девственных лесов, а так же кровопролитных войн где люди и нелюди, жаждут власти и повиновения, где костром сжигают деревни, осаждают города, уничтожают леса, мир находится на грани уничтожения, но в пророчестве гласит «Время и место каждого Подвига определяется Судьбой. Но если не придёт Герой — не будет и Подвига.» Неизвестный автор, это пророчество было указано еще на древних свитках найденых под красной горой. Этот свиток лежал в руках богини Азуры. Расы населяющие Нирн Флориан - человек-растение. С виду Флориане без..."
      ]
     },
     "execution_count": 10,
     "metadata": {},
     "output_type": "execute_result"
    }
   ],
   "source": [
    "import pandas as pd\n",
    "import numpy as np\n",
    "with open(data_path, \"r\") as file:\n",
    "    text = file.readlines()\n",
    "texts_df = pd.DataFrame(text, columns=['text'])\n",
    "texts_df.head()"
   ]
  },
  {
   "cell_type": "code",
   "execution_count": 11,
   "metadata": {
    "id": "4nWYwW4FV1NH"
   },
   "outputs": [],
   "source": [
    "num = int(0.8*len(texts_df))\n",
    "\n",
    "idxs = np.random.randint(0, len(texts_df), len(texts_df))\n",
    "idxs_train = idxs[:num]\n",
    "idxs_val = idxs[num:]"
   ]
  },
  {
   "cell_type": "code",
   "execution_count": 12,
   "metadata": {
    "colab": {
     "base_uri": "https://localhost:8080/"
    },
    "id": "uUkCetIjWzgH",
    "outputId": "ecb8eeff-862c-4daf-e00a-8619b9dee2e3"
   },
   "outputs": [
    {
     "name": "stdout",
     "output_type": "stream",
     "text": [
      "CPU times: user 2.11 ms, sys: 168 µs, total: 2.28 ms\n",
      "Wall time: 1.92 ms\n"
     ]
    }
   ],
   "source": [
    "%%time\n",
    "all_texts = np.concatenate([texts_df.iloc[idxs_train].text.values, texts_df.iloc[idxs_val].text.values])"
   ]
  },
  {
   "cell_type": "code",
   "execution_count": 13,
   "metadata": {
    "id": "JbqT19okXGkY"
   },
   "outputs": [],
   "source": [
    "\n",
    "from fastai.data.core import TfmdLists\n",
    "from fastai.text.data import LMDataLoader\n",
    "splits = [list(idxs_train), list(idxs_val)]\n",
    "tls = TfmdLists(all_texts, TransformersTokenizer(tokenizer), splits=splits, dl_type=LMDataLoader)"
   ]
  },
  {
   "cell_type": "code",
   "execution_count": 14,
   "metadata": {
    "colab": {
     "base_uri": "https://localhost:8080/"
    },
    "id": "WWu-G-17XW_N",
    "outputId": "1db34c7e-498e-410e-ac06-c246b148eb9e"
   },
   "outputs": [
    {
     "data": {
      "text/plain": [
       "(tensor([ 1098,  1167, 31303,  ..., 16120,   655,   372]),\n",
       " tensor([ 677,  502, 3968,  ...,  975,   18,  203]))"
      ]
     },
     "execution_count": 14,
     "metadata": {},
     "output_type": "execute_result"
    }
   ],
   "source": [
    "tls.train[0],tls.valid[0]"
   ]
  },
  {
   "cell_type": "code",
   "execution_count": 15,
   "metadata": {
    "colab": {
     "base_uri": "https://localhost:8080/"
    },
    "id": "jASyT35jYve2",
    "outputId": "3a8bc202-416a-471e-90ca-bcf5421e36bd"
   },
   "outputs": [
    {
     "data": {
      "text/plain": [
       "(torch.Size([1588]), torch.Size([18756]))"
      ]
     },
     "execution_count": 15,
     "metadata": {},
     "output_type": "execute_result"
    }
   ],
   "source": [
    "tls.tfms(tls.train.items[0]).shape, tls.tfms(tls.valid.items[0]).shape"
   ]
  },
  {
   "cell_type": "code",
   "execution_count": 16,
   "metadata": {
    "colab": {
     "base_uri": "https://localhost:8080/"
    },
    "id": "hytJiLqVZP1h",
    "outputId": "1d9f0517-c5be-469c-dff2-eb07c8222507"
   },
   "outputs": [
    {
     "name": "stdout",
     "output_type": "stream",
     "text": [
      "Лучи февральского солнца заинтересованно, будь-то фсбэшники, в переписки школьников, проглядывали сквозь изумрудные шторы в тёмную комнату и указывали на юную 18-ти летнюю девушку, лежащую в своей кровати под тёплым одеялом. Она ощущала себя маленьким котёнком, попавшим в плен коробки, но в нашем случае коробкой являлась мягкая кровать, с которой невозможно подняться и чувствуешь себя настоящим заложником, мира грёз, котиков и тёплого одеялка. Но будильник надзиратель делает своё дело и ты бурча свои коронные проклятия под нос, чуть не в плотную здороваясь с дверью, плетёшься на кухню, за своим утренним спасителем в лице кофе. В последнее время неуклюжесть Влады уж слишком разыгралась и на днях решила познакомить её мизинец и край дивана лично и через - чур близко, теперь девушка в свое единственный выходной должна идти к хирургу, и выслушивать все новые сплетни от местный бабулек в очереди. Отвлёкшись от своих мыслей, Лада взглянула на часы и как ошпаренная вскочила с места - охуенно, ещё и опаздываю! Раздражённо крикнула она на всю квартиру и пошла одеваться. Небрежно уложенные, каштановые волосы скрылись под шапкой, а недовольное личико укуталось в шарф. Сибирские морозы давали о себе знать даже в феврале, когда под ногами хрустел снег, а в лицо дул холодный, обжигающий ветер. Дохромав до остановки, Влада не чувствовала ни лица, ни пальца, ей хотелось побыстрей, вернуться к такой желанной сейчас кровати. Маршрутка как назло опаздывала и оставила девушку наедине со своими мыслями, и наблюдениями за нелепой спешкой прохожих, изредко маленькие снежинки падали ей на нос и заставляли смешно корчится, всё больше ненавидя этот день. Вскоре долгожданная маршрутка подъехала, и девушка пулей влетела внутрь. Утренняя маршрутка, стандартный набор: бабы с тонной таналки и дорогущей сумочкой, перепутавшие мерс с автобусом; бабки непонятно куда едущие в такую рань и ничем не приметные люди. Влада направилась в самый конец транспортного средства и устроилась на сидении. Рядом с девушкой сидел парень лет 25, по внешности напоминающий либо хипстера, либо педофила, чёрное длинное пальто, небрежно накинутый шарф и густая тёмная борода, одет он был явно не по погоде, но блага в маршрутке было тепло. До больницы 10 минут езды и подсознание девушки так и уговаривало её заснуть, и Влада решила воспользоваться ситуацией, уже на пол - шага отправившись в мир грёз. Но один резкий поворот и сонная девушка падает головой на плечо рядом сидящего парня, Влада не успела ничего толком понять, как почувствовала на своём виске нежные, слегка суховатые, губы. Поняв ситуацию, девушка лишь смущённо отвернулась, ибо к такому нашего интроверта жизнь точно не готовила. Спустя минуту, из уст молодого человека донеслась фраза: -меня кстати Сергей зовут, а тебя? Голос парня буквально выбил Владу из калии и после неловкого молчание, девушка робко произнесла: - В…Влада - красивое имя, прямо как и его обладательница). Наша героиня совсем не знала как вести себя в такие моменты и просто, мило улыбалась, смотря в глаза своего собеседника, они буквально приковали Владу к себе, в них хотелось тонуть вечность. Бездонно карее зеркало души, манило всё ближе и ближе, девушка поддалась чувствам и с каждой секундой расстояние между ними уменьшалось, а воздух казалось нагревался от нетерпения, парень резко сокращает это расстояние и губы обоих сливаются в нежном и таком желанном сейчас поцелуи, слегка суховатые с привкусом табака губы Сергея идеально дополняют пухловатые и такие нежные, жаждущие любви, губы Влады. Мир вокруг для этих двоих словно испарился и кто бы мог подумать, что два незнакомых человека сейчас будут готовы забыть обо всём, и наслаждаться, возможно, единственным моментом проведённым вместе. Что это, любовь? Или кто-то переслушал песен «IOWA»? А может автор вселенной словил белочку от чая? Останется на умах читателя… Предательский воздух кончается и вынуждает отпустить, столь желанные губы, вид девушки в этот момент буквально сносит крышу парню, растрёпанные из-за шапки волосы и алые от долгого поцелуя губы, настолько смущённой девушки, эта картина надолго останется во влажных фантазиях Сергея. Любоваться этой картиной парню, было дано не долго, маршрутка останавливается и девушка тут же расстваряется среди выходящих людей. Влада пришла в больницу и заняла свою очередь, всё это время девушка думала о парне из маршрутки, а точнее о её безумном влечении к нему, эти глаза, эти губы и улыбка… при одном воспоминании об этом по телу пробегали мурашки. За своими размышлениями она и не заметила, как очередь перед ней испарилась и кроме неё в коридоре осталась только такая же думающая о своём уборщица. Влада заходит в кабинет к хирургу и закрывает за собой дверь… Она аккуратно поднимает глаза на неизвестного ей врача, хотя такой уж он и неизвестный? Подняв глаза, она видит Серёжу и снова, те самые чувства, то самое влечение друг к другу, которое они уже не собираются останавливать. Парень со всей силы прижимает её к стене, резкий поцелуй, не такой как в первый раз, страстный, грубый, пошлый до крови на губах и постанываниями, перерастающими в крик. Он исследует каждый миллиметр рта девушки и явно не собирается заканчивать всё так просто. Да и сама Влада явно не против и такое, доминантное поведение ей явно нравится, девушка уже давится стонами и ей явно не хватает воздуха. Парень разрывает поцелуй и снова подобная картина: растрёпанные волосы, алые до крови прокусанные губы, вжатое в стену тело и попытки нормализовать сбившееся дыхание, сносит башню окончательно. Врач грубо кидает девушку на стоящий рядом диван и всё так же вжимает в поверхность, нависает сверху. Руки блуждают по молодому телу, а футболка с лифчиком летят в другой край комнаты, девственно чистую шею парень накрывает страстными поцелуями, а затем больно кусает, добиваясь стона из уст своей партнёрши. Самоуверенная и довольная улыбка, все вещи тут же летят на пол и эти двоя, остаются полностью обнажённые, парень снова начинает исследовать тело девушки и принимается за ключицы, Влада стонет, вскрикивает и местами скулит, явно теша самооценку парня. Наконец запястья девушки отпускают, но тут же всё внимание переключается на грудь, губы парня едва успели коснуться соска как по телу Влады пробежали толпы мурашек, он начал на удивление нежно покусывать его и прокручивать между пальцев второй. Девушка хныкала и выстанывала имя парня, она явно уже вся расстварилась в эйфории. Терпению этих двоих уж точно подошёл предел. Впиваясь в губы и не разрывая поцелуй, он вводит один палец, затем второй, бережно растягивая, не в силах сдерживать свой каменный стояк он грубо, резко и неожиданно для девушки входит. Влада вскрикивает и впивается своими ногтями в спину врача, тем самый ещё сильнее возбуждая его. Он начал рвано двигаться в ней и снова принялся терзать её соски под громкий стон наслаждения. Финальные резкие толчки и девушка кончает, громко выстанывая имя врача. Никто не знает, что ждёт этих двоих дальше, но что мы знаем точно, это то, что автор всё так словил белочку от чая… \n",
      "\n"
     ]
    }
   ],
   "source": [
    "show_at(tls.train, 0)"
   ]
  },
  {
   "cell_type": "code",
   "execution_count": 17,
   "metadata": {
    "colab": {
     "base_uri": "https://localhost:8080/"
    },
    "id": "AlcipfJrZf4n",
    "outputId": "9fc401c6-874a-45e4-be7a-d84e45c93f65"
   },
   "outputs": [
    {
     "name": "stdout",
     "output_type": "stream",
     "text": [
      "CPU times: user 3min 14s, sys: 2.12 s, total: 3min 16s\n",
      "Wall time: 3min 17s\n"
     ]
    }
   ],
   "source": [
    "%%time\n",
    "bs,sl = 8,1024\n",
    "dls = tls.dataloaders(bs=bs, seq_len=sl)"
   ]
  },
  {
   "cell_type": "code",
   "execution_count": 18,
   "metadata": {
    "colab": {
     "base_uri": "https://localhost:8080/",
     "height": 71
    },
    "id": "W_ERwgkkh7LL",
    "outputId": "50904542-038f-49f7-945a-115300e25ef8"
   },
   "outputs": [
    {
     "data": {
      "text/html": [
       "\n",
       "    <div>\n",
       "        <style>\n",
       "            /* Turns off some styling */\n",
       "            progress {\n",
       "                /* gets rid of default border in Firefox and Opera. */\n",
       "                border: none;\n",
       "                /* Needs to be in here for Safari polyfill so background images work as expected. */\n",
       "                background-size: auto;\n",
       "            }\n",
       "            .progress-bar-interrupted, .progress-bar-interrupted::-webkit-progress-bar {\n",
       "                background: #F44336;\n",
       "            }\n",
       "        </style>\n",
       "      <progress value='9017' class='' max='9017' style='width:300px; height:20px; vertical-align: middle;'></progress>\n",
       "      100.00% [9017/9017 03:13<00:00]\n",
       "    </div>\n",
       "    "
      ],
      "text/plain": [
       "<IPython.core.display.HTML object>"
      ]
     },
     "metadata": {},
     "output_type": "display_data"
    },
    {
     "name": "stdout",
     "output_type": "stream",
     "text": [
      "CPU times: user 3min 13s, sys: 735 ms, total: 3min 14s\n",
      "Wall time: 3min 13s\n"
     ]
    }
   ],
   "source": [
    "%%time\n",
    "def tokenize(text):\n",
    "    toks = tokenizer.tokenize(text)\n",
    "    return tensor(tokenizer.convert_tokens_to_ids(toks))\n",
    "\n",
    "tokenized = [tokenize(t) for t in progress_bar(all_texts)]"
   ]
  },
  {
   "cell_type": "code",
   "execution_count": 19,
   "metadata": {
    "id": "2LycaOBvheDN"
   },
   "outputs": [],
   "source": [
    "class TransformersTokenizer(Transform):\n",
    "    def __init__(self, tokenizer): self.tokenizer = tokenizer\n",
    "    def encodes(self, x): \n",
    "        return x if isinstance(x, Tensor) else tokenize(x)\n",
    "        \n",
    "    def decodes(self, x): return TitledStr(self.tokenizer.decode(x.cpu().numpy()))"
   ]
  },
  {
   "cell_type": "code",
   "execution_count": 20,
   "metadata": {
    "colab": {
     "base_uri": "https://localhost:8080/"
    },
    "id": "Y5EM9QpMhfnn",
    "outputId": "c6434798-fead-480e-9691-59ab496439bb"
   },
   "outputs": [
    {
     "name": "stdout",
     "output_type": "stream",
     "text": [
      "CPU times: user 3min 18s, sys: 455 ms, total: 3min 19s\n",
      "Wall time: 3min 19s\n"
     ]
    }
   ],
   "source": [
    "%%time\n",
    "tls2 = TfmdLists(tokenized, TransformersTokenizer(tokenizer), splits=splits, dl_type=LMDataLoader)\n",
    "dls2 = tls.dataloaders(bs=8, seq_len=1024)"
   ]
  },
  {
   "cell_type": "code",
   "execution_count": 21,
   "metadata": {
    "id": "MfYyMJpkleYL"
   },
   "outputs": [],
   "source": [
    "class DropOutput(Callback):\n",
    "    def after_pred(self): self.learn.pred = self.pred[0]"
   ]
  },
  {
   "cell_type": "code",
   "execution_count": 22,
   "metadata": {
    "id": "J8BHMC8xhE3E"
   },
   "outputs": [],
   "source": [
    "def splitter(model):\n",
    "    \"Split a GPT2 `model` in 3 groups for differential learning rates.\"\n",
    "    \n",
    "    # First layers group : decoder blocks from 0 to 3\n",
    "    modules = []\n",
    "    for i in range(4): modules.append(model.transformer.h[i])\n",
    "    groups = [nn.Sequential(*modules)]\n",
    "\n",
    "    # Second layers group : decoder blocks from 4 to 7\n",
    "    modules = []\n",
    "    for i in range(4,8,1): modules.append(model.transformer.h[i])\n",
    "    groups = L(groups + [nn.Sequential(*modules)])\n",
    "\n",
    "    # Third layers group : decoder blocks from 8 to 11\n",
    "    modules = []\n",
    "    for i in range(8,12,1): modules.append(model.transformer.h[i])\n",
    "    groups = L(groups + [nn.Sequential(*modules)])\n",
    "    \n",
    "    # Fourth layers group : embeddings matrices wte and wpe + LayerNorm at the model output\n",
    "    groups = L(groups + [nn.Sequential(model.transformer.wte,model.transformer.wpe,model.transformer.ln_f)])\n",
    "    \n",
    "    return groups.map(params)"
   ]
  },
  {
   "cell_type": "code",
   "execution_count": 23,
   "metadata": {
    "id": "n0taK0ashNma"
   },
   "outputs": [],
   "source": [
    "learn = Learner(dls, model, loss_func=CrossEntropyLossFlat(),\n",
    "                splitter = splitter,\n",
    "                cbs=[DropOutput], \n",
    "                metrics=[accuracy, Perplexity()]).to_fp16()"
   ]
  },
  {
   "cell_type": "code",
   "execution_count": 24,
   "metadata": {
    "colab": {
     "base_uri": "https://localhost:8080/"
    },
    "id": "TfYS1cQehRbl",
    "outputId": "c8af2198-59ba-4027-ef9d-fcc3d0da717f"
   },
   "outputs": [
    {
     "name": "stdout",
     "output_type": "stream",
     "text": [
      "number of parameters groups: 4\n",
      "0 {'wd': 0.01, 'sqr_mom': 0.99, 'lr': 0.001, 'mom': 0.9, 'eps': 1e-05}\n",
      "1 {'wd': 0.01, 'sqr_mom': 0.99, 'lr': 0.001, 'mom': 0.9, 'eps': 1e-05}\n",
      "2 {'wd': 0.01, 'sqr_mom': 0.99, 'lr': 0.001, 'mom': 0.9, 'eps': 1e-05}\n",
      "3 {'wd': 0.01, 'sqr_mom': 0.99, 'lr': 0.001, 'mom': 0.9, 'eps': 1e-05}\n"
     ]
    }
   ],
   "source": [
    "# Check the number of parameters groups and the hyperparameters values\n",
    "learn.create_opt()\n",
    "print(f'number of parameters groups: {len(learn.opt.param_groups)}')\n",
    "\n",
    "# ... and the list of Learning Rates (before its atualization by the Optimizer of the function fit_one_cycle())\n",
    "for i,h in enumerate(learn.opt.hypers):\n",
    "    print(i,h)"
   ]
  },
  {
   "cell_type": "code",
   "execution_count": 36,
   "metadata": {},
   "outputs": [],
   "source": [
    "learn.model = model.cuda()\n"
   ]
  },
  {
   "cell_type": "code",
   "execution_count": 37,
   "metadata": {
    "colab": {
     "base_uri": "https://localhost:8080/",
     "height": 358
    },
    "id": "poMlmZLasUn9",
    "outputId": "63c5000c-dfe6-47b6-c3c8-4597e33ebbd9"
   },
   "outputs": [
    {
     "data": {
      "text/html": [],
      "text/plain": [
       "<IPython.core.display.HTML object>"
      ]
     },
     "metadata": {},
     "output_type": "display_data"
    },
    {
     "data": {
      "text/plain": [
       "GPT2LMHeadModel (Input shape: 8)\n",
       "============================================================================\n",
       "Layer (type)         Output Shape         Param #    Trainable \n",
       "============================================================================\n",
       "                     8 x 1024 x 768      \n",
       "Embedding                                 38602752   True      \n",
       "Embedding                                 1572864    True      \n",
       "Dropout                                                        \n",
       "LayerNorm                                 1536       True      \n",
       "____________________________________________________________________________\n",
       "                     8 x 1024 x 2304     \n",
       "Conv1D                                    1771776    False     \n",
       "Conv1D                                    590592     False     \n",
       "Dropout                                                        \n",
       "Dropout                                                        \n",
       "LayerNorm                                 1536       True      \n",
       "____________________________________________________________________________\n",
       "                     8 x 1024 x 3072     \n",
       "Conv1D                                    2362368    False     \n",
       "____________________________________________________________________________\n",
       "                     8 x 1024 x 768      \n",
       "Conv1D                                    2360064    False     \n",
       "Dropout                                                        \n",
       "LayerNorm                                 1536       True      \n",
       "____________________________________________________________________________\n",
       "                     8 x 1024 x 2304     \n",
       "Conv1D                                    1771776    False     \n",
       "Conv1D                                    590592     False     \n",
       "Dropout                                                        \n",
       "Dropout                                                        \n",
       "LayerNorm                                 1536       True      \n",
       "____________________________________________________________________________\n",
       "                     8 x 1024 x 3072     \n",
       "Conv1D                                    2362368    False     \n",
       "____________________________________________________________________________\n",
       "                     8 x 1024 x 768      \n",
       "Conv1D                                    2360064    False     \n",
       "Dropout                                                        \n",
       "LayerNorm                                 1536       True      \n",
       "____________________________________________________________________________\n",
       "                     8 x 1024 x 2304     \n",
       "Conv1D                                    1771776    False     \n",
       "Conv1D                                    590592     False     \n",
       "Dropout                                                        \n",
       "Dropout                                                        \n",
       "LayerNorm                                 1536       True      \n",
       "____________________________________________________________________________\n",
       "                     8 x 1024 x 3072     \n",
       "Conv1D                                    2362368    False     \n",
       "____________________________________________________________________________\n",
       "                     8 x 1024 x 768      \n",
       "Conv1D                                    2360064    False     \n",
       "Dropout                                                        \n",
       "LayerNorm                                 1536       True      \n",
       "____________________________________________________________________________\n",
       "                     8 x 1024 x 2304     \n",
       "Conv1D                                    1771776    False     \n",
       "Conv1D                                    590592     False     \n",
       "Dropout                                                        \n",
       "Dropout                                                        \n",
       "LayerNorm                                 1536       True      \n",
       "____________________________________________________________________________\n",
       "                     8 x 1024 x 3072     \n",
       "Conv1D                                    2362368    False     \n",
       "____________________________________________________________________________\n",
       "                     8 x 1024 x 768      \n",
       "Conv1D                                    2360064    False     \n",
       "Dropout                                                        \n",
       "LayerNorm                                 1536       True      \n",
       "____________________________________________________________________________\n",
       "                     8 x 1024 x 2304     \n",
       "Conv1D                                    1771776    False     \n",
       "Conv1D                                    590592     False     \n",
       "Dropout                                                        \n",
       "Dropout                                                        \n",
       "LayerNorm                                 1536       True      \n",
       "____________________________________________________________________________\n",
       "                     8 x 1024 x 3072     \n",
       "Conv1D                                    2362368    False     \n",
       "____________________________________________________________________________\n",
       "                     8 x 1024 x 768      \n",
       "Conv1D                                    2360064    False     \n",
       "Dropout                                                        \n",
       "LayerNorm                                 1536       True      \n",
       "____________________________________________________________________________\n",
       "                     8 x 1024 x 2304     \n",
       "Conv1D                                    1771776    False     \n",
       "Conv1D                                    590592     False     \n",
       "Dropout                                                        \n",
       "Dropout                                                        \n",
       "LayerNorm                                 1536       True      \n",
       "____________________________________________________________________________\n",
       "                     8 x 1024 x 3072     \n",
       "Conv1D                                    2362368    False     \n",
       "____________________________________________________________________________\n",
       "                     8 x 1024 x 768      \n",
       "Conv1D                                    2360064    False     \n",
       "Dropout                                                        \n",
       "LayerNorm                                 1536       True      \n",
       "____________________________________________________________________________\n",
       "                     8 x 1024 x 2304     \n",
       "Conv1D                                    1771776    False     \n",
       "Conv1D                                    590592     False     \n",
       "Dropout                                                        \n",
       "Dropout                                                        \n",
       "LayerNorm                                 1536       True      \n",
       "____________________________________________________________________________\n",
       "                     8 x 1024 x 3072     \n",
       "Conv1D                                    2362368    False     \n",
       "____________________________________________________________________________\n",
       "                     8 x 1024 x 768      \n",
       "Conv1D                                    2360064    False     \n",
       "Dropout                                                        \n",
       "LayerNorm                                 1536       True      \n",
       "____________________________________________________________________________\n",
       "                     8 x 1024 x 2304     \n",
       "Conv1D                                    1771776    False     \n",
       "Conv1D                                    590592     False     \n",
       "Dropout                                                        \n",
       "Dropout                                                        \n",
       "LayerNorm                                 1536       True      \n",
       "____________________________________________________________________________\n",
       "                     8 x 1024 x 3072     \n",
       "Conv1D                                    2362368    False     \n",
       "____________________________________________________________________________\n",
       "                     8 x 1024 x 768      \n",
       "Conv1D                                    2360064    False     \n",
       "Dropout                                                        \n",
       "LayerNorm                                 1536       True      \n",
       "____________________________________________________________________________\n",
       "                     8 x 1024 x 2304     \n",
       "Conv1D                                    1771776    False     \n",
       "Conv1D                                    590592     False     \n",
       "Dropout                                                        \n",
       "Dropout                                                        \n",
       "LayerNorm                                 1536       True      \n",
       "____________________________________________________________________________\n",
       "                     8 x 1024 x 3072     \n",
       "Conv1D                                    2362368    False     \n",
       "____________________________________________________________________________\n",
       "                     8 x 1024 x 768      \n",
       "Conv1D                                    2360064    False     \n",
       "Dropout                                                        \n",
       "LayerNorm                                 1536       True      \n",
       "____________________________________________________________________________\n",
       "                     8 x 1024 x 2304     \n",
       "Conv1D                                    1771776    False     \n",
       "Conv1D                                    590592     False     \n",
       "Dropout                                                        \n",
       "Dropout                                                        \n",
       "LayerNorm                                 1536       True      \n",
       "____________________________________________________________________________\n",
       "                     8 x 1024 x 3072     \n",
       "Conv1D                                    2362368    False     \n",
       "____________________________________________________________________________\n",
       "                     8 x 1024 x 768      \n",
       "Conv1D                                    2360064    False     \n",
       "Dropout                                                        \n",
       "LayerNorm                                 1536       True      \n",
       "____________________________________________________________________________\n",
       "                     8 x 1024 x 2304     \n",
       "Conv1D                                    1771776    False     \n",
       "Conv1D                                    590592     False     \n",
       "Dropout                                                        \n",
       "Dropout                                                        \n",
       "LayerNorm                                 1536       True      \n",
       "____________________________________________________________________________\n",
       "                     8 x 1024 x 3072     \n",
       "Conv1D                                    2362368    False     \n",
       "____________________________________________________________________________\n",
       "                     8 x 1024 x 768      \n",
       "Conv1D                                    2360064    False     \n",
       "Dropout                                                        \n",
       "LayerNorm                                 1536       True      \n",
       "____________________________________________________________________________\n",
       "                     8 x 1024 x 2304     \n",
       "Conv1D                                    1771776    False     \n",
       "Conv1D                                    590592     False     \n",
       "Dropout                                                        \n",
       "Dropout                                                        \n",
       "LayerNorm                                 1536       True      \n",
       "____________________________________________________________________________\n",
       "                     8 x 1024 x 3072     \n",
       "Conv1D                                    2362368    False     \n",
       "____________________________________________________________________________\n",
       "                     8 x 1024 x 768      \n",
       "Conv1D                                    2360064    False     \n",
       "Dropout                                                        \n",
       "LayerNorm                                 1536       True      \n",
       "____________________________________________________________________________\n",
       "                     8 x 1024 x 50264    \n",
       "Linear                                    38602752   True      \n",
       "____________________________________________________________________________\n",
       "\n",
       "Total params: 163,834,368\n",
       "Total trainable params: 78,816,768\n",
       "Total non-trainable params: 85,017,600\n",
       "\n",
       "Optimizer used: <function Adam at 0x7f6d0dc48e50>\n",
       "Loss function: FlattenedLoss of CrossEntropyLoss()\n",
       "\n",
       "Model frozen up to parameter group #3\n",
       "\n",
       "Callbacks:\n",
       "  - DropOutput\n",
       "  - ModelToHalf\n",
       "  - TrainEvalCallback\n",
       "  - MixedPrecision\n",
       "  - Recorder\n",
       "  - ProgressCallback"
      ]
     },
     "execution_count": 37,
     "metadata": {},
     "output_type": "execute_result"
    }
   ],
   "source": [
    "learn.freeze()\n",
    "learn.summary()"
   ]
  },
  {
   "cell_type": "markdown",
   "metadata": {},
   "source": [
    "### Unfreeze all layers"
   ]
  },
  {
   "cell_type": "code",
   "execution_count": 25,
   "metadata": {},
   "outputs": [
    {
     "data": {
      "text/html": [],
      "text/plain": [
       "<IPython.core.display.HTML object>"
      ]
     },
     "metadata": {},
     "output_type": "display_data"
    },
    {
     "data": {
      "text/plain": [
       "GPT2LMHeadModel (Input shape: 8)\n",
       "============================================================================\n",
       "Layer (type)         Output Shape         Param #    Trainable \n",
       "============================================================================\n",
       "                     8 x 1024 x 768      \n",
       "Embedding                                 38602752   True      \n",
       "Embedding                                 1572864    True      \n",
       "Dropout                                                        \n",
       "LayerNorm                                 1536       True      \n",
       "____________________________________________________________________________\n",
       "                     8 x 1024 x 2304     \n",
       "Conv1D                                    1771776    True      \n",
       "Conv1D                                    590592     True      \n",
       "Dropout                                                        \n",
       "Dropout                                                        \n",
       "LayerNorm                                 1536       True      \n",
       "____________________________________________________________________________\n",
       "                     8 x 1024 x 3072     \n",
       "Conv1D                                    2362368    True      \n",
       "____________________________________________________________________________\n",
       "                     8 x 1024 x 768      \n",
       "Conv1D                                    2360064    True      \n",
       "Dropout                                                        \n",
       "LayerNorm                                 1536       True      \n",
       "____________________________________________________________________________\n",
       "                     8 x 1024 x 2304     \n",
       "Conv1D                                    1771776    True      \n",
       "Conv1D                                    590592     True      \n",
       "Dropout                                                        \n",
       "Dropout                                                        \n",
       "LayerNorm                                 1536       True      \n",
       "____________________________________________________________________________\n",
       "                     8 x 1024 x 3072     \n",
       "Conv1D                                    2362368    True      \n",
       "____________________________________________________________________________\n",
       "                     8 x 1024 x 768      \n",
       "Conv1D                                    2360064    True      \n",
       "Dropout                                                        \n",
       "LayerNorm                                 1536       True      \n",
       "____________________________________________________________________________\n",
       "                     8 x 1024 x 2304     \n",
       "Conv1D                                    1771776    True      \n",
       "Conv1D                                    590592     True      \n",
       "Dropout                                                        \n",
       "Dropout                                                        \n",
       "LayerNorm                                 1536       True      \n",
       "____________________________________________________________________________\n",
       "                     8 x 1024 x 3072     \n",
       "Conv1D                                    2362368    True      \n",
       "____________________________________________________________________________\n",
       "                     8 x 1024 x 768      \n",
       "Conv1D                                    2360064    True      \n",
       "Dropout                                                        \n",
       "LayerNorm                                 1536       True      \n",
       "____________________________________________________________________________\n",
       "                     8 x 1024 x 2304     \n",
       "Conv1D                                    1771776    True      \n",
       "Conv1D                                    590592     True      \n",
       "Dropout                                                        \n",
       "Dropout                                                        \n",
       "LayerNorm                                 1536       True      \n",
       "____________________________________________________________________________\n",
       "                     8 x 1024 x 3072     \n",
       "Conv1D                                    2362368    True      \n",
       "____________________________________________________________________________\n",
       "                     8 x 1024 x 768      \n",
       "Conv1D                                    2360064    True      \n",
       "Dropout                                                        \n",
       "LayerNorm                                 1536       True      \n",
       "____________________________________________________________________________\n",
       "                     8 x 1024 x 2304     \n",
       "Conv1D                                    1771776    True      \n",
       "Conv1D                                    590592     True      \n",
       "Dropout                                                        \n",
       "Dropout                                                        \n",
       "LayerNorm                                 1536       True      \n",
       "____________________________________________________________________________\n",
       "                     8 x 1024 x 3072     \n",
       "Conv1D                                    2362368    True      \n",
       "____________________________________________________________________________\n",
       "                     8 x 1024 x 768      \n",
       "Conv1D                                    2360064    True      \n",
       "Dropout                                                        \n",
       "LayerNorm                                 1536       True      \n",
       "____________________________________________________________________________\n",
       "                     8 x 1024 x 2304     \n",
       "Conv1D                                    1771776    True      \n",
       "Conv1D                                    590592     True      \n",
       "Dropout                                                        \n",
       "Dropout                                                        \n",
       "LayerNorm                                 1536       True      \n",
       "____________________________________________________________________________\n",
       "                     8 x 1024 x 3072     \n",
       "Conv1D                                    2362368    True      \n",
       "____________________________________________________________________________\n",
       "                     8 x 1024 x 768      \n",
       "Conv1D                                    2360064    True      \n",
       "Dropout                                                        \n",
       "LayerNorm                                 1536       True      \n",
       "____________________________________________________________________________\n",
       "                     8 x 1024 x 2304     \n",
       "Conv1D                                    1771776    True      \n",
       "Conv1D                                    590592     True      \n",
       "Dropout                                                        \n",
       "Dropout                                                        \n",
       "LayerNorm                                 1536       True      \n",
       "____________________________________________________________________________\n",
       "                     8 x 1024 x 3072     \n",
       "Conv1D                                    2362368    True      \n",
       "____________________________________________________________________________\n",
       "                     8 x 1024 x 768      \n",
       "Conv1D                                    2360064    True      \n",
       "Dropout                                                        \n",
       "LayerNorm                                 1536       True      \n",
       "____________________________________________________________________________\n",
       "                     8 x 1024 x 2304     \n",
       "Conv1D                                    1771776    True      \n",
       "Conv1D                                    590592     True      \n",
       "Dropout                                                        \n",
       "Dropout                                                        \n",
       "LayerNorm                                 1536       True      \n",
       "____________________________________________________________________________\n",
       "                     8 x 1024 x 3072     \n",
       "Conv1D                                    2362368    True      \n",
       "____________________________________________________________________________\n",
       "                     8 x 1024 x 768      \n",
       "Conv1D                                    2360064    True      \n",
       "Dropout                                                        \n",
       "LayerNorm                                 1536       True      \n",
       "____________________________________________________________________________\n",
       "                     8 x 1024 x 2304     \n",
       "Conv1D                                    1771776    True      \n",
       "Conv1D                                    590592     True      \n",
       "Dropout                                                        \n",
       "Dropout                                                        \n",
       "LayerNorm                                 1536       True      \n",
       "____________________________________________________________________________\n",
       "                     8 x 1024 x 3072     \n",
       "Conv1D                                    2362368    True      \n",
       "____________________________________________________________________________\n",
       "                     8 x 1024 x 768      \n",
       "Conv1D                                    2360064    True      \n",
       "Dropout                                                        \n",
       "LayerNorm                                 1536       True      \n",
       "____________________________________________________________________________\n",
       "                     8 x 1024 x 2304     \n",
       "Conv1D                                    1771776    True      \n",
       "Conv1D                                    590592     True      \n",
       "Dropout                                                        \n",
       "Dropout                                                        \n",
       "LayerNorm                                 1536       True      \n",
       "____________________________________________________________________________\n",
       "                     8 x 1024 x 3072     \n",
       "Conv1D                                    2362368    True      \n",
       "____________________________________________________________________________\n",
       "                     8 x 1024 x 768      \n",
       "Conv1D                                    2360064    True      \n",
       "Dropout                                                        \n",
       "LayerNorm                                 1536       True      \n",
       "____________________________________________________________________________\n",
       "                     8 x 1024 x 2304     \n",
       "Conv1D                                    1771776    True      \n",
       "Conv1D                                    590592     True      \n",
       "Dropout                                                        \n",
       "Dropout                                                        \n",
       "LayerNorm                                 1536       True      \n",
       "____________________________________________________________________________\n",
       "                     8 x 1024 x 3072     \n",
       "Conv1D                                    2362368    True      \n",
       "____________________________________________________________________________\n",
       "                     8 x 1024 x 768      \n",
       "Conv1D                                    2360064    True      \n",
       "Dropout                                                        \n",
       "LayerNorm                                 1536       True      \n",
       "____________________________________________________________________________\n",
       "                     8 x 1024 x 2304     \n",
       "Conv1D                                    1771776    True      \n",
       "Conv1D                                    590592     True      \n",
       "Dropout                                                        \n",
       "Dropout                                                        \n",
       "LayerNorm                                 1536       True      \n",
       "____________________________________________________________________________\n",
       "                     8 x 1024 x 3072     \n",
       "Conv1D                                    2362368    True      \n",
       "____________________________________________________________________________\n",
       "                     8 x 1024 x 768      \n",
       "Conv1D                                    2360064    True      \n",
       "Dropout                                                        \n",
       "LayerNorm                                 1536       True      \n",
       "____________________________________________________________________________\n",
       "                     8 x 1024 x 50264    \n",
       "Linear                                    38602752   True      \n",
       "____________________________________________________________________________\n",
       "\n",
       "Total params: 163,834,368\n",
       "Total trainable params: 163,834,368\n",
       "Total non-trainable params: 0\n",
       "\n",
       "Optimizer used: <function Adam at 0x7f9506a1bf70>\n",
       "Loss function: FlattenedLoss of CrossEntropyLoss()\n",
       "\n",
       "Model unfrozen\n",
       "\n",
       "Callbacks:\n",
       "  - DropOutput\n",
       "  - ModelToHalf\n",
       "  - TrainEvalCallback\n",
       "  - MixedPrecision\n",
       "  - Recorder\n",
       "  - ProgressCallback"
      ]
     },
     "execution_count": 25,
     "metadata": {},
     "output_type": "execute_result"
    }
   ],
   "source": [
    "learn.unfreeze()\n",
    "learn.summary()"
   ]
  },
  {
   "cell_type": "code",
   "execution_count": 26,
   "metadata": {},
   "outputs": [
    {
     "data": {
      "text/html": [
       "<table border=\"1\" class=\"dataframe\">\n",
       "  <thead>\n",
       "    <tr style=\"text-align: left;\">\n",
       "      <th>epoch</th>\n",
       "      <th>train_loss</th>\n",
       "      <th>valid_loss</th>\n",
       "      <th>accuracy</th>\n",
       "      <th>perplexity</th>\n",
       "      <th>time</th>\n",
       "    </tr>\n",
       "  </thead>\n",
       "  <tbody>\n",
       "    <tr>\n",
       "      <td>0</td>\n",
       "      <td>3.346202</td>\n",
       "      <td>3.260819</td>\n",
       "      <td>0.391420</td>\n",
       "      <td>26.070885</td>\n",
       "      <td>1:23:15</td>\n",
       "    </tr>\n",
       "    <tr>\n",
       "      <td>1</td>\n",
       "      <td>3.294159</td>\n",
       "      <td>3.213555</td>\n",
       "      <td>0.396845</td>\n",
       "      <td>24.867329</td>\n",
       "      <td>1:25:00</td>\n",
       "    </tr>\n",
       "  </tbody>\n",
       "</table>"
      ],
      "text/plain": [
       "<IPython.core.display.HTML object>"
      ]
     },
     "metadata": {},
     "output_type": "display_data"
    }
   ],
   "source": [
    "learn.fit_one_cycle(2, slice(1e-4/(2.6**4),1e-4))"
   ]
  },
  {
   "cell_type": "code",
   "execution_count": 27,
   "metadata": {},
   "outputs": [
    {
     "data": {
      "image/png": "[encoded data removed]",
      "text/plain": [
       "<Figure size 432x288 with 1 Axes>"
      ]
     },
     "metadata": {
      "needs_background": "light"
     },
     "output_type": "display_data"
    }
   ],
   "source": [
    "\n",
    "#hide\n",
    "learn.recorder.plot_loss()"
   ]
  },
  {
   "cell_type": "code",
   "execution_count": 33,
   "metadata": {},
   "outputs": [],
   "source": [
    "model_all = learn.model\n",
    "prompt = \"он посмотрел на меня\"\n",
    "input_ids = tokenizer.encode(prompt, return_tensors='pt').to('cuda')"
   ]
  },
  {
   "cell_type": "markdown",
   "metadata": {},
   "source": [
    "### Generating (Top-k sampling)"
   ]
  },
  {
   "cell_type": "code",
   "execution_count": 37,
   "metadata": {},
   "outputs": [
    {
     "name": "stdout",
     "output_type": "stream",
     "text": [
      ">> Generated text 1\n",
      "\n",
      "он посмотрел на меня. - В смысле не… я его не видел. Хотя я и сам его не видел. А вы что здесь делаете? - Я же не говорил! - Устал. И ты меня не видел. - Я бы видел, конечно же. Но ты мне нужен. - Я? - Просто скажи, где ты и куда ты идёшь. - Не знаю, куда, но мне надо домой. - Да знаю. Мне тоже пора, пока. Удостоверившись, что всё закончилось, я вышел из автобуса и направился на остановку. Но на полпути остановился, чтобы посмотреть на автобус, так как из автобуса вышли ребята. Их не было, и я решил подождать их на остановке. Когда мои ребята подошли ко мне, то поинтересовались, куда я еду. - Это не важно, я не видел автобус пока. - Так. А сейчас что, ты уже еду? - Пока. Только у меня к вам просьба: не злитесь, если что-то не так. - Какая? - Не надо злиться на меня за то, что я не сказал, что мне нечего делать. - Всё хорошо. Я тоже так хочу. А ты что-то хотел? - Хотел, а что? - Заглянул в ваши паспорта. - Что сделал ты, когда узнал, что я у вас. Так-то ты точно мне не нравишься! - У меня с собой паспорт, он мой и только мой. И если в нём что-то не так, то я тебе его верну и помогу найти. - А куда ты идёшь? - В клуб. - Хорошо-хорошо. Только что видел наш новый клуб… - Да? - Да, он в центре города… - Отлично. Там много интересного. - Пошли. - Куда? - Не важно. Мне нужен тот, кто мне нужен. - Значит, пошли. - Куда? - Не важно. Мне нужен тот, кто мне нужен. Я же тебе говорил! - Ты совсем не изменился! - Ну, если не считать твоих волос. - А что ты хочешь? - Я не люблю свою одежду. - Сними её. - Нет, ты мне её не наденешь. - Ну и как? - Лучше не надо. - Давай, снимай. Она тебе идёт. И если тебе что-то не нравится в одежде, может мне что-то купить, или я тебе одолжу. - Нет, я сам куплю… - Не могу. - Не можешь, не бери.\n",
      "\n",
      "---\n",
      ">> Generated text 2\n",
      "\n",
      "он посмотрел на меня с удивлением. Я уже давно не видел таких милых лиц, как у тебя, но не было ничего похожего, разве что твой нос слегка приталенным, немного припухшим от постоянного дыхания и даже немного бледным. На ногах у тебя были только черные кожаные колготки из тонкой ткани. В волосах не было ни единого намёка на отрастающую седину, а губы были очень пухлыми, а нос слегка вздернут и немного заострён, и он был так похож на маленького котёнка, только длиннее. Я смотрел на тебя с нежностью и любовью и понимал, как у тебя красиво и прекрасно всё получается. Я понял, что тебе очень идет этот нарядик, ведь он почти не скрывает твоих черт. Ты не просто прекрасна, ты очень мила и искренна с этим парнем. Я начал думать, что это глупо, но вскоре решил для себя, что должен быть счастлив. Ты очень умна, и это видно по её глазам. Наверное, именно они выражают всю любовь к тебе. Наверное, они выражают и ту, что испытывают, когда кто-то умирает. Знаешь, я очень надеюсь, что наша любовь с тобой будет взаимной и долгой. — И я, — я поцеловал твою руку, — я тоже. Я люблю тебя, моя маленькая богиня.\n",
      "-Угу, -отозвался Саша на моё замечание и пошёл домой. Через час мы уже обсуждали все детали этого нового мира. Мы болтали о фильмах, которые смотрели. Ну и ладно. А завтра всё равно нужно идти в зал. Это мне очень клёвая идея! Ну да... Я так и сделал... Зайдя в зал, мы стали смотреть на танцпол, который был закрыт ещё вчера. Я подошёл к парню, который мне подошёл, и мы посмотрели вместе в глаза друг другу. Он был очень красивый, но в то же время я был слишком застенчив в нём, из-за этого его грудь стала немного маленькой. Через несколько минут я всё-таки смог оторвать взгляд от парня и посмотреть ему в глаза. Они были чуть темнее моих. Было видно, что их очень много, я никогда не видел парней с такими пышными формами. Было трудно что-либо разглядеть в них. Саша смотрел не на меня, а куда-то в глаза. Он пытался увидеть меня. Я не видел этих глаз, это было странно... Ведь они были такими невинными и слегка грустными. Было очень странно, ведь я был очень не в себе... В тот\n",
      "\n",
      "---\n",
      ">> Generated text 3\n",
      "\n",
      "он посмотрел на меня и улыбнулся. Я не видел его лица, не слышала его голоса... А он был в моих глазах. *** POV Кира. Вечер. Я проснулась и уже собиралась встать, как раздался стук в дверь, и к двери подошел отец. – Ты где была? Я хотела уйти, но ты же понимаешь, что я так долго ждал. – Не стоит уходить. Лучше скажи, где можно переночевать? – Я застала папу за работой. – А! – Он встал со стула. Я подошла к кровати и обняла его. – Прости! Мама ушла за покупками. – Ты что-то хотела узнать или что-то узнала? – Я не хочу разговаривать с тобой. – Ты просто любишь меня, поэтому я буду тебя оберегать. Мы всегда были рядом и поддерживали тебя, а сейчас даже не хочется. – А я так люблю, когда ты помогаешь своим друзьям. – Они очень рады, что я не один из их прислуги. – У тебя есть какая-то личная жизнь, так почему тебе не нужно уходить? – Я не хочу никого обнимать или плакать. – Мам, у меня семья. Мы должны жить вместе. Не хочу, чтобы они были вместе... POV Кира. – Я тебя очень люблю! – Я тебя тоже. Мы будем жить дальше, – он обнял меня. – Скоро Новый год. Давай ты пока с родными поговоришь? – Конечно. Они говорят, что они уехали на отдых и я не хочу никуда уходить. – Хорошо. Мне пора домой. – Хорошо. – Мама, можешь идти спать. Я, конечно, понимаю, что ты сейчас не в этом состоянии, но я тебя прошу... Я никогда не брошу тебя одну. Я хочу, чтобы тебе было хорошо! – Хорошо. До завтра. – Спокойной ночи. – Спокойной ночи. – Спокойной ночи! – И, мама... Я крепко обнимаю маму и прижимаюсь к ней... Она уходит из дома, и я остаюсь в одиночестве... Я не знаю, что теперь делать... Может просто не обращать внимания на их ссоры. Нет, я просто не могу так оставить их? Просто не могу, понимаешь? А они... Я хочу снова побыть один, хочу просто не думать о них. Они ушли в свои квартиры... Но их комнаты всегда были в моем распоряжении... Я не знаю, почему они там у себя, но я точно знаю, что там всегда есть кто-то, кто любит меня и поддерживает во всем... Я никогда никому не\n",
      "\n",
      "---\n",
      "CPU times: user 5.93 s, sys: 3.99 ms, total: 5.93 s\n",
      "Wall time: 5.93 s\n"
     ]
    }
   ],
   "source": [
    "%%time\n",
    "#set top_k = 40 and num_return_sequences = 3\n",
    "sample_outputs = model_all.generate(input_ids, pad_token_id=50264,\n",
    "                                   do_sample=True, \n",
    "                                   max_length=500, \n",
    "                                   min_length=10,\n",
    "                                   top_k=40,\n",
    "                                   num_return_sequences=3)\n",
    "\n",
    "for i, sample_output in enumerate(sample_outputs):\n",
    "    print(\">> Generated text {}\\n\\n{}\".format(i+1, tokenizer.decode(sample_output.tolist())))\n",
    "    print('\\n---')"
   ]
  },
  {
   "cell_type": "markdown",
   "metadata": {},
   "source": [
    "### Generating (Top-p nucleus sampling)"
   ]
  },
  {
   "cell_type": "code",
   "execution_count": 30,
   "metadata": {},
   "outputs": [
    {
     "name": "stdout",
     "output_type": "stream",
     "text": [
      ">> Generated text 1\n",
      "\n",
      "он посмотрел на меня. — Я не видел тебя, — произнёс он и улыбнулся. Мы смотрели друг другу в глаза. Он был прав, я действительно люблю его. - И ты тоже! – воскликнула я и обняла парня за шею, а затем поцеловала его в губы. Это было так неожиданно, что мне стало страшно, но это чувство не прошло бесследно, когда мы начали целоваться, чтобы поскорее убежать от этого разговора. Его руки обвивали мою талию и поглаживали её спину. У него были такие тёплые ладони, которые успокаивали меня, будто они просили прощения или любви у меня. - Мне пора идти, — сказал он. На улице стояла зима. Она была тёплой и дождливой. Зима вступила в свои права, но всё ещё казалась такой холодной. В воздухе витала атмосфера праздника. Изредка из-за туч выглядывали звёзды, но их свет всегда падал вниз, заставляя прохожих улыбаться. Снег быстро таял под лучами солнца, согревая нас своим теплом и лаской. Как же давно я ждала снега, ведь до того, как он пришёл к нам в гости, я даже представить себе не могла, насколько сильно влюбилась во снег. Ещё тогда мой взгляд упал на мужчину лет тридцати с тёмно-карими глазами, такими\n",
      "\n",
      "---\n",
      ">> Generated text 2\n",
      "\n",
      "он посмотрел на меня, и я не выдержал: — Вы что… — Я не могу понять, почему вы решили пожениться? — Почему же нет. В конце концов это моя жизнь! А теперь скажи мне честно, зачем ты сейчас женился?! — Потому что так надо было! И я тебе поверил! Ты мой лучший друг, а значит, должен был понимать, насколько сильно я люблю тебя, а у меня всегда были плохие намерения и чувства к этому человеку... Но как бы то ни было, свадьба была назначена через несколько дней после нашего знакомства. Так вот, в этот день я решил прогуляться с друзьями по городу, ведь мы уже были знакомы много лет! На улице стояла метель, но когда я вышел из подъезда своего дома, чтобы немного прийти домой, она прекратилась. Мне стало холодно. Я пошел за водой и начал пить чай, который сразу согревал мою душу. Вдруг я услышал голос своей лучшей подруги: «Прости, пожалуйста!». Она подошла ко мне сзади, взяла мои руки в свои и поцеловала в губы. — Милый, милый, прости! Мы больше никогда не увидимся! Все будет хорошо!.. *** С тех пор прошло три года. Когда-то давно я думал о ней, как о девушке, которая может подарить свою любовь\n",
      "\n",
      "---\n",
      ">> Generated text 3\n",
      "\n",
      "он посмотрел на меня, но промолчал. Мне показалось или его голос дрогнул? Я не знаю… Что было дальше? Я сидел и думал о том, что же произошло между мной и этим человеком. И вдруг, я увидел это странное место рядом с собой! Да, оно казалось мне знакомым. Это была одна из тех мест в городе. Там были какие-то деревья, похожие на деревья, только вместо листьев у них были растения, а все вокруг – трава и цветы. -Твою мать, ты как тут оказался?! Как сюда попал? -А где мы сейчас находимся? -В этом месте много деревьев... Ну, так вот, они растут там, на другом конце города. И когда я подошел поближе к ним, то увидел девушку лет двадцати пяти, которая стояла возле большого дерева и смотрела прямо на меня своими зелеными глазами цвета неба. Рядом с ней стоял парень примерно моего возраста, который был одет во всё чёрное, волосы немного растрепаны, на лице улыбка. Она подошла ко мне ближе и села передо мной на корточки, смотря на меня большими серыми глазами. «Вот какого хрена она смотрит на меня?» - подумал я про себя. Но потом я вспомнил тот день, когда видел эту девушку, и решил спросить ее: «Что за чертовщина\n",
      "\n",
      "---\n",
      "CPU times: user 3.57 s, sys: 7.98 ms, total: 3.58 s\n",
      "Wall time: 3.58 s\n"
     ]
    }
   ],
   "source": [
    "%%time\n",
    "sample_outputs = model_all.generate(input_ids, pad_token_id=50256,\n",
    "                                   do_sample=True,\n",
    "                                   max_length=250, \n",
    "                                   min_length=10,\n",
    "                                   repetition_penalty=1.2,\n",
    "                                   temperature=0.7,\n",
    "                                   top_k=50, \n",
    "                                   top_p=0.95, \n",
    "                                   num_return_sequences=3)\n",
    "\n",
    "for i, sample_output in enumerate(sample_outputs):\n",
    "    print(\">> Generated text {}\\n\\n{}\".format(i+1, tokenizer.decode(sample_output.tolist())))\n",
    "    print('\\n---')"
   ]
  },
  {
   "cell_type": "code",
   "execution_count": null,
   "metadata": {},
   "outputs": [],
   "source": []
  }
 ],
 "metadata": {
  "accelerator": "GPU",
  "colab": {
   "collapsed_sections": [],
   "name": "Ficbook_gpt.ipynb",
   "provenance": [],
   "toc_visible": true
  },
  "kernelspec": {
   "display_name": "Python 3",
   "language": "python",
   "name": "python3"
  },
  "language_info": {
   "codemirror_mode": {
    "name": "ipython",
    "version": 3
   },
   "file_extension": ".py",
   "mimetype": "text/x-python",
   "name": "python",
   "nbconvert_exporter": "python",
   "pygments_lexer": "ipython3",
   "version": "3.8.3"
  }
 },
 "nbformat": 4,
 "nbformat_minor": 1
}
